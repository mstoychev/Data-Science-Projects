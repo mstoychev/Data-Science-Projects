{
 "cells": [
  {
   "cell_type": "code",
   "execution_count": null,
   "id": "bfbd118d-8ae2-425e-bd31-1ff94ac804c2",
   "metadata": {},
   "outputs": [],
   "source": []
  },
  {
   "cell_type": "code",
   "execution_count": 1,
   "id": "4a627fc8-d43c-4161-86da-cc0291baa03f",
   "metadata": {},
   "outputs": [],
   "source": [
    "import pandas as pd\n",
    "import numpy as np"
   ]
  },
  {
   "cell_type": "markdown",
   "id": "cf9cd95c-26d5-40b8-b7f2-88967ea0b93f",
   "metadata": {},
   "source": [
    "1. Import the data\n",
    "\n",
    "El paso de preprocesar los datos se debe hacer en preprocess_data.py\n",
    "\n",
    "https://drive.google.com/file/d/16rdg0eP4e5Db99sAXwAQfSOvgUatOgLj/view?usp=sharing"
   ]
  },
  {
   "cell_type": "code",
   "execution_count": 26,
   "id": "bd912f02-1198-4a16-8eb1-fd9c34e02e15",
   "metadata": {},
   "outputs": [],
   "source": [
    "canada_videos = pd.read_csv(\"data/CAvideos.csv\")\n",
    "germany_videos = pd.read_csv(\"data/DEvideos.csv\")\n",
    "france_videos = pd.read_csv(\"data/FRvideos.csv\")\n",
    "united_kingdom_videos = pd.read_csv(\"data/GBvideos.csv\")\n",
    "india_videos = pd.read_csv(\"data/INvideos.csv\")\n",
    "japan_videos = pd.read_csv(\"data/JPvideos.csv\", encoding='latin1')\n",
    "south_korea_videos = pd.read_csv(\"data/KRvideos.csv\", encoding='latin1')\n",
    "mexico_videos = pd.read_csv(\"data/MXvideos.csv\", encoding='latin1')\n",
    "russia_videos = pd.read_csv(\"data/RUvideos.csv\", encoding='latin1')\n",
    "united_states_videos = pd.read_csv(\"data/USvideos.csv\")"
   ]
  },
  {
   "cell_type": "code",
   "execution_count": 27,
   "id": "061274d7-df1d-4b2d-8897-4be5fe75253a",
   "metadata": {},
   "outputs": [
    {
     "name": "stdout",
     "output_type": "stream",
     "text": [
      "(40881, 16)\n",
      "(40840, 16)\n",
      "(40724, 16)\n",
      "(38916, 16)\n",
      "(37352, 16)\n",
      "(20523, 16)\n",
      "(34567, 16)\n",
      "(40451, 16)\n",
      "(40739, 16)\n",
      "(40949, 16)\n"
     ]
    }
   ],
   "source": [
    "\n",
    "\n",
    "\n",
    "print(canada_videos.shape)\n",
    "print(germany_videos.shape)\n",
    "print(france_videos.shape)\n",
    "print(united_kingdom_videos.shape)\n",
    "print(india_videos.shape)\n",
    "print(japan_videos.shape)\n",
    "print(south_korea_videos.shape)\n",
    "print(mexico_videos.shape)\n",
    "print(russia_videos.shape)\n",
    "print(united_states_videos.shape)"
   ]
  },
  {
   "cell_type": "code",
   "execution_count": 32,
   "id": "32064e80-a488-4e62-87d9-741a459fb49b",
   "metadata": {},
   "outputs": [
    {
     "name": "stdout",
     "output_type": "stream",
     "text": [
      "All data have the same columns: True\n"
     ]
    }
   ],
   "source": [
    "# Store the DataFrames in a list\n",
    "dfs = [canada_videos, germany_videos, france_videos, united_kingdom_videos, india_videos, \n",
    "       japan_videos, south_korea_videos, mexico_videos,     russia_videos, united_states_videos]\n",
    "\n",
    "# Get the columns of the first DataFrame\n",
    "reference_columns = dfs[0].columns\n",
    "\n",
    "# Check if all DataFrames have the same columns\n",
    "all_have_same_columns = all(df.columns.equals(reference_columns) for df in dfs)\n",
    "\n",
    "# Print the result\n",
    "print(\"All data have the same columns:\", all_have_same_columns)"
   ]
  },
  {
   "cell_type": "code",
   "execution_count": null,
   "id": "e472a23e-024a-4406-b11c-7e04ccf22bb2",
   "metadata": {},
   "outputs": [],
   "source": []
  }
 ],
 "metadata": {
  "kernelspec": {
   "display_name": "Python 3 (ipykernel)",
   "language": "python",
   "name": "python3"
  },
  "language_info": {
   "codemirror_mode": {
    "name": "ipython",
    "version": 3
   },
   "file_extension": ".py",
   "mimetype": "text/x-python",
   "name": "python",
   "nbconvert_exporter": "python",
   "pygments_lexer": "ipython3",
   "version": "3.11.7"
  }
 },
 "nbformat": 4,
 "nbformat_minor": 5
}
