{
 "cells": [
  {
   "cell_type": "markdown",
   "id": "00aad601-7d35-47fc-b60b-38ef1fe080d5",
   "metadata": {},
   "source": [
    "# SQL Exercise\n",
    "Crea notebook de Jupyter y con la librería de SQLite realiza las siguientes consultas a la base de datos \"Chinook_Sqlite\" (archivo proporcionado junto con los apuntes de SQL). columnas."
   ]
  },
  {
   "cell_type": "code",
   "execution_count": 1,
   "id": "6de96107-0344-49a6-8205-a69a01f438da",
   "metadata": {},
   "outputs": [],
   "source": [
    "import sqlite3\n",
    "import pandas as pd"
   ]
  },
  {
   "cell_type": "code",
   "execution_count": 2,
   "id": "a74b6a51-cb20-4cc5-beb0-4c56331a2874",
   "metadata": {},
   "outputs": [],
   "source": [
    "# Connect to the database\n",
    "con = sqlite3.connect(\"data/Chinook_Sqlite.sqlite\") \n",
    "\n",
    "# Create a cursor\n",
    "cursor = con.cursor()"
   ]
  },
  {
   "cell_type": "markdown",
   "id": "5e765eae-b315-469e-b99b-4159c7b5a8ed",
   "metadata": {},
   "source": [
    "## Actividad 2-1 (Atención al cliente)\n",
    "\n",
    "Trabaja con la tabla Customer.\n",
    "\n",
    "- Muestra la columna Email.\n",
    "- Muestra la columna FirstName.\n",
    "- Muestra las columnas FirstName y LastName.\n",
    "- Muestra las columnas Address, Phone y Fax.\n",
    "- Muestra todas las columnas."
   ]
  },
  {
   "cell_type": "markdown",
   "id": "b3d036e7-2e5c-4488-9abb-73cbe437faf6",
   "metadata": {},
   "source": [
    "**1. Muestra la columna Email.**"
   ]
  },
  {
   "cell_type": "code",
   "execution_count": 8,
   "id": "de050139-cb58-420c-9d89-865a751116cf",
   "metadata": {},
   "outputs": [
    {
     "data": {
      "text/html": [
       "<div>\n",
       "<style scoped>\n",
       "    .dataframe tbody tr th:only-of-type {\n",
       "        vertical-align: middle;\n",
       "    }\n",
       "\n",
       "    .dataframe tbody tr th {\n",
       "        vertical-align: top;\n",
       "    }\n",
       "\n",
       "    .dataframe thead th {\n",
       "        text-align: right;\n",
       "    }\n",
       "</style>\n",
       "<table border=\"1\" class=\"dataframe\">\n",
       "  <thead>\n",
       "    <tr style=\"text-align: right;\">\n",
       "      <th></th>\n",
       "      <th>Email</th>\n",
       "    </tr>\n",
       "  </thead>\n",
       "  <tbody>\n",
       "    <tr>\n",
       "      <th>0</th>\n",
       "      <td>luisg@embraer.com.br</td>\n",
       "    </tr>\n",
       "    <tr>\n",
       "      <th>1</th>\n",
       "      <td>leonekohler@surfeu.de</td>\n",
       "    </tr>\n",
       "    <tr>\n",
       "      <th>2</th>\n",
       "      <td>ftremblay@gmail.com</td>\n",
       "    </tr>\n",
       "    <tr>\n",
       "      <th>3</th>\n",
       "      <td>bjorn.hansen@yahoo.no</td>\n",
       "    </tr>\n",
       "    <tr>\n",
       "      <th>4</th>\n",
       "      <td>frantisekw@jetbrains.com</td>\n",
       "    </tr>\n",
       "    <tr>\n",
       "      <th>5</th>\n",
       "      <td>hholy@gmail.com</td>\n",
       "    </tr>\n",
       "    <tr>\n",
       "      <th>6</th>\n",
       "      <td>astrid.gruber@apple.at</td>\n",
       "    </tr>\n",
       "    <tr>\n",
       "      <th>7</th>\n",
       "      <td>daan_peeters@apple.be</td>\n",
       "    </tr>\n",
       "    <tr>\n",
       "      <th>8</th>\n",
       "      <td>kara.nielsen@jubii.dk</td>\n",
       "    </tr>\n",
       "    <tr>\n",
       "      <th>9</th>\n",
       "      <td>eduardo@woodstock.com.br</td>\n",
       "    </tr>\n",
       "  </tbody>\n",
       "</table>\n",
       "</div>"
      ],
      "text/plain": [
       "                      Email\n",
       "0      luisg@embraer.com.br\n",
       "1     leonekohler@surfeu.de\n",
       "2       ftremblay@gmail.com\n",
       "3     bjorn.hansen@yahoo.no\n",
       "4  frantisekw@jetbrains.com\n",
       "5           hholy@gmail.com\n",
       "6    astrid.gruber@apple.at\n",
       "7     daan_peeters@apple.be\n",
       "8     kara.nielsen@jubii.dk\n",
       "9  eduardo@woodstock.com.br"
      ]
     },
     "execution_count": 8,
     "metadata": {},
     "output_type": "execute_result"
    }
   ],
   "source": [
    "query = \"SELECT Email FROM Customer\"\n",
    "\n",
    "# Run the query and get the results\n",
    "cursor.execute(query)\n",
    "emails = cursor.fetchall()\n",
    "\n",
    "# Convert the results to a DataFrame of pandas for better visualization.\n",
    "emails_df = pd.DataFrame(emails, columns=['Email'])\n",
    "\n",
    "emails_df.head(10)"
   ]
  },
  {
   "cell_type": "markdown",
   "id": "20eb1acd-5ab0-46cf-a27c-443de5c0c88b",
   "metadata": {},
   "source": [
    "**2. Muestra la columna FirstName.**"
   ]
  },
  {
   "cell_type": "code",
   "execution_count": 9,
   "id": "aa17630b-51b8-4d51-98de-1805fb2be977",
   "metadata": {},
   "outputs": [
    {
     "data": {
      "text/html": [
       "<div>\n",
       "<style scoped>\n",
       "    .dataframe tbody tr th:only-of-type {\n",
       "        vertical-align: middle;\n",
       "    }\n",
       "\n",
       "    .dataframe tbody tr th {\n",
       "        vertical-align: top;\n",
       "    }\n",
       "\n",
       "    .dataframe thead th {\n",
       "        text-align: right;\n",
       "    }\n",
       "</style>\n",
       "<table border=\"1\" class=\"dataframe\">\n",
       "  <thead>\n",
       "    <tr style=\"text-align: right;\">\n",
       "      <th></th>\n",
       "      <th>First Name</th>\n",
       "    </tr>\n",
       "  </thead>\n",
       "  <tbody>\n",
       "    <tr>\n",
       "      <th>0</th>\n",
       "      <td>Luís</td>\n",
       "    </tr>\n",
       "    <tr>\n",
       "      <th>1</th>\n",
       "      <td>Leonie</td>\n",
       "    </tr>\n",
       "    <tr>\n",
       "      <th>2</th>\n",
       "      <td>François</td>\n",
       "    </tr>\n",
       "    <tr>\n",
       "      <th>3</th>\n",
       "      <td>Bjørn</td>\n",
       "    </tr>\n",
       "    <tr>\n",
       "      <th>4</th>\n",
       "      <td>František</td>\n",
       "    </tr>\n",
       "    <tr>\n",
       "      <th>5</th>\n",
       "      <td>Helena</td>\n",
       "    </tr>\n",
       "    <tr>\n",
       "      <th>6</th>\n",
       "      <td>Astrid</td>\n",
       "    </tr>\n",
       "    <tr>\n",
       "      <th>7</th>\n",
       "      <td>Daan</td>\n",
       "    </tr>\n",
       "    <tr>\n",
       "      <th>8</th>\n",
       "      <td>Kara</td>\n",
       "    </tr>\n",
       "    <tr>\n",
       "      <th>9</th>\n",
       "      <td>Eduardo</td>\n",
       "    </tr>\n",
       "  </tbody>\n",
       "</table>\n",
       "</div>"
      ],
      "text/plain": [
       "  First Name\n",
       "0       Luís\n",
       "1     Leonie\n",
       "2   François\n",
       "3      Bjørn\n",
       "4  František\n",
       "5     Helena\n",
       "6     Astrid\n",
       "7       Daan\n",
       "8       Kara\n",
       "9    Eduardo"
      ]
     },
     "execution_count": 9,
     "metadata": {},
     "output_type": "execute_result"
    }
   ],
   "source": [
    "query = \"SELECT FirstName FROM Customer\"\n",
    "\n",
    "cursor.execute(query)\n",
    "first_name = cursor.fetchall()\n",
    "\n",
    "first_name_df = pd.DataFrame(first_name, columns=[\"First Name\"])\n",
    "first_name_df.head(10)"
   ]
  },
  {
   "cell_type": "markdown",
   "id": "36a6aa50-1fad-4d7d-b2ed-10a4ae316844",
   "metadata": {},
   "source": [
    "**3. Muestra las columnas FirstName y LastName.**"
   ]
  },
  {
   "cell_type": "code",
   "execution_count": 10,
   "id": "85f04910-4e9c-44cd-bc6a-d376a031d0de",
   "metadata": {},
   "outputs": [
    {
     "data": {
      "text/html": [
       "<div>\n",
       "<style scoped>\n",
       "    .dataframe tbody tr th:only-of-type {\n",
       "        vertical-align: middle;\n",
       "    }\n",
       "\n",
       "    .dataframe tbody tr th {\n",
       "        vertical-align: top;\n",
       "    }\n",
       "\n",
       "    .dataframe thead th {\n",
       "        text-align: right;\n",
       "    }\n",
       "</style>\n",
       "<table border=\"1\" class=\"dataframe\">\n",
       "  <thead>\n",
       "    <tr style=\"text-align: right;\">\n",
       "      <th></th>\n",
       "      <th>First Name</th>\n",
       "      <th>Last Name</th>\n",
       "    </tr>\n",
       "  </thead>\n",
       "  <tbody>\n",
       "    <tr>\n",
       "      <th>0</th>\n",
       "      <td>Luís</td>\n",
       "      <td>Gonçalves</td>\n",
       "    </tr>\n",
       "    <tr>\n",
       "      <th>1</th>\n",
       "      <td>Leonie</td>\n",
       "      <td>Köhler</td>\n",
       "    </tr>\n",
       "    <tr>\n",
       "      <th>2</th>\n",
       "      <td>François</td>\n",
       "      <td>Tremblay</td>\n",
       "    </tr>\n",
       "    <tr>\n",
       "      <th>3</th>\n",
       "      <td>Bjørn</td>\n",
       "      <td>Hansen</td>\n",
       "    </tr>\n",
       "    <tr>\n",
       "      <th>4</th>\n",
       "      <td>František</td>\n",
       "      <td>Wichterlová</td>\n",
       "    </tr>\n",
       "  </tbody>\n",
       "</table>\n",
       "</div>"
      ],
      "text/plain": [
       "  First Name    Last Name\n",
       "0       Luís    Gonçalves\n",
       "1     Leonie       Köhler\n",
       "2   François     Tremblay\n",
       "3      Bjørn       Hansen\n",
       "4  František  Wichterlová"
      ]
     },
     "execution_count": 10,
     "metadata": {},
     "output_type": "execute_result"
    }
   ],
   "source": [
    "query = \"SELECT FirstName, LastName FROM Customer\"\n",
    "\n",
    "cursor.execute(query)\n",
    "full_name = cursor.fetchall()\n",
    "\n",
    "full_name_df = pd.DataFrame(full_name, columns=[\"First Name\", \"Last Name\"])\n",
    "full_name_df.head()"
   ]
  },
  {
   "cell_type": "markdown",
   "id": "12d757ac-6af2-4ec9-aefa-b20fd7e28a64",
   "metadata": {},
   "source": [
    "**4. Muestra las columnas Address, Phone y Fax.**"
   ]
  },
  {
   "cell_type": "code",
   "execution_count": 11,
   "id": "0f50370a-ccc6-4a1b-bc0f-1b889196cc66",
   "metadata": {},
   "outputs": [
    {
     "data": {
      "text/html": [
       "<div>\n",
       "<style scoped>\n",
       "    .dataframe tbody tr th:only-of-type {\n",
       "        vertical-align: middle;\n",
       "    }\n",
       "\n",
       "    .dataframe tbody tr th {\n",
       "        vertical-align: top;\n",
       "    }\n",
       "\n",
       "    .dataframe thead th {\n",
       "        text-align: right;\n",
       "    }\n",
       "</style>\n",
       "<table border=\"1\" class=\"dataframe\">\n",
       "  <thead>\n",
       "    <tr style=\"text-align: right;\">\n",
       "      <th></th>\n",
       "      <th>Address</th>\n",
       "      <th>Phone</th>\n",
       "      <th>Fax</th>\n",
       "    </tr>\n",
       "  </thead>\n",
       "  <tbody>\n",
       "    <tr>\n",
       "      <th>0</th>\n",
       "      <td>Av. Brigadeiro Faria Lima, 2170</td>\n",
       "      <td>+55 (12) 3923-5555</td>\n",
       "      <td>+55 (12) 3923-5566</td>\n",
       "    </tr>\n",
       "    <tr>\n",
       "      <th>1</th>\n",
       "      <td>Theodor-Heuss-Straße 34</td>\n",
       "      <td>+49 0711 2842222</td>\n",
       "      <td>None</td>\n",
       "    </tr>\n",
       "    <tr>\n",
       "      <th>2</th>\n",
       "      <td>1498 rue Bélanger</td>\n",
       "      <td>+1 (514) 721-4711</td>\n",
       "      <td>None</td>\n",
       "    </tr>\n",
       "    <tr>\n",
       "      <th>3</th>\n",
       "      <td>Ullevålsveien 14</td>\n",
       "      <td>+47 22 44 22 22</td>\n",
       "      <td>None</td>\n",
       "    </tr>\n",
       "    <tr>\n",
       "      <th>4</th>\n",
       "      <td>Klanova 9/506</td>\n",
       "      <td>+420 2 4172 5555</td>\n",
       "      <td>+420 2 4172 5555</td>\n",
       "    </tr>\n",
       "    <tr>\n",
       "      <th>5</th>\n",
       "      <td>Rilská 3174/6</td>\n",
       "      <td>+420 2 4177 0449</td>\n",
       "      <td>None</td>\n",
       "    </tr>\n",
       "    <tr>\n",
       "      <th>6</th>\n",
       "      <td>Rotenturmstraße 4, 1010 Innere Stadt</td>\n",
       "      <td>+43 01 5134505</td>\n",
       "      <td>None</td>\n",
       "    </tr>\n",
       "    <tr>\n",
       "      <th>7</th>\n",
       "      <td>Grétrystraat 63</td>\n",
       "      <td>+32 02 219 03 03</td>\n",
       "      <td>None</td>\n",
       "    </tr>\n",
       "    <tr>\n",
       "      <th>8</th>\n",
       "      <td>Sønder Boulevard 51</td>\n",
       "      <td>+453 3331 9991</td>\n",
       "      <td>None</td>\n",
       "    </tr>\n",
       "    <tr>\n",
       "      <th>9</th>\n",
       "      <td>Rua Dr. Falcão Filho, 155</td>\n",
       "      <td>+55 (11) 3033-5446</td>\n",
       "      <td>+55 (11) 3033-4564</td>\n",
       "    </tr>\n",
       "  </tbody>\n",
       "</table>\n",
       "</div>"
      ],
      "text/plain": [
       "                                Address               Phone  \\\n",
       "0       Av. Brigadeiro Faria Lima, 2170  +55 (12) 3923-5555   \n",
       "1               Theodor-Heuss-Straße 34    +49 0711 2842222   \n",
       "2                     1498 rue Bélanger   +1 (514) 721-4711   \n",
       "3                      Ullevålsveien 14     +47 22 44 22 22   \n",
       "4                         Klanova 9/506    +420 2 4172 5555   \n",
       "5                         Rilská 3174/6    +420 2 4177 0449   \n",
       "6  Rotenturmstraße 4, 1010 Innere Stadt      +43 01 5134505   \n",
       "7                       Grétrystraat 63    +32 02 219 03 03   \n",
       "8                   Sønder Boulevard 51      +453 3331 9991   \n",
       "9             Rua Dr. Falcão Filho, 155  +55 (11) 3033-5446   \n",
       "\n",
       "                  Fax  \n",
       "0  +55 (12) 3923-5566  \n",
       "1                None  \n",
       "2                None  \n",
       "3                None  \n",
       "4    +420 2 4172 5555  \n",
       "5                None  \n",
       "6                None  \n",
       "7                None  \n",
       "8                None  \n",
       "9  +55 (11) 3033-4564  "
      ]
     },
     "execution_count": 11,
     "metadata": {},
     "output_type": "execute_result"
    }
   ],
   "source": [
    "query = \"SELECT Address, Phone, Fax FROM Customer\"\n",
    "\n",
    "cursor.execute(query)\n",
    "adress = cursor.fetchall()\n",
    "\n",
    "address_df = pd.DataFrame(adress, columns=[\"Address\", \"Phone\", \"Fax\"])\n",
    "address_df.head(10)"
   ]
  },
  {
   "cell_type": "markdown",
   "id": "20e52e0d-f0cc-4d1a-8b15-49e0cf068905",
   "metadata": {},
   "source": [
    "**5. Muestra todas las columnas.**"
   ]
  },
  {
   "cell_type": "code",
   "execution_count": 15,
   "id": "093ab551-5ebd-4f6a-a199-972865464e2f",
   "metadata": {},
   "outputs": [
    {
     "data": {
      "text/html": [
       "<div>\n",
       "<style scoped>\n",
       "    .dataframe tbody tr th:only-of-type {\n",
       "        vertical-align: middle;\n",
       "    }\n",
       "\n",
       "    .dataframe tbody tr th {\n",
       "        vertical-align: top;\n",
       "    }\n",
       "\n",
       "    .dataframe thead tr th {\n",
       "        text-align: left;\n",
       "    }\n",
       "</style>\n",
       "<table border=\"1\" class=\"dataframe\">\n",
       "  <thead>\n",
       "    <tr>\n",
       "      <th></th>\n",
       "      <th>CustomerId</th>\n",
       "      <th>FirstName</th>\n",
       "      <th>LastName</th>\n",
       "      <th>Company</th>\n",
       "      <th>Address</th>\n",
       "      <th>City</th>\n",
       "      <th>State</th>\n",
       "      <th>Country</th>\n",
       "      <th>PostalCode</th>\n",
       "      <th>Phone</th>\n",
       "      <th>Fax</th>\n",
       "      <th>Email</th>\n",
       "      <th>SupportRepId</th>\n",
       "    </tr>\n",
       "  </thead>\n",
       "  <tbody>\n",
       "    <tr>\n",
       "      <th>0</th>\n",
       "      <td>1</td>\n",
       "      <td>Luís</td>\n",
       "      <td>Gonçalves</td>\n",
       "      <td>Embraer - Empresa Brasileira de Aeronáutica S.A.</td>\n",
       "      <td>Av. Brigadeiro Faria Lima, 2170</td>\n",
       "      <td>São José dos Campos</td>\n",
       "      <td>SP</td>\n",
       "      <td>Brazil</td>\n",
       "      <td>12227-000</td>\n",
       "      <td>+55 (12) 3923-5555</td>\n",
       "      <td>+55 (12) 3923-5566</td>\n",
       "      <td>luisg@embraer.com.br</td>\n",
       "      <td>3</td>\n",
       "    </tr>\n",
       "    <tr>\n",
       "      <th>1</th>\n",
       "      <td>2</td>\n",
       "      <td>Leonie</td>\n",
       "      <td>Köhler</td>\n",
       "      <td>None</td>\n",
       "      <td>Theodor-Heuss-Straße 34</td>\n",
       "      <td>Stuttgart</td>\n",
       "      <td>None</td>\n",
       "      <td>Germany</td>\n",
       "      <td>70174</td>\n",
       "      <td>+49 0711 2842222</td>\n",
       "      <td>None</td>\n",
       "      <td>leonekohler@surfeu.de</td>\n",
       "      <td>5</td>\n",
       "    </tr>\n",
       "    <tr>\n",
       "      <th>2</th>\n",
       "      <td>3</td>\n",
       "      <td>François</td>\n",
       "      <td>Tremblay</td>\n",
       "      <td>None</td>\n",
       "      <td>1498 rue Bélanger</td>\n",
       "      <td>Montréal</td>\n",
       "      <td>QC</td>\n",
       "      <td>Canada</td>\n",
       "      <td>H2G 1A7</td>\n",
       "      <td>+1 (514) 721-4711</td>\n",
       "      <td>None</td>\n",
       "      <td>ftremblay@gmail.com</td>\n",
       "      <td>3</td>\n",
       "    </tr>\n",
       "    <tr>\n",
       "      <th>3</th>\n",
       "      <td>4</td>\n",
       "      <td>Bjørn</td>\n",
       "      <td>Hansen</td>\n",
       "      <td>None</td>\n",
       "      <td>Ullevålsveien 14</td>\n",
       "      <td>Oslo</td>\n",
       "      <td>None</td>\n",
       "      <td>Norway</td>\n",
       "      <td>0171</td>\n",
       "      <td>+47 22 44 22 22</td>\n",
       "      <td>None</td>\n",
       "      <td>bjorn.hansen@yahoo.no</td>\n",
       "      <td>4</td>\n",
       "    </tr>\n",
       "    <tr>\n",
       "      <th>4</th>\n",
       "      <td>5</td>\n",
       "      <td>František</td>\n",
       "      <td>Wichterlová</td>\n",
       "      <td>JetBrains s.r.o.</td>\n",
       "      <td>Klanova 9/506</td>\n",
       "      <td>Prague</td>\n",
       "      <td>None</td>\n",
       "      <td>Czech Republic</td>\n",
       "      <td>14700</td>\n",
       "      <td>+420 2 4172 5555</td>\n",
       "      <td>+420 2 4172 5555</td>\n",
       "      <td>frantisekw@jetbrains.com</td>\n",
       "      <td>4</td>\n",
       "    </tr>\n",
       "  </tbody>\n",
       "</table>\n",
       "</div>"
      ],
      "text/plain": [
       "  CustomerId  FirstName     LastName  \\\n",
       "0          1       Luís    Gonçalves   \n",
       "1          2     Leonie       Köhler   \n",
       "2          3   François     Tremblay   \n",
       "3          4      Bjørn       Hansen   \n",
       "4          5  František  Wichterlová   \n",
       "\n",
       "                                            Company  \\\n",
       "0  Embraer - Empresa Brasileira de Aeronáutica S.A.   \n",
       "1                                              None   \n",
       "2                                              None   \n",
       "3                                              None   \n",
       "4                                  JetBrains s.r.o.   \n",
       "\n",
       "                           Address                 City State         Country  \\\n",
       "0  Av. Brigadeiro Faria Lima, 2170  São José dos Campos    SP          Brazil   \n",
       "1          Theodor-Heuss-Straße 34            Stuttgart  None         Germany   \n",
       "2                1498 rue Bélanger             Montréal    QC          Canada   \n",
       "3                 Ullevålsveien 14                 Oslo  None          Norway   \n",
       "4                    Klanova 9/506               Prague  None  Czech Republic   \n",
       "\n",
       "  PostalCode               Phone                 Fax  \\\n",
       "0  12227-000  +55 (12) 3923-5555  +55 (12) 3923-5566   \n",
       "1      70174    +49 0711 2842222                None   \n",
       "2    H2G 1A7   +1 (514) 721-4711                None   \n",
       "3       0171     +47 22 44 22 22                None   \n",
       "4      14700    +420 2 4172 5555    +420 2 4172 5555   \n",
       "\n",
       "                      Email SupportRepId  \n",
       "0      luisg@embraer.com.br            3  \n",
       "1     leonekohler@surfeu.de            5  \n",
       "2       ftremblay@gmail.com            3  \n",
       "3     bjorn.hansen@yahoo.no            4  \n",
       "4  frantisekw@jetbrains.com            4  "
      ]
     },
     "execution_count": 15,
     "metadata": {},
     "output_type": "execute_result"
    }
   ],
   "source": [
    "query = \"SELECT * FROM Customer\"\n",
    "\n",
    "cursor.execute(query)\n",
    "customer = cursor.fetchall()\n",
    "\n",
    "column_names = [description[0] for description in cursor.description]\n",
    "\n",
    "customer_df = pd.DataFrame(customer, columns=[column_names])\n",
    "customer_df.head()"
   ]
  },
  {
   "cell_type": "markdown",
   "id": "7efabd42-1f08-4238-80cb-ae255afee91c",
   "metadata": {},
   "source": [
    "## Actividad 3-1 (Ordenando a mi manera)\n",
    "Ordena la tabla de géneros (Genre) por orden alfabético.\n",
    "\n",
    "Corta los resultados para que solo se muestren los 6 primeros.\n",
    "\n",
    "Subir Nota:\n",
    "- Muestra las últimas 2 filas de la tabla."
   ]
  },
  {
   "cell_type": "markdown",
   "id": "f699e199-6f3b-4213-b175-c16edeecf12b",
   "metadata": {},
   "source": [
    "**1. Ordena la tabla de géneros (Genre) por orden alfabético.**"
   ]
  },
  {
   "cell_type": "code",
   "execution_count": null,
   "id": "d247bd6e-e7d8-41aa-801f-d8a66ae9473b",
   "metadata": {},
   "outputs": [],
   "source": []
  },
  {
   "cell_type": "markdown",
   "id": "72329e40-d962-45df-9e4c-93ef809b793d",
   "metadata": {},
   "source": [
    "**2. Corta los resultados para que solo se muestren los 6 primeros.**"
   ]
  },
  {
   "cell_type": "code",
   "execution_count": null,
   "id": "88f1f9e0-a2a9-4c24-8ede-25c85e6d7590",
   "metadata": {},
   "outputs": [],
   "source": []
  },
  {
   "cell_type": "markdown",
   "id": "1481c48e-0a24-4ff0-b4af-231dd11348f3",
   "metadata": {},
   "source": [
    "**3. Muestra las últimas 2 filas de la tabla.**"
   ]
  },
  {
   "cell_type": "code",
   "execution_count": null,
   "id": "823ec64c-c204-47f5-b584-bd149ffabe57",
   "metadata": {},
   "outputs": [],
   "source": []
  },
  {
   "cell_type": "markdown",
   "id": "08a7e2cb-b4f1-4ab1-bca3-ecbd0b0faeaa",
   "metadata": {
    "jp-MarkdownHeadingCollapsed": true
   },
   "source": [
    "## Actividad 3-2 (En busca del peor cliente)\n",
    "Volvemos a usar la tabla Customer.\n",
    "\n",
    "* Muestra los usuarios que han reportado más de 3 incidencia (columna donde se cuentan es SupportRepid)\n",
    "* Filtra los resultados anteriores por los que viven en Brasil.\n",
    "* Muestra a los usuarios que tengan un código postal empezado en 7.\n",
    "* Muestra a los usuarios que tengan un email de hotmail.\n",
    "* Muestra los usuarios nacidos en Estados Unidos (USA) o Canadá (Canada).\n",
    "* De los resultados anteriores, muestra los que tengan un email de gmail.\n",
    "* Muestra al usuario que trabaja en Apple (columna Company). Te aviso que no sabes el formato de la compañía, podría ser: Apple SL, Company Apple, APPLE…\n",
    "* Muestra los usuario que han reportado entre 3 y 4 incidencias."
   ]
  },
  {
   "cell_type": "markdown",
   "id": "d9c08e9f-66ee-443a-a98c-2d3ed0eaf6b0",
   "metadata": {},
   "source": [
    "**1. Muestra los usuarios que han reportado más de 3 incidencia (columna donde se cuentan es SupportRepid)**"
   ]
  },
  {
   "cell_type": "code",
   "execution_count": null,
   "id": "8565095f-6a48-449f-b1ff-35eb3f10bdc4",
   "metadata": {},
   "outputs": [],
   "source": []
  },
  {
   "cell_type": "markdown",
   "id": "7b65bbd1-d9d6-4531-a20f-af285ca51eda",
   "metadata": {},
   "source": [
    "**2. Filtra los resultados anteriores por los que viven en Brasil.**"
   ]
  },
  {
   "cell_type": "code",
   "execution_count": null,
   "id": "57087399-c0af-4d8e-804a-266e676637a2",
   "metadata": {},
   "outputs": [],
   "source": []
  },
  {
   "cell_type": "markdown",
   "id": "e3e037c6-2641-4dc9-83f5-06137c295b75",
   "metadata": {},
   "source": [
    "**3. Muestra a los usuarios que tengan un código postal empezado en 7.**"
   ]
  },
  {
   "cell_type": "code",
   "execution_count": null,
   "id": "41b6bca0-17cc-4a74-a7cd-5905b099bcf5",
   "metadata": {},
   "outputs": [],
   "source": []
  },
  {
   "cell_type": "markdown",
   "id": "051f3adf-7080-40e5-82d2-54eddc0637d9",
   "metadata": {},
   "source": [
    "**4. Muestra a los usuarios que tengan un email de hotmail.**"
   ]
  },
  {
   "cell_type": "code",
   "execution_count": null,
   "id": "3d6c4ce1-2189-4505-a687-6aac6dd372c1",
   "metadata": {},
   "outputs": [],
   "source": []
  },
  {
   "cell_type": "markdown",
   "id": "7c2cccf4-e6d2-4d0d-a06b-ec10c5329538",
   "metadata": {},
   "source": [
    "**5. Muestra los usuarios nacidos en Estados Unidos (USA) o Canadá (Canada).**"
   ]
  },
  {
   "cell_type": "code",
   "execution_count": null,
   "id": "dd6aa580-2541-4025-9649-631c447f3125",
   "metadata": {},
   "outputs": [],
   "source": []
  },
  {
   "cell_type": "markdown",
   "id": "12bba000-d60e-4de6-b1b7-8bc01f2007a5",
   "metadata": {},
   "source": [
    "**6. De los resultados anteriores, muestra los que tengan un email de gmail.**"
   ]
  },
  {
   "cell_type": "code",
   "execution_count": null,
   "id": "c42cdd4f-2b39-4f8b-9440-48f77c8d9f0a",
   "metadata": {},
   "outputs": [],
   "source": []
  },
  {
   "cell_type": "markdown",
   "id": "20afcbe6-d257-4264-b511-cc6ddcb31710",
   "metadata": {},
   "source": [
    "**7. Muestra al usuario que trabaja en Apple (columna Company). Te aviso que no sabes el formato de la compañía, podría ser: Apple SL, Company Apple, APPLE…**"
   ]
  },
  {
   "cell_type": "code",
   "execution_count": null,
   "id": "636cab3f-216b-4c33-9ae6-2dec96712215",
   "metadata": {},
   "outputs": [],
   "source": []
  },
  {
   "cell_type": "markdown",
   "id": "d76790d4-b0e6-4b3b-a8a6-94f5172579ac",
   "metadata": {},
   "source": [
    "**8. Muestra los usuario que han reportado entre 3 y 4 incidencias.**"
   ]
  },
  {
   "cell_type": "code",
   "execution_count": null,
   "id": "1bf5fa1e-ee22-48da-afeb-d11bb34607d4",
   "metadata": {},
   "outputs": [],
   "source": []
  }
 ],
 "metadata": {
  "kernelspec": {
   "display_name": "Python 3 (ipykernel)",
   "language": "python",
   "name": "python3"
  },
  "language_info": {
   "codemirror_mode": {
    "name": "ipython",
    "version": 3
   },
   "file_extension": ".py",
   "mimetype": "text/x-python",
   "name": "python",
   "nbconvert_exporter": "python",
   "pygments_lexer": "ipython3",
   "version": "3.11.7"
  }
 },
 "nbformat": 4,
 "nbformat_minor": 5
}
