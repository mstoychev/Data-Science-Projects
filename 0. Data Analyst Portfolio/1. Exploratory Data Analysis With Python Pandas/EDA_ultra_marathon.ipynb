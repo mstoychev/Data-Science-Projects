{
 "cells": [
  {
   "cell_type": "markdown",
   "id": "b107a043-4db7-423b-ac14-34c61c0e3d1e",
   "metadata": {},
   "source": [
    "# The big dataset of ultra-marathon running\n",
    "# Exploratory Data Analysis\n",
    "https://www.kaggle.com/datasets/aiaiaidavid/the-big-dataset-of-ultra-marathon-running"
   ]
  },
  {
   "cell_type": "code",
   "execution_count": null,
   "id": "3506ed09-20be-4f96-8f79-e8a7ad2f75d8",
   "metadata": {},
   "outputs": [],
   "source": [
    "import pandas as pd\n",
    "import seaborn as sns\n",
    "import matplotlib.pyplot as plt"
   ]
  },
  {
   "cell_type": "code",
   "execution_count": null,
   "id": "b6756266-1974-4aa0-9027-47a9cff68b3e",
   "metadata": {},
   "outputs": [],
   "source": [
    "data = pd.read_csv(\"TWO_CENTURIES_OF_UM_RACES.csv\", sep=\",\", low_memory=False)\n",
    "print(data.shape)\n",
    "data.head()"
   ]
  },
  {
   "cell_type": "markdown",
   "id": "ea5f72a2-993e-4c50-a867-ccbd2b0e933d",
   "metadata": {},
   "source": [
    "## Rename Columns"
   ]
  },
  {
   "cell_type": "code",
   "execution_count": null,
   "id": "d1e5dbd6-099d-4b80-aa69-a1d50c99aa62",
   "metadata": {
    "scrolled": true
   },
   "outputs": [],
   "source": [
    "# Rename columns to snake_case\n",
    "data.columns = [col.lower().replace(' ', '_') for col in data.columns]\n",
    "data.rename(columns={\"event_distance/length\": \"race_length\"}, inplace=True)\n",
    "data.head()"
   ]
  },
  {
   "cell_type": "code",
   "execution_count": null,
   "id": "53af1767-5e07-4b75-9a0e-b57a2958128a",
   "metadata": {},
   "outputs": [],
   "source": [
    "data.info()"
   ]
  },
  {
   "cell_type": "markdown",
   "id": "877fe7c1-5fbd-40bf-9cf5-400e0352f16f",
   "metadata": {},
   "source": [
    "This dataset is enormous. My intention is to show my skills in this portfolio, so let´s select a **subset of data**: \n",
    "- USA\n",
    "- 50 km or 50 mi\n",
    "- 2020\n",
    "\n",
    "I´m going to use some different pandas skills to do the same work.\n",
    "- == operator\n",
    "- isin()"
   ]
  },
  {
   "cell_type": "code",
   "execution_count": null,
   "id": "31bfd040-9f65-4fa9-a328-367d34536ea7",
   "metadata": {
    "scrolled": true
   },
   "outputs": [],
   "source": [
    "# SKILLS\n",
    "# == operator\n",
    "data[(data[\"race_length\"] == \"50km\") | (data[\"race_length\"] == \"50mi\")]"
   ]
  },
  {
   "cell_type": "code",
   "execution_count": null,
   "id": "084b2807-571c-402f-b945-8d9f164c26f2",
   "metadata": {},
   "outputs": [],
   "source": [
    "# SKILLS\n",
    "# isin()\n",
    "data[data[\"race_length\"].isin([\"50km\", \"50mi\"])]"
   ]
  },
  {
   "cell_type": "code",
   "execution_count": null,
   "id": "ec814506-d31a-4c8e-975d-508cf8bfd979",
   "metadata": {},
   "outputs": [],
   "source": [
    "# Now, let´s obtain the next subset 2020, 50km/50mi\n",
    "data[(data[\"race_length\"].isin([\"50km\", \"50mi\"])) & (data[\"year_of_event\"] == 2020)]"
   ]
  },
  {
   "cell_type": "markdown",
   "id": "e2717848-1609-470d-9f33-baba363e2fb5",
   "metadata": {},
   "source": [
    "There is no colum with the country, but actually we have the \"Event name\" column. All of them have a pattern. Let´s work with it."
   ]
  },
  {
   "cell_type": "code",
   "execution_count": null,
   "id": "69f5973d-4def-4f86-af8e-a2a8f31ceb4c",
   "metadata": {},
   "outputs": [],
   "source": [
    "# Extract country from Event column\n",
    "# use regex\n",
    "data[\"event_country\"] = data['event_name'].str.extract(r'\\((.*?)\\)')\n",
    "print(data.event_country.unique())\n",
    "data.head()"
   ]
  },
  {
   "cell_type": "code",
   "execution_count": null,
   "id": "d16fc73c-01fe-4aa0-b237-009728e0ed18",
   "metadata": {},
   "outputs": [],
   "source": [
    "# use python for cycle\n",
    "def extract_country(event):\n",
    "    start_index = event.find('(') + 1\n",
    "    end_index = event.find(')')\n",
    "    return event[start_index:end_index]\n",
    "\n",
    "data['event_country'] = data['event_name'].apply(extract_country)\n",
    "print(data.event_country.unique())\n",
    "data.head()"
   ]
  },
  {
   "cell_type": "markdown",
   "id": "31076540-603a-42f0-95ca-516b1f24941a",
   "metadata": {},
   "source": [
    "It does not seem to work properly. But to get the subset of the event in the USA, I think it could be useful."
   ]
  },
  {
   "cell_type": "code",
   "execution_count": null,
   "id": "fb4b4bae-2ab2-48c3-8766-7a1f279450ab",
   "metadata": {
    "scrolled": true
   },
   "outputs": [],
   "source": [
    "# Now, let´s obtain the next subset 2020, USA, 50km/50mi\n",
    "data_usa = data[(data[\"event_distance/length\"].isin([\"50km\", \"50mi\"])) & (data[\"year_of_event\"] == 2020) & (data[\"event_country\"] == \"USA\")]\n",
    "data_usa = data_usa.drop(\"event_country\", axis = 1)\n",
    "print(data_usa.shape)\n",
    "data_usa.head()"
   ]
  },
  {
   "cell_type": "raw",
   "id": "55b3a1a4-b6ff-4024-8b62-a1cd671d5e7f",
   "metadata": {},
   "source": [
    "We´ve reduced the original dataset from 7461195 entries to 26090."
   ]
  },
  {
   "cell_type": "code",
   "execution_count": null,
   "id": "b350e84b-f7ea-4771-a8c1-32521c625c52",
   "metadata": {},
   "outputs": [],
   "source": [
    "# remove USA from event name\n",
    "data_usa[\"event_name\"] = data_usa[\"event_name\"].str.split(\"(\").str.get(0)\n",
    "data_usa.head()"
   ]
  },
  {
   "cell_type": "markdown",
   "id": "227160ff-529b-4e5e-b9bc-50d11e6576e7",
   "metadata": {},
   "source": [
    "Not let´s look at the column \"Athlete age category\". Let´s clean up."
   ]
  },
  {
   "cell_type": "code",
   "execution_count": null,
   "id": "7fcda7d0-5226-41b9-8159-0633fe45cf98",
   "metadata": {},
   "outputs": [],
   "source": [
    "# add column Atlethe age\n",
    "data_usa[\"athlete_age\"] = 2020 - data_usa[\"athlete_year_of_birth\"]\n",
    "data_usa.head()"
   ]
  },
  {
   "cell_type": "code",
   "execution_count": null,
   "id": "520d5588-e598-4488-910b-5421dcf0c933",
   "metadata": {},
   "outputs": [],
   "source": [
    "# remove h from atlethe performance\n",
    "data_usa[\"athlete_performance\"] = data_usa[\"athlete_performance\"].str.strip(\" h\")\n",
    "data_usa.head()"
   ]
  },
  {
   "cell_type": "markdown",
   "id": "1f84b4cb-35a6-4940-a97b-bdc4cded2269",
   "metadata": {},
   "source": [
    "I consider the following columns relatively useless. \n",
    "- \"Athlete club\"\n",
    "- \"Athlete country\"\n",
    "- \"Athlete age category\"\n",
    "- \"Athlete year of birth\"\n",
    "That is why I will proceed to eliminate them."
   ]
  },
  {
   "cell_type": "code",
   "execution_count": null,
   "id": "080452a9-14c7-46b6-be95-141f40e0246c",
   "metadata": {},
   "outputs": [],
   "source": [
    "data_usa = data_usa.drop([\"athlete_club\", \"athlete_country\", \"athlete_age_category\", \"athlete_year_of_birth\"], axis=1)\n",
    "data_usa.head()"
   ]
  },
  {
   "cell_type": "markdown",
   "id": "c758960d-af15-4ced-a78a-14d16b5d1a5b",
   "metadata": {},
   "source": [
    "## Clean up null values"
   ]
  },
  {
   "cell_type": "code",
   "execution_count": null,
   "id": "4685f8b6-e039-4d1f-88c0-2282bf6d3013",
   "metadata": {},
   "outputs": [],
   "source": [
    "data_usa.isna().sum()"
   ]
  },
  {
   "cell_type": "code",
   "execution_count": null,
   "id": "38e36d21-c8aa-43bf-af16-79c66af91645",
   "metadata": {},
   "outputs": [],
   "source": [
    "data_usa.dropna(subset=[\"athlete_age\"], inplace=True)"
   ]
  },
  {
   "cell_type": "code",
   "execution_count": null,
   "id": "915b1b49-0943-470d-83e3-cdaeaba2e0ed",
   "metadata": {},
   "outputs": [],
   "source": [
    "# check if it was done correctly\n",
    "data_usa.isna().sum()"
   ]
  },
  {
   "cell_type": "markdown",
   "id": "bf7448b5-9055-4312-8e0b-ae651064aa51",
   "metadata": {},
   "source": [
    "## Check duplicates"
   ]
  },
  {
   "cell_type": "code",
   "execution_count": null,
   "id": "5d7ece5d-ba6e-4364-9a66-cb9486eb10de",
   "metadata": {},
   "outputs": [],
   "source": [
    "data_usa[data_usa.duplicated() == True]"
   ]
  },
  {
   "cell_type": "markdown",
   "id": "95a243d5-38aa-44a3-a01b-9c1949f23854",
   "metadata": {},
   "source": [
    "There is no duplicates in the dataset. So let´s reset the index."
   ]
  },
  {
   "cell_type": "markdown",
   "id": "e50675fe-95bb-4f84-a2f3-2e3de5f7c392",
   "metadata": {},
   "source": [
    "## Reset index\n",
    "Because I selected a subset and then deleted rows, the index does not have a correct order. \n",
    "\n",
    "Therefore, I am going to fix it."
   ]
  },
  {
   "cell_type": "code",
   "execution_count": null,
   "id": "8a52e922-6aa6-4ac7-9a7d-9d1455c3602f",
   "metadata": {},
   "outputs": [],
   "source": [
    "data_usa.reset_index(drop=True)"
   ]
  },
  {
   "cell_type": "markdown",
   "id": "944374a2-2902-43bb-a43a-65d4e879494d",
   "metadata": {},
   "source": [
    "## Fix types"
   ]
  },
  {
   "cell_type": "code",
   "execution_count": null,
   "id": "d781e33a-a151-48a2-a9f4-f295f1da55f1",
   "metadata": {},
   "outputs": [],
   "source": [
    "data_usa.dtypes"
   ]
  },
  {
   "cell_type": "code",
   "execution_count": null,
   "id": "d654709a-ca14-4311-b20d-bc5efb33f7d3",
   "metadata": {},
   "outputs": [],
   "source": [
    "# athlete_age is a integer, so let´s convert it into int\n",
    "data_usa[\"athlete_age\"] = data_usa[\"athlete_age\"].astype(int)"
   ]
  },
  {
   "cell_type": "code",
   "execution_count": null,
   "id": "02d0de3c-cd84-49b4-a60a-3db470316259",
   "metadata": {},
   "outputs": [],
   "source": [
    "# Athlete average speed is a number, it´s not a string\n",
    "data_usa[\"athlete_average_speed\"] = data_usa[\"athlete_average_speed\"].astype(float)"
   ]
  },
  {
   "cell_type": "code",
   "execution_count": null,
   "id": "36792905-65c8-4939-8861-8174097d6359",
   "metadata": {},
   "outputs": [],
   "source": [
    "# Conver Athlete performance object to float\n",
    "# Convert string time to timedelta\n",
    "data_usa['athlete_performance'] = pd.to_timedelta(data_usa['athlete_performance'])\n",
    "\n",
    "# Convert timedelta to hours\n",
    "data_usa['athlete_performance(hours)'] = data_usa['athlete_performance'] / pd.Timedelta(hours=1)\n",
    "\n",
    "# drop Athlete performance column\n",
    "data_usa.drop([\"athlete_performance\"], axis=1, inplace=True)"
   ]
  },
  {
   "cell_type": "code",
   "execution_count": null,
   "id": "a25b510f-1be4-4d88-816f-daf4a70831c5",
   "metadata": {},
   "outputs": [],
   "source": [
    "data_usa.dtypes"
   ]
  },
  {
   "cell_type": "markdown",
   "id": "1c8571d1-6348-4572-a5fb-d6cb40711493",
   "metadata": {},
   "source": [
    "Well done."
   ]
  },
  {
   "cell_type": "markdown",
   "id": "66f280c6-9c83-4e09-8695-4d078be50356",
   "metadata": {},
   "source": [
    "## Graphs and Charts"
   ]
  },
  {
   "cell_type": "markdown",
   "id": "f634fe93-30c7-480d-af1e-cd191f7bdd93",
   "metadata": {},
   "source": [
    "### 1. Histograms"
   ]
  },
  {
   "cell_type": "code",
   "execution_count": null,
   "id": "4e64a621-e954-4cfe-82f4-53de63feed08",
   "metadata": {},
   "outputs": [],
   "source": [
    "sns.histplot(data_usa[\"race_length\"]);\n",
    "plt.title(\"Race length\")\n",
    "plt.show()"
   ]
  },
  {
   "cell_type": "code",
   "execution_count": null,
   "id": "2680b10f-52ca-4cb8-98ee-e856735e4807",
   "metadata": {},
   "outputs": [],
   "source": [
    "sns.histplot(data_usa, x=\"race_length\", hue=\"athlete_gender\");\n",
    "plt.title(\"Race length by gender\")\n",
    "plt.show()"
   ]
  },
  {
   "cell_type": "markdown",
   "id": "a07a93bc-d440-4908-ba7d-7213271bce05",
   "metadata": {},
   "source": [
    "It appears that 50km races are distributed equally between both sexes, but 50 mile races are predominantly chosen by men."
   ]
  },
  {
   "cell_type": "code",
   "execution_count": null,
   "id": "97f3df2f-89b7-4fc7-b099-1d1ac82b7e69",
   "metadata": {},
   "outputs": [],
   "source": [
    "sns.displot(data_usa[data_usa[\"race_length\"] == \"50km\"][\"athlete_average_speed\"])\n",
    "plt.title(\"Average athlete speed per 50km races\")\n",
    "plt.show()"
   ]
  },
  {
   "cell_type": "markdown",
   "id": "17e22d74-9970-4b1b-a3ee-a7a4aefa6f3e",
   "metadata": {},
   "source": [
    "An observation, if I have an average speed of 9km/h it seems that it is more than the average speed. But it's not exactly the same. Because different 50 km races do not have same difficulty. Running in the mountains is not the same as a street race."
   ]
  },
  {
   "cell_type": "markdown",
   "id": "e63b432d-9d6a-41d5-9068-a0aa664131bc",
   "metadata": {},
   "source": [
    "### 2. Violin plots"
   ]
  },
  {
   "cell_type": "code",
   "execution_count": null,
   "id": "7d187a31-354a-463d-910f-e1c31674442c",
   "metadata": {},
   "outputs": [],
   "source": [
    "sns.violinplot(data= data_usa, x=\"race_length\", y=\"athlete_average_speed\", hue=\"athlete_gender\");"
   ]
  },
  {
   "cell_type": "code",
   "execution_count": null,
   "id": "7546bb7b-8aeb-49a7-b217-6b13759d0a7f",
   "metadata": {},
   "outputs": [],
   "source": [
    "# better version of the same graph\n",
    "sns.violinplot(data= data_usa, x=\"race_length\", y=\"athlete_average_speed\", hue=\"athlete_gender\", split=True, inner=\"quart\", linewidth=1);"
   ]
  },
  {
   "cell_type": "markdown",
   "id": "02a178a4-3ab9-4f20-93e2-8e48d86330ba",
   "metadata": {},
   "source": [
    "### 3. Linear Model plot"
   ]
  },
  {
   "cell_type": "code",
   "execution_count": null,
   "id": "f5a1e9ec-f8f8-4b35-8bde-2c165792b83d",
   "metadata": {},
   "outputs": [],
   "source": [
    "sns.lmplot(data=data_usa, x=\"athlete_age\", y=\"athlete_average_speed\", hue=\"athlete_gender\");"
   ]
  },
  {
   "cell_type": "markdown",
   "id": "f06cdbb5-fd45-451f-97b3-f15e3be7cc06",
   "metadata": {},
   "source": [
    "## Questions from the data"
   ]
  },
  {
   "cell_type": "markdown",
   "id": "5a5a26dc-03ca-4aad-9544-bb899b0fcb35",
   "metadata": {},
   "source": [
    "Differences in speed from 50k and 50mi male to female"
   ]
  },
  {
   "cell_type": "code",
   "execution_count": null,
   "id": "6f39adf1-c284-4f92-a2a2-d562d898a011",
   "metadata": {},
   "outputs": [],
   "source": [
    "print(data_usa.groupby([\"erace_length\", \"athlete_gender\"])[\"athlete_average_speed\"].mean())\n",
    "\n",
    "sns.violinplot(data= data_usa, x=\"race_length\", y=\"athlete_average_speed\", hue=\"athlete_gender\", split=True, inner=\"quart\", linewidth=1);"
   ]
  },
  {
   "cell_type": "markdown",
   "id": "f9f76b46-2864-427e-9a80-881b85d0e7c1",
   "metadata": {},
   "source": [
    "What age groups are best in 50km race? And in 50mile race?"
   ]
  },
  {
   "cell_type": "code",
   "execution_count": null,
   "id": "ae93caa5-3df8-4efa-be98-44cacd4f69b0",
   "metadata": {},
   "outputs": [],
   "source": [
    "data_usa.query(\"race_length == '50km'\").groupby(\"athlete_age\")[\"athlete_average_speed\"].agg([\"mean\", \"count\"]).sort_values()"
   ]
  },
  {
   "cell_type": "code",
   "execution_count": null,
   "id": "ee9896c4-dc74-4dd5-a048-1dbf5df536d8",
   "metadata": {},
   "outputs": [],
   "source": []
  },
  {
   "cell_type": "code",
   "execution_count": null,
   "id": "aea08c88-1543-4702-8f81-6139a1a2fe28",
   "metadata": {},
   "outputs": [],
   "source": []
  },
  {
   "cell_type": "code",
   "execution_count": null,
   "id": "bdc1735f-23bf-4f50-9ea6-263a779e902f",
   "metadata": {},
   "outputs": [],
   "source": []
  },
  {
   "cell_type": "code",
   "execution_count": null,
   "id": "035b0bfe-bad7-4bf1-9b56-b0462f721769",
   "metadata": {},
   "outputs": [],
   "source": []
  }
 ],
 "metadata": {
  "kernelspec": {
   "display_name": "Python 3 (ipykernel)",
   "language": "python",
   "name": "python3"
  },
  "language_info": {
   "codemirror_mode": {
    "name": "ipython",
    "version": 3
   },
   "file_extension": ".py",
   "mimetype": "text/x-python",
   "name": "python",
   "nbconvert_exporter": "python",
   "pygments_lexer": "ipython3",
   "version": "3.11.7"
  }
 },
 "nbformat": 4,
 "nbformat_minor": 5
}
