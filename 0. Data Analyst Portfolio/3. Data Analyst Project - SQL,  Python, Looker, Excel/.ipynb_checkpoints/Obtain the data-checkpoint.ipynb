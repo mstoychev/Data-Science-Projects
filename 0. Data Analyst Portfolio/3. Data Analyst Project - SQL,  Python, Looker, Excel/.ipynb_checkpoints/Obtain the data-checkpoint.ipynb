{
 "cells": [
  {
   "cell_type": "markdown",
   "id": "5fe3bbc8-6ea4-4e9a-82d6-aaed81b02cea",
   "metadata": {},
   "source": [
    "The link with the data is the next:\n",
    "\n",
    "https://ultrasignup.com/results_event.aspx?did=102259"
   ]
  },
  {
   "cell_type": "code",
   "execution_count": null,
   "id": "f8ea8e5f-566c-47e4-ab1a-77a1d21273cd",
   "metadata": {},
   "outputs": [],
   "source": [
    "import pandas as pd\n",
    "import requests\n",
    "from bs4 import BeautifulSoup"
   ]
  },
  {
   "cell_type": "code",
   "execution_count": null,
   "id": "962cb5ef-4b63-40f3-bdeb-968144e2a2a2",
   "metadata": {},
   "outputs": [],
   "source": [
    "# URL of the webpage containing the table\n",
    "url = 'https://ultrasignup.com/results_event.aspx?did=102259'"
   ]
  },
  {
   "cell_type": "code",
   "execution_count": null,
   "id": "46f9320a-8a54-465f-b77c-d6781f6f7e62",
   "metadata": {},
   "outputs": [],
   "source": [
    "# Send a GET request to the URL\n",
    "response = requests.get(url)"
   ]
  },
  {
   "cell_type": "code",
   "execution_count": null,
   "id": "371207c2-2077-458b-9a72-3ee26175cfcf",
   "metadata": {},
   "outputs": [],
   "source": [
    "# Check if the request was successful (status code 200)\n",
    "response"
   ]
  },
  {
   "cell_type": "code",
   "execution_count": null,
   "id": "f6794f47-668d-4150-84c4-b8c5b6eb8cbe",
   "metadata": {},
   "outputs": [],
   "source": [
    "# Parse the HTML content using BeautifulSoup\n",
    "soup = BeautifulSoup(response.content, 'html.parser')"
   ]
  },
  {
   "cell_type": "code",
   "execution_count": null,
   "id": "f2ce53bf-83b1-46d1-8b30-3dda70709512",
   "metadata": {},
   "outputs": [],
   "source": [
    "# Find the table element on the webpage\n",
    "table = soup.find('table', class_='table')"
   ]
  },
  {
   "cell_type": "code",
   "execution_count": null,
   "id": "f96b028f-0f97-48c8-b3d6-f4dae415a96f",
   "metadata": {},
   "outputs": [],
   "source": [
    "# Read the table into a DataFrame using pandas\n",
    "df = pd.read_html(str(table))[0]"
   ]
  },
  {
   "cell_type": "code",
   "execution_count": null,
   "id": "e5a3d926-ace3-4abb-a7c7-708afb1dc6d0",
   "metadata": {},
   "outputs": [],
   "source": []
  }
 ],
 "metadata": {
  "kernelspec": {
   "display_name": "Python 3 (ipykernel)",
   "language": "python",
   "name": "python3"
  },
  "language_info": {
   "codemirror_mode": {
    "name": "ipython",
    "version": 3
   },
   "file_extension": ".py",
   "mimetype": "text/x-python",
   "name": "python",
   "nbconvert_exporter": "python",
   "pygments_lexer": "ipython3",
   "version": "3.11.7"
  }
 },
 "nbformat": 4,
 "nbformat_minor": 5
}
