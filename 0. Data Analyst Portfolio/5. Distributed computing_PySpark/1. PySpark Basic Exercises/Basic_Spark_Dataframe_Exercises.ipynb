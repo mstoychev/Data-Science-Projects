{
  "cells": [
    {
      "cell_type": "code",
      "source": [
        "# Install PySpark\n",
        "!pip install pyspark\n",
        "\n",
        "!apt-get install openjdk-8-jdk-headless -qq > /dev/null\n",
        "\n",
        "import os\n",
        "\n",
        "os.environ[\"JAVA_HOME\"] = \"/usr/lib/jvm/java-8-openjdk-amd64\""
      ],
      "metadata": {
        "colab": {
          "base_uri": "https://localhost:8080/"
        },
        "id": "VcT84HFkw9dn",
        "outputId": "dc125c5b-d410-4dfd-b260-a5bb26a5bb76"
      },
      "execution_count": 1,
      "outputs": [
        {
          "output_type": "stream",
          "name": "stdout",
          "text": [
            "Requirement already satisfied: pyspark in /usr/local/lib/python3.10/dist-packages (3.5.1)\n",
            "Requirement already satisfied: py4j==0.10.9.7 in /usr/local/lib/python3.10/dist-packages (from pyspark) (0.10.9.7)\n"
          ]
        }
      ]
    },
    {
      "cell_type": "markdown",
      "source": [
        "# Ejercicios Spark DataFrames"
      ],
      "metadata": {
        "id": "fGlwHcJxw2cL"
      }
    },
    {
      "cell_type": "markdown",
      "source": [
        "Vamos a practicar un poco con tus nuevas habilidades de Spark DataFrame, se te harán algunas preguntas básicas sobre algunos datos del mercado de valores, en este caso Walmart Stock de los años 2012-2017.\n",
        "\n",
        "Responde a las preguntas y completa las tareas de abajo."
      ],
      "metadata": {
        "id": "tvh3WQmBwsyq"
      }
    },
    {
      "cell_type": "markdown",
      "metadata": {
        "id": "-gzJ_mbnNu69"
      },
      "source": [
        "#### ¡Utiliza el archivo walmart_stock.csv para responder y completar las tareas siguientes!"
      ]
    },
    {
      "cell_type": "code",
      "source": [
        "from pyspark.sql import SparkSession\n",
        "from pyspark.sql.functions import col, format_number, max, min, avg, corr, year, month, when"
      ],
      "metadata": {
        "id": "6BU0VI8RaVmw"
      },
      "execution_count": 2,
      "outputs": []
    },
    {
      "cell_type": "code",
      "source": [
        "# Start a Spark session\n",
        "spark = SparkSession.builder.appName(\"WalmartStock\").getOrCreate()"
      ],
      "metadata": {
        "id": "QKmpQcDvZNkl"
      },
      "execution_count": 3,
      "outputs": []
    },
    {
      "cell_type": "markdown",
      "metadata": {
        "id": "RWBcRROiNu7A"
      },
      "source": [
        "#### Cargar el archivo CSV de Walmart Stock, hacer que Spark infiera los tipos de datos."
      ]
    },
    {
      "cell_type": "code",
      "execution_count": 4,
      "metadata": {
        "id": "c2B0YyyuNu7B",
        "tags": [],
        "colab": {
          "base_uri": "https://localhost:8080/"
        },
        "outputId": "20260fdd-66a8-4f4f-b57a-72307a29a562"
      },
      "outputs": [
        {
          "output_type": "stream",
          "name": "stdout",
          "text": [
            "+----------+------------------+---------+---------+------------------+--------+------------------+\n",
            "|      Date|              Open|     High|      Low|             Close|  Volume|         Adj Close|\n",
            "+----------+------------------+---------+---------+------------------+--------+------------------+\n",
            "|2012-01-03|         59.970001|61.060001|59.869999|         60.330002|12668800|52.619234999999996|\n",
            "|2012-01-04|60.209998999999996|60.349998|59.470001|59.709998999999996| 9593300|         52.078475|\n",
            "|2012-01-05|         59.349998|59.619999|58.369999|         59.419998|12768200|         51.825539|\n",
            "|2012-01-06|         59.419998|59.450001|58.869999|              59.0| 8069400|          51.45922|\n",
            "|2012-01-09|         59.029999|59.549999|58.919998|             59.18| 6679300|51.616215000000004|\n",
            "+----------+------------------+---------+---------+------------------+--------+------------------+\n",
            "only showing top 5 rows\n",
            "\n"
          ]
        }
      ],
      "source": [
        "# Load the CSV file into a Spark DataFrame\n",
        "df = spark.read.csv(\"walmart_stock.csv\", header=True, inferSchema=True)\n",
        "\n",
        "# Display the first 5 rows of the the DataFrame\n",
        "df.show(5)"
      ]
    },
    {
      "cell_type": "markdown",
      "metadata": {
        "id": "h70LNQRYNu7B"
      },
      "source": [
        "#### ¿Cuáles son los nombres de las columnas?"
      ]
    },
    {
      "cell_type": "code",
      "execution_count": 5,
      "metadata": {
        "id": "AbNGYigWNu7C",
        "jupyter": {
          "outputs_hidden": false
        },
        "outputId": "dfd0b20d-1393-4016-e0c1-97478ad312a6",
        "colab": {
          "base_uri": "https://localhost:8080/"
        }
      },
      "outputs": [
        {
          "output_type": "execute_result",
          "data": {
            "text/plain": [
              "['Date', 'Open', 'High', 'Low', 'Close', 'Volume', 'Adj Close']"
            ]
          },
          "metadata": {},
          "execution_count": 5
        }
      ],
      "source": [
        "df.columns"
      ]
    },
    {
      "cell_type": "markdown",
      "metadata": {
        "id": "0KoNyBS7Nu7E"
      },
      "source": [
        "#### ¿Qué aspecto tiene el esquema?"
      ]
    },
    {
      "cell_type": "code",
      "execution_count": 6,
      "metadata": {
        "id": "-IuyBuhxNu7F",
        "jupyter": {
          "outputs_hidden": false
        },
        "outputId": "70a62ced-9c8d-48fe-9d61-56a95a06d857",
        "colab": {
          "base_uri": "https://localhost:8080/"
        }
      },
      "outputs": [
        {
          "output_type": "stream",
          "name": "stdout",
          "text": [
            "root\n",
            " |-- Date: date (nullable = true)\n",
            " |-- Open: double (nullable = true)\n",
            " |-- High: double (nullable = true)\n",
            " |-- Low: double (nullable = true)\n",
            " |-- Close: double (nullable = true)\n",
            " |-- Volume: integer (nullable = true)\n",
            " |-- Adj Close: double (nullable = true)\n",
            "\n"
          ]
        }
      ],
      "source": [
        "# Display the schema of the DataFrame\n",
        "df.printSchema()"
      ]
    },
    {
      "cell_type": "markdown",
      "metadata": {
        "id": "XfOEgW2RNu7F"
      },
      "source": [
        "#### Imprime las 5 primeras columnas."
      ]
    },
    {
      "cell_type": "code",
      "source": [
        "#MY CODE\n",
        "# Select first 5 rows\n",
        "first_five_rows = df.limit(5).collect()\n",
        "\n",
        "# Print first 5 rows\n",
        "for row in first_five_rows:\n",
        "    print(row)"
      ],
      "metadata": {
        "id": "neFj8iKHfCPj",
        "colab": {
          "base_uri": "https://localhost:8080/"
        },
        "outputId": "d6c08dca-6efb-43a7-b09f-304d1a023c1c"
      },
      "execution_count": 7,
      "outputs": [
        {
          "output_type": "stream",
          "name": "stdout",
          "text": [
            "Row(Date=datetime.date(2012, 1, 3), Open=59.970001, High=61.060001, Low=59.869999, Close=60.330002, Volume=12668800, Adj Close=52.619234999999996)\n",
            "Row(Date=datetime.date(2012, 1, 4), Open=60.209998999999996, High=60.349998, Low=59.470001, Close=59.709998999999996, Volume=9593300, Adj Close=52.078475)\n",
            "Row(Date=datetime.date(2012, 1, 5), Open=59.349998, High=59.619999, Low=58.369999, Close=59.419998, Volume=12768200, Adj Close=51.825539)\n",
            "Row(Date=datetime.date(2012, 1, 6), Open=59.419998, High=59.450001, Low=58.869999, Close=59.0, Volume=8069400, Adj Close=51.45922)\n",
            "Row(Date=datetime.date(2012, 1, 9), Open=59.029999, High=59.549999, Low=58.919998, Close=59.18, Volume=6679300, Adj Close=51.616215000000004)\n"
          ]
        }
      ]
    },
    {
      "cell_type": "markdown",
      "metadata": {
        "id": "tLu4zTcCNu7G"
      },
      "source": [
        "#### Utiliza describe() para conocer el DataFrame."
      ]
    },
    {
      "cell_type": "code",
      "source": [
        "df.describe().show()"
      ],
      "metadata": {
        "colab": {
          "base_uri": "https://localhost:8080/"
        },
        "id": "bwjv6dFoeQi-",
        "outputId": "20d037a7-3697-47ce-ed0f-3500d8f5530d"
      },
      "execution_count": 8,
      "outputs": [
        {
          "output_type": "stream",
          "name": "stdout",
          "text": [
            "+-------+------------------+-----------------+-----------------+-----------------+-----------------+-----------------+\n",
            "|summary|              Open|             High|              Low|            Close|           Volume|        Adj Close|\n",
            "+-------+------------------+-----------------+-----------------+-----------------+-----------------+-----------------+\n",
            "|  count|              1258|             1258|             1258|             1258|             1258|             1258|\n",
            "|   mean| 72.35785375357709|72.83938807631165| 71.9186009594594|72.38844998012726|8222093.481717011|67.23883848728146|\n",
            "| stddev|  6.76809024470826|6.768186808159218|6.744075756255496|6.756859163732991|  4519780.8431556|6.722609449996857|\n",
            "|    min|56.389998999999996|        57.060001|        56.299999|        56.419998|          2094900|        50.363689|\n",
            "|    max|         90.800003|        90.970001|            89.25|        90.470001|         80898100|84.91421600000001|\n",
            "+-------+------------------+-----------------+-----------------+-----------------+-----------------+-----------------+\n",
            "\n"
          ]
        }
      ]
    },
    {
      "cell_type": "markdown",
      "metadata": {
        "id": "1emqCvgnNu7H"
      },
      "source": [
        "#### Hay demasiados decimales para la media y el stddev en describe(). Formatea los números para que sólo se muestren hasta dos decimales. Presta atención a los tipos de datos que devuelve .describe()"
      ]
    },
    {
      "cell_type": "code",
      "execution_count": null,
      "metadata": {
        "id": "VcNgdYP5Nu7I",
        "jupyter": {
          "outputs_hidden": false
        },
        "outputId": "82d13fd7-7b59-4398-963b-cee9d8c40a52"
      },
      "outputs": [
        {
          "name": "stdout",
          "output_type": "stream",
          "text": [
            "+-------+--------+--------+--------+--------+--------+\n",
            "|summary|    Open|    High|     Low|   Close|  Volume|\n",
            "+-------+--------+--------+--------+--------+--------+\n",
            "|  count|1,258.00|1,258.00|1,258.00|1,258.00|    1258|\n",
            "|   mean|   72.36|   72.84|   71.92|   72.39| 8222093|\n",
            "| stddev|    6.77|    6.77|    6.74|    6.76| 4519781|\n",
            "|    min|   56.39|   57.06|   56.30|   56.42| 2094900|\n",
            "|    max|   90.80|   90.97|   89.25|   90.47|80898100|\n",
            "+-------+--------+--------+--------+--------+--------+\n",
            "\n"
          ]
        }
      ],
      "source": [
        "#Proposed Atrium solution"
      ]
    },
    {
      "cell_type": "code",
      "source": [
        "# MY CODE\n",
        "df_rounded = df.describe().select(\n",
        "    col(\"summary\"),\n",
        "    format_number(col(\"Open\").cast(\"float\"), 2).alias(\"Open\"),\n",
        "    format_number(col(\"High\").cast(\"float\"), 2).alias(\"High\"),\n",
        "    format_number(col(\"Low\").cast(\"float\"), 2).alias(\"Low\"),\n",
        "    format_number(col(\"Close\").cast(\"float\"), 2).alias(\"Close\"),\n",
        "    col(\"Volume\").cast(\"int\"),\n",
        ")\n",
        "\n",
        "df_rounded.show()"
      ],
      "metadata": {
        "colab": {
          "base_uri": "https://localhost:8080/"
        },
        "id": "sdqnffGNopJf",
        "outputId": "27afebe5-8da9-451c-e3ef-47b66d3d85a0"
      },
      "execution_count": 9,
      "outputs": [
        {
          "output_type": "stream",
          "name": "stdout",
          "text": [
            "+-------+--------+--------+--------+--------+--------+\n",
            "|summary|    Open|    High|     Low|   Close|  Volume|\n",
            "+-------+--------+--------+--------+--------+--------+\n",
            "|  count|1,258.00|1,258.00|1,258.00|1,258.00|    1258|\n",
            "|   mean|   72.36|   72.84|   71.92|   72.39| 8222093|\n",
            "| stddev|    6.77|    6.77|    6.74|    6.76| 4519780|\n",
            "|    min|   56.39|   57.06|   56.30|   56.42| 2094900|\n",
            "|    max|   90.80|   90.97|   89.25|   90.47|80898100|\n",
            "+-------+--------+--------+--------+--------+--------+\n",
            "\n"
          ]
        }
      ]
    },
    {
      "cell_type": "markdown",
      "metadata": {
        "id": "f5fs3ieVNu7J"
      },
      "source": [
        "#### Crea un nuevo dataframe con una columna llamada HV Ratio que es la relación entre el precio máximo y el volumen de las acciones negociadas durante un día."
      ]
    },
    {
      "cell_type": "code",
      "source": [
        "hv_ratio = df.withColumn(\"HV Ratio\", col(\"High\") / col(\"Volume\")).select(\"HV Ratio\")\n",
        "hv_ratio.show(20)"
      ],
      "metadata": {
        "colab": {
          "base_uri": "https://localhost:8080/"
        },
        "id": "uDmUz1-SpZBW",
        "outputId": "c32c7dc5-c456-44c3-b8ec-6b65b0a6a8e9"
      },
      "execution_count": 10,
      "outputs": [
        {
          "output_type": "stream",
          "name": "stdout",
          "text": [
            "+--------------------+\n",
            "|            HV Ratio|\n",
            "+--------------------+\n",
            "|4.819714653321546E-6|\n",
            "|6.290848613094555E-6|\n",
            "|4.669412994783916E-6|\n",
            "|7.367338463826307E-6|\n",
            "|8.915604778943901E-6|\n",
            "|8.644477436914568E-6|\n",
            "|9.351828421515645E-6|\n",
            "| 8.29141562102703E-6|\n",
            "|7.712212102001476E-6|\n",
            "|7.071764823529412E-6|\n",
            "|1.015495466386981E-5|\n",
            "|6.576354146362592...|\n",
            "| 5.90145296180676E-6|\n",
            "|8.547679455011844E-6|\n",
            "|8.420709512685392E-6|\n",
            "|1.041448341728929...|\n",
            "|8.316075414862431E-6|\n",
            "|9.721183814992126E-6|\n",
            "|8.029436027707578E-6|\n",
            "|6.307432259386365E-6|\n",
            "+--------------------+\n",
            "only showing top 20 rows\n",
            "\n"
          ]
        }
      ]
    },
    {
      "cell_type": "markdown",
      "metadata": {
        "id": "kxUpsEt9Nu7K"
      },
      "source": [
        "#### ¿Qué día hubo el pico máximo en el precio?"
      ]
    },
    {
      "cell_type": "code",
      "source": [
        "max_high_price = df.agg(max(\"High\")).collect()[0][0]\n",
        "\n",
        "df.filter(df[\"High\"] == max_high_price).select(\"Date\").collect()[0][0]"
      ],
      "metadata": {
        "colab": {
          "base_uri": "https://localhost:8080/"
        },
        "id": "W-aU6V2xq1sz",
        "outputId": "90fc3506-8f92-4420-f3b9-1f4b54b21491"
      },
      "execution_count": 11,
      "outputs": [
        {
          "output_type": "execute_result",
          "data": {
            "text/plain": [
              "datetime.date(2015, 1, 13)"
            ]
          },
          "metadata": {},
          "execution_count": 11
        }
      ]
    },
    {
      "cell_type": "markdown",
      "metadata": {
        "id": "CyHKY50LNu7M"
      },
      "source": [
        "#### ¿Cuál es la media de la columna Close?"
      ]
    },
    {
      "cell_type": "code",
      "source": [
        "df.agg(avg(\"Close\")).show()"
      ],
      "metadata": {
        "colab": {
          "base_uri": "https://localhost:8080/"
        },
        "id": "CydSP7Sls6RH",
        "outputId": "29870695-ce12-4f97-8132-0bc84aa42dd3"
      },
      "execution_count": 12,
      "outputs": [
        {
          "output_type": "stream",
          "name": "stdout",
          "text": [
            "+-----------------+\n",
            "|       avg(Close)|\n",
            "+-----------------+\n",
            "|72.38844998012726|\n",
            "+-----------------+\n",
            "\n"
          ]
        }
      ]
    },
    {
      "cell_type": "markdown",
      "metadata": {
        "id": "171nemhsNu7N"
      },
      "source": [
        "#### ¿Cuál es el máximo y el mínimo de la columna Volumen?"
      ]
    },
    {
      "cell_type": "code",
      "execution_count": 13,
      "metadata": {
        "id": "ABTqqIhxNu7N",
        "tags": [],
        "colab": {
          "base_uri": "https://localhost:8080/"
        },
        "outputId": "f99529d4-40f8-4910-957a-360b266b9b62"
      },
      "outputs": [
        {
          "output_type": "stream",
          "name": "stdout",
          "text": [
            "+-----------+-----------+\n",
            "|max(Volume)|min(Volume)|\n",
            "+-----------+-----------+\n",
            "|   80898100|    2094900|\n",
            "+-----------+-----------+\n",
            "\n"
          ]
        }
      ],
      "source": [
        "df.agg(max(\"Volume\"), min(\"Volume\")).show()"
      ]
    },
    {
      "cell_type": "markdown",
      "metadata": {
        "id": "-PXzvUKfNu7O"
      },
      "source": [
        "#### ¿Cuántos días estuvo el cierre por debajo de los 60 dólares?"
      ]
    },
    {
      "cell_type": "code",
      "source": [
        "df.filter(df[\"Close\"] < 60).count()"
      ],
      "metadata": {
        "colab": {
          "base_uri": "https://localhost:8080/"
        },
        "id": "A_n6EI5puA8Y",
        "outputId": "c2cbb847-bf89-4af1-a62f-8223be20cdd9"
      },
      "execution_count": 14,
      "outputs": [
        {
          "output_type": "execute_result",
          "data": {
            "text/plain": [
              "81"
            ]
          },
          "metadata": {},
          "execution_count": 14
        }
      ]
    },
    {
      "cell_type": "markdown",
      "metadata": {
        "id": "GWDFrgsuNu7P"
      },
      "source": [
        "#### ¿Qué porcentaje de veces el Máximo fue superior a 80 dólares?\n",
        "#### En otras palabras, (Número de días de máximos>80)/(Días totales en el conjunto de datos)"
      ]
    },
    {
      "cell_type": "code",
      "source": [
        "days_above_80 = df.filter(df[\"High\"] > 80).count()\n",
        "\n",
        "total_days = df.count()\n",
        "\n",
        "solution = (days_above_80 / total_days) * 100\n",
        "solution"
      ],
      "metadata": {
        "colab": {
          "base_uri": "https://localhost:8080/"
        },
        "id": "dGR-1fqauKTZ",
        "outputId": "7e0c9bdf-dd16-4f24-887d-416690e8d868"
      },
      "execution_count": 15,
      "outputs": [
        {
          "output_type": "execute_result",
          "data": {
            "text/plain": [
              "9.141494435612083"
            ]
          },
          "metadata": {},
          "execution_count": 15
        }
      ]
    },
    {
      "cell_type": "markdown",
      "metadata": {
        "id": "A2xe4ehZNu7Q"
      },
      "source": [
        "#### ¿Cuál es la correlación de Pearson entre High y Volume?"
      ]
    },
    {
      "cell_type": "code",
      "execution_count": 16,
      "metadata": {
        "id": "_77172LgNu7R",
        "jupyter": {
          "outputs_hidden": false
        },
        "outputId": "866b5528-a8f8-443d-c8d6-8527c3ee306d",
        "colab": {
          "base_uri": "https://localhost:8080/"
        }
      },
      "outputs": [
        {
          "output_type": "stream",
          "name": "stdout",
          "text": [
            "+-------------------+\n",
            "| corr(High, Volume)|\n",
            "+-------------------+\n",
            "|-0.3384326061737161|\n",
            "+-------------------+\n",
            "\n"
          ]
        }
      ],
      "source": [
        "df.agg(corr(\"High\", \"Volume\")).show()"
      ]
    },
    {
      "cell_type": "markdown",
      "metadata": {
        "id": "gwSPnjszNu7R"
      },
      "source": [
        "#### ¿Cuál es el valor máximo de High por año?"
      ]
    },
    {
      "cell_type": "code",
      "source": [
        "# add year column\n",
        "df = df.withColumn(\"Year\", year(df[\"Date\"]))"
      ],
      "metadata": {
        "id": "FLo8v18XyEQ-"
      },
      "execution_count": 17,
      "outputs": []
    },
    {
      "cell_type": "code",
      "source": [
        "# Calculate max from \"High\" per year\n",
        "max_high_by_year = df.groupBy(\"Year\").agg(max(\"High\")).orderBy(\"Year\")\n",
        "max_high_by_year.show()"
      ],
      "metadata": {
        "colab": {
          "base_uri": "https://localhost:8080/"
        },
        "id": "Lea5MWpcyQIV",
        "outputId": "53476056-75aa-45fe-b1d2-31058ffefb30"
      },
      "execution_count": 18,
      "outputs": [
        {
          "output_type": "stream",
          "name": "stdout",
          "text": [
            "+----+---------+\n",
            "|Year|max(High)|\n",
            "+----+---------+\n",
            "|2012|77.599998|\n",
            "|2013|81.370003|\n",
            "|2014|88.089996|\n",
            "|2015|90.970001|\n",
            "|2016|75.190002|\n",
            "+----+---------+\n",
            "\n"
          ]
        }
      ]
    },
    {
      "cell_type": "markdown",
      "metadata": {
        "id": "atYw5-lmNu7S"
      },
      "source": [
        "#### ¿Cuál es el cierre medio de cada mes del calendario?\n",
        "#### En otras palabras, a lo largo de todos los años, ¿cuál es el precio medio de cierre para enero, febrero, marzo, etc.? Su resultado tendrá un valor para cada uno de estos meses."
      ]
    },
    {
      "cell_type": "code",
      "source": [
        "# add month column\n",
        "df = df.withColumn(\"Month\", month(df[\"Date\"]))"
      ],
      "metadata": {
        "id": "PAtMjTlJyyNe"
      },
      "execution_count": 19,
      "outputs": []
    },
    {
      "cell_type": "code",
      "source": [
        "# Calculate average price from \"Close\" per month\n",
        "avg_closeprice_by_month = df.groupBy(\"Month\").agg(avg(\"Close\")).orderBy(\"Month\")\n",
        "avg_closeprice_by_month.show()"
      ],
      "metadata": {
        "colab": {
          "base_uri": "https://localhost:8080/"
        },
        "id": "GAkQ4NMHy-DG",
        "outputId": "68747de6-6453-4b5b-bfa3-b75fee6d2caa"
      },
      "execution_count": 20,
      "outputs": [
        {
          "output_type": "stream",
          "name": "stdout",
          "text": [
            "+-----+-----------------+\n",
            "|Month|       avg(Close)|\n",
            "+-----+-----------------+\n",
            "|    1|71.44801958415842|\n",
            "|    2|  71.306804443299|\n",
            "|    3|71.77794377570092|\n",
            "|    4|72.97361900952382|\n",
            "|    5|72.30971688679247|\n",
            "|    6| 72.4953774245283|\n",
            "|    7|74.43971943925233|\n",
            "|    8|73.02981855454546|\n",
            "|    9|72.18411785294116|\n",
            "|   10|71.57854545454543|\n",
            "|   11| 72.1110893069307|\n",
            "|   12|72.84792478301885|\n",
            "+-----+-----------------+\n",
            "\n"
          ]
        }
      ]
    },
    {
      "cell_type": "code",
      "source": [
        "# Map month numbers to month names\n",
        "avg_closeprice_by_month = avg_closeprice_by_month.select(\n",
        "    when(col(\"Month\") == 1, \"Jan\")\n",
        "    .when(col(\"Month\") == 2, \"Feb\")\n",
        "    .when(col(\"Month\") == 3, \"Mar\")\n",
        "    .when(col(\"Month\") == 4, \"Apr\")\n",
        "    .when(col(\"Month\") == 5, \"May\")\n",
        "    .when(col(\"Month\") == 6, \"Jun\")\n",
        "    .when(col(\"Month\") == 7, \"Jul\")\n",
        "    .when(col(\"Month\") == 8, \"Aug\")\n",
        "    .when(col(\"Month\") == 9, \"Sep\")\n",
        "    .when(col(\"Month\") == 10, \"Oct\")\n",
        "    .when(col(\"Month\") == 11, \"Nov\")\n",
        "    .when(col(\"Month\") == 12, \"Dec\")\n",
        "    .alias(\"Month\"),\n",
        "    col(\"avg(Close)\").alias(\"Average Close Price\")\n",
        ")\n",
        "\n",
        "avg_closeprice_by_month.show()"
      ],
      "metadata": {
        "colab": {
          "base_uri": "https://localhost:8080/"
        },
        "id": "0INFsu4Zy-IR",
        "outputId": "31e38e66-b25f-4a0e-822b-f2bfd8c1f284"
      },
      "execution_count": 21,
      "outputs": [
        {
          "output_type": "stream",
          "name": "stdout",
          "text": [
            "+-----+-------------------+\n",
            "|Month|Average Close Price|\n",
            "+-----+-------------------+\n",
            "|  Jan|  71.44801958415842|\n",
            "|  Feb|    71.306804443299|\n",
            "|  Mar|  71.77794377570092|\n",
            "|  Apr|  72.97361900952382|\n",
            "|  May|  72.30971688679247|\n",
            "|  Jun|   72.4953774245283|\n",
            "|  Jul|  74.43971943925233|\n",
            "|  Aug|  73.02981855454546|\n",
            "|  Sep|  72.18411785294116|\n",
            "|  Oct|  71.57854545454543|\n",
            "|  Nov|   72.1110893069307|\n",
            "|  Dec|  72.84792478301885|\n",
            "+-----+-------------------+\n",
            "\n"
          ]
        }
      ]
    }
  ],
  "metadata": {
    "anaconda-cloud": {},
    "colab": {
      "provenance": []
    },
    "kernelspec": {
      "display_name": "Python 3 (ipykernel)",
      "language": "python",
      "name": "python3"
    },
    "language_info": {
      "codemirror_mode": {
        "name": "ipython",
        "version": 3
      },
      "file_extension": ".py",
      "mimetype": "text/x-python",
      "name": "python",
      "nbconvert_exporter": "python",
      "pygments_lexer": "ipython3",
      "version": "3.11.7"
    }
  },
  "nbformat": 4,
  "nbformat_minor": 0
}