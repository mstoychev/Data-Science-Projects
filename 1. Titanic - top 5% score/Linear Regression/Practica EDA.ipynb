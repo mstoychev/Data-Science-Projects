{
 "cells": [
  {
   "cell_type": "markdown",
   "id": "f69040f9-f597-48ae-9624-2ae4840c8f87",
   "metadata": {},
   "source": [
    "# Explotatory Data Analysis"
   ]
  },
  {
   "cell_type": "code",
   "execution_count": 1,
   "id": "d4fec551-4aaa-404c-a327-0edda6e18654",
   "metadata": {},
   "outputs": [],
   "source": [
    "import pandas as pd\n",
    "import numpy as np\n",
    "import seaborn as sns\n",
    "from matplotlib import pyplot as plt\n",
    "\n",
    "from collections import Counter\n",
    "\n",
    "from sklearn.model_selection import train_test_split\n",
    "from sklearn.preprocessing import FunctionTransformer\n",
    "\n",
    "# Managing Categorical Data\n",
    "from sklearn.preprocessing import OneHotEncoder, OrdinalEncoder    \n",
    "from sklearn.impute import SimpleImputer\n",
    "from sklearn.compose import make_column_transformer\n",
    "\n",
    "# Managing Missing Values\n",
    "from sklearn.base import BaseEstimator, TransformerMixin\n",
    "\n",
    "# Make a pipeline\n",
    "from sklearn.pipeline import Pipeline, make_pipeline\n",
    "\n",
    "# Scaling\n",
    "from sklearn.preprocessing import StandardScaler\n",
    "\n",
    "#Models\n",
    "from sklearn.linear_model import LogisticRegression\n",
    "\n",
    "#Tunning\n",
    "from sklearn.model_selection import GridSearchCV, cross_val_score\n",
    "\n",
    "# PERFORMANCE METRICS\n",
    "from sklearn.metrics import accuracy_score, precision_score, recall_score, f1_score, confusion_matrix"
   ]
  },
  {
   "cell_type": "markdown",
   "id": "96016468-3551-4d31-9d8c-6494018827d6",
   "metadata": {
    "jp-MarkdownHeadingCollapsed": true
   },
   "source": [
    "## 1. The problem"
   ]
  },
  {
   "cell_type": "markdown",
   "id": "8b982dab-67a6-4239-8fb8-66e47158f314",
   "metadata": {},
   "source": [
    "\n",
    "Dado el siguente Dataset:\r\n",
    "\r\n",
    "https://raw.githubusercontent.com/datasciencedojo/datasets/master/titanic.csv\r\n",
    "\r\n",
    "Crear un Jupyter Notebook con los siguientes elementos\r\n",
    "\r\n",
    "8 puntos -> Un Análisis Exploratorio de Datos enfocándose especialmente en responder la siguiente pregunta de negocio ¿Qué factores están relacionados con que los pasajeros tengan una mayor/menor probabilidad de sobrevivir?\r\n",
    "\r\n",
    "2 puntos -> Entrena un algoritmo de Regresión Logística para que sea capaz de clasificar adecuadamente a los pasajeros entre los que sobrevivieron y no sobrevivieron (variable \"Survived\").\r\n",
    "\r\n",
    "La parte del algoritmo de Regresión Logística no se tiene en cuenta de cara a aprobar/suspender, pero si quieres optar a sacar más de un 8 es necesario su realización.\r\n",
    "\r\n",
    "Es importante comentar en detalle en celdas de \"Markdown\" que se está haciendo en cada paso, y por qué, así como tus opiniones y razonamientos sobre los resultados obtenidos."
   ]
  },
  {
   "cell_type": "markdown",
   "id": "decc8983-6d13-4760-94e1-50d280378c2e",
   "metadata": {},
   "source": [
    "## 2. EDA & Feature Engeneering"
   ]
  },
  {
   "cell_type": "markdown",
   "id": "f6e7fa0e-6f55-4a88-aa82-cb43ab55aa09",
   "metadata": {
    "jp-MarkdownHeadingCollapsed": true
   },
   "source": [
    "### 2.1. Load the data"
   ]
  },
  {
   "cell_type": "code",
   "execution_count": 2,
   "id": "84408aec-b188-4e7e-8925-fc9965424ee0",
   "metadata": {},
   "outputs": [
    {
     "name": "stdout",
     "output_type": "stream",
     "text": [
      "(891, 11)\n"
     ]
    },
    {
     "data": {
      "text/html": [
       "<div>\n",
       "<style scoped>\n",
       "    .dataframe tbody tr th:only-of-type {\n",
       "        vertical-align: middle;\n",
       "    }\n",
       "\n",
       "    .dataframe tbody tr th {\n",
       "        vertical-align: top;\n",
       "    }\n",
       "\n",
       "    .dataframe thead th {\n",
       "        text-align: right;\n",
       "    }\n",
       "</style>\n",
       "<table border=\"1\" class=\"dataframe\">\n",
       "  <thead>\n",
       "    <tr style=\"text-align: right;\">\n",
       "      <th></th>\n",
       "      <th>Survived</th>\n",
       "      <th>Pclass</th>\n",
       "      <th>Name</th>\n",
       "      <th>Sex</th>\n",
       "      <th>Age</th>\n",
       "      <th>SibSp</th>\n",
       "      <th>Parch</th>\n",
       "      <th>Ticket</th>\n",
       "      <th>Fare</th>\n",
       "      <th>Cabin</th>\n",
       "      <th>Embarked</th>\n",
       "    </tr>\n",
       "    <tr>\n",
       "      <th>PassengerId</th>\n",
       "      <th></th>\n",
       "      <th></th>\n",
       "      <th></th>\n",
       "      <th></th>\n",
       "      <th></th>\n",
       "      <th></th>\n",
       "      <th></th>\n",
       "      <th></th>\n",
       "      <th></th>\n",
       "      <th></th>\n",
       "      <th></th>\n",
       "    </tr>\n",
       "  </thead>\n",
       "  <tbody>\n",
       "    <tr>\n",
       "      <th>1</th>\n",
       "      <td>0</td>\n",
       "      <td>3</td>\n",
       "      <td>Braund, Mr. Owen Harris</td>\n",
       "      <td>male</td>\n",
       "      <td>22.0</td>\n",
       "      <td>1</td>\n",
       "      <td>0</td>\n",
       "      <td>A/5 21171</td>\n",
       "      <td>7.2500</td>\n",
       "      <td>NaN</td>\n",
       "      <td>S</td>\n",
       "    </tr>\n",
       "    <tr>\n",
       "      <th>2</th>\n",
       "      <td>1</td>\n",
       "      <td>1</td>\n",
       "      <td>Cumings, Mrs. John Bradley (Florence Briggs Th...</td>\n",
       "      <td>female</td>\n",
       "      <td>38.0</td>\n",
       "      <td>1</td>\n",
       "      <td>0</td>\n",
       "      <td>PC 17599</td>\n",
       "      <td>71.2833</td>\n",
       "      <td>C85</td>\n",
       "      <td>C</td>\n",
       "    </tr>\n",
       "    <tr>\n",
       "      <th>3</th>\n",
       "      <td>1</td>\n",
       "      <td>3</td>\n",
       "      <td>Heikkinen, Miss. Laina</td>\n",
       "      <td>female</td>\n",
       "      <td>26.0</td>\n",
       "      <td>0</td>\n",
       "      <td>0</td>\n",
       "      <td>STON/O2. 3101282</td>\n",
       "      <td>7.9250</td>\n",
       "      <td>NaN</td>\n",
       "      <td>S</td>\n",
       "    </tr>\n",
       "    <tr>\n",
       "      <th>4</th>\n",
       "      <td>1</td>\n",
       "      <td>1</td>\n",
       "      <td>Futrelle, Mrs. Jacques Heath (Lily May Peel)</td>\n",
       "      <td>female</td>\n",
       "      <td>35.0</td>\n",
       "      <td>1</td>\n",
       "      <td>0</td>\n",
       "      <td>113803</td>\n",
       "      <td>53.1000</td>\n",
       "      <td>C123</td>\n",
       "      <td>S</td>\n",
       "    </tr>\n",
       "    <tr>\n",
       "      <th>5</th>\n",
       "      <td>0</td>\n",
       "      <td>3</td>\n",
       "      <td>Allen, Mr. William Henry</td>\n",
       "      <td>male</td>\n",
       "      <td>35.0</td>\n",
       "      <td>0</td>\n",
       "      <td>0</td>\n",
       "      <td>373450</td>\n",
       "      <td>8.0500</td>\n",
       "      <td>NaN</td>\n",
       "      <td>S</td>\n",
       "    </tr>\n",
       "    <tr>\n",
       "      <th>6</th>\n",
       "      <td>0</td>\n",
       "      <td>3</td>\n",
       "      <td>Moran, Mr. James</td>\n",
       "      <td>male</td>\n",
       "      <td>NaN</td>\n",
       "      <td>0</td>\n",
       "      <td>0</td>\n",
       "      <td>330877</td>\n",
       "      <td>8.4583</td>\n",
       "      <td>NaN</td>\n",
       "      <td>Q</td>\n",
       "    </tr>\n",
       "    <tr>\n",
       "      <th>7</th>\n",
       "      <td>0</td>\n",
       "      <td>1</td>\n",
       "      <td>McCarthy, Mr. Timothy J</td>\n",
       "      <td>male</td>\n",
       "      <td>54.0</td>\n",
       "      <td>0</td>\n",
       "      <td>0</td>\n",
       "      <td>17463</td>\n",
       "      <td>51.8625</td>\n",
       "      <td>E46</td>\n",
       "      <td>S</td>\n",
       "    </tr>\n",
       "    <tr>\n",
       "      <th>8</th>\n",
       "      <td>0</td>\n",
       "      <td>3</td>\n",
       "      <td>Palsson, Master. Gosta Leonard</td>\n",
       "      <td>male</td>\n",
       "      <td>2.0</td>\n",
       "      <td>3</td>\n",
       "      <td>1</td>\n",
       "      <td>349909</td>\n",
       "      <td>21.0750</td>\n",
       "      <td>NaN</td>\n",
       "      <td>S</td>\n",
       "    </tr>\n",
       "    <tr>\n",
       "      <th>9</th>\n",
       "      <td>1</td>\n",
       "      <td>3</td>\n",
       "      <td>Johnson, Mrs. Oscar W (Elisabeth Vilhelmina Berg)</td>\n",
       "      <td>female</td>\n",
       "      <td>27.0</td>\n",
       "      <td>0</td>\n",
       "      <td>2</td>\n",
       "      <td>347742</td>\n",
       "      <td>11.1333</td>\n",
       "      <td>NaN</td>\n",
       "      <td>S</td>\n",
       "    </tr>\n",
       "    <tr>\n",
       "      <th>10</th>\n",
       "      <td>1</td>\n",
       "      <td>2</td>\n",
       "      <td>Nasser, Mrs. Nicholas (Adele Achem)</td>\n",
       "      <td>female</td>\n",
       "      <td>14.0</td>\n",
       "      <td>1</td>\n",
       "      <td>0</td>\n",
       "      <td>237736</td>\n",
       "      <td>30.0708</td>\n",
       "      <td>NaN</td>\n",
       "      <td>C</td>\n",
       "    </tr>\n",
       "  </tbody>\n",
       "</table>\n",
       "</div>"
      ],
      "text/plain": [
       "             Survived  Pclass  \\\n",
       "PassengerId                     \n",
       "1                   0       3   \n",
       "2                   1       1   \n",
       "3                   1       3   \n",
       "4                   1       1   \n",
       "5                   0       3   \n",
       "6                   0       3   \n",
       "7                   0       1   \n",
       "8                   0       3   \n",
       "9                   1       3   \n",
       "10                  1       2   \n",
       "\n",
       "                                                          Name     Sex   Age  \\\n",
       "PassengerId                                                                    \n",
       "1                                      Braund, Mr. Owen Harris    male  22.0   \n",
       "2            Cumings, Mrs. John Bradley (Florence Briggs Th...  female  38.0   \n",
       "3                                       Heikkinen, Miss. Laina  female  26.0   \n",
       "4                 Futrelle, Mrs. Jacques Heath (Lily May Peel)  female  35.0   \n",
       "5                                     Allen, Mr. William Henry    male  35.0   \n",
       "6                                             Moran, Mr. James    male   NaN   \n",
       "7                                      McCarthy, Mr. Timothy J    male  54.0   \n",
       "8                               Palsson, Master. Gosta Leonard    male   2.0   \n",
       "9            Johnson, Mrs. Oscar W (Elisabeth Vilhelmina Berg)  female  27.0   \n",
       "10                         Nasser, Mrs. Nicholas (Adele Achem)  female  14.0   \n",
       "\n",
       "             SibSp  Parch            Ticket     Fare Cabin Embarked  \n",
       "PassengerId                                                          \n",
       "1                1      0         A/5 21171   7.2500   NaN        S  \n",
       "2                1      0          PC 17599  71.2833   C85        C  \n",
       "3                0      0  STON/O2. 3101282   7.9250   NaN        S  \n",
       "4                1      0            113803  53.1000  C123        S  \n",
       "5                0      0            373450   8.0500   NaN        S  \n",
       "6                0      0            330877   8.4583   NaN        Q  \n",
       "7                0      0             17463  51.8625   E46        S  \n",
       "8                3      1            349909  21.0750   NaN        S  \n",
       "9                0      2            347742  11.1333   NaN        S  \n",
       "10               1      0            237736  30.0708   NaN        C  "
      ]
     },
     "execution_count": 2,
     "metadata": {},
     "output_type": "execute_result"
    }
   ],
   "source": [
    "train_data = pd.read_csv(\"https://raw.githubusercontent.com/datasciencedojo/datasets/master/titanic.csv\", sep=\",\", index_col=\"PassengerId\")\n",
    "print(train_data.shape)\n",
    "train_data.head(10)"
   ]
  },
  {
   "cell_type": "markdown",
   "id": "d60d844f-caa7-47db-96b1-43edac9809c1",
   "metadata": {
    "jp-MarkdownHeadingCollapsed": true
   },
   "source": [
    "### 2.2. Outlier Detection"
   ]
  },
  {
   "cell_type": "markdown",
   "id": "7c4f293a-5b78-4157-8a78-3a096fe223f2",
   "metadata": {},
   "source": [
    "**Tukey’s method** is widely used for exploratory data analysis and has become a standard approach for identifying outliers in statistical and data analysis practices. John Tukey looks at the data’s spread using the Interquartile Range (IQR). \n",
    "\n",
    "Tukey defined outliers as those points that fall **below Q1 – 1.5*IQR** or **above Q3 + 1.5*IQR**, providing a clear, quantitative criterion for identifying data points that are significantly different from the bulk of the data in a set."
   ]
  },
  {
   "cell_type": "code",
   "execution_count": 3,
   "id": "6986a33d-abaa-432e-b4c2-b5d2caffd7c3",
   "metadata": {},
   "outputs": [],
   "source": [
    "def outlier_detection(data, features):\n",
    "    \"\"\"\n",
    "    Takes a dataframe and a list of the columns that is decided to apply Tukey´s method for detecting outliers.\n",
    "    Returns a list of indices that are considered outliers.\n",
    "\n",
    "    Parameters\n",
    "    ----------\n",
    "    data : pd.dataframe\n",
    "    features : python list\n",
    "\n",
    "    Returns\n",
    "    -------\n",
    "    python list\n",
    "        Returns a list with the indices of \"data\" which are considered outliers \n",
    "    \"\"\"\n",
    "    outlier_indices = []\n",
    "    n = 2 # treshold\n",
    "    \n",
    "    # Iterate over each feature\n",
    "    for col in features:\n",
    "        # Calculate quartiles\n",
    "        Q1 = np.percentile(data[col], 25)\n",
    "        Q3 = np.percentile(data[col], 75)\n",
    "        # Interquartile range (IQR)\n",
    "        IQR = Q3 - Q1\n",
    "        \n",
    "        # Outlier step\n",
    "        outlier_step = 1.5 * IQR\n",
    "        \n",
    "        # Determine the index of the outliers for feature column\n",
    "        outlier_list_col = data[(data[col] < Q1 - outlier_step) | (data[col] > Q3 + outlier_step)].index\n",
    "        \n",
    "        # Append indices of outliers for every col \n",
    "        outlier_indices.extend(outlier_list_col)\n",
    "        \n",
    "    # Count occurrences of each index\n",
    "    outlier_count = Counter(outlier_indices)\n",
    "    \n",
    "    # Select indices with more than n outliers\n",
    "    outliers_list = [index for index, count in outlier_count.items() if count > n]\n",
    "    \n",
    "    return outliers_list"
   ]
  },
  {
   "cell_type": "code",
   "execution_count": 4,
   "id": "43381004-6a8a-4105-84a1-d05ccbfffa19",
   "metadata": {},
   "outputs": [
    {
     "data": {
      "text/plain": [
       "[28, 89, 160, 181, 202, 325, 342, 793, 847, 864]"
      ]
     },
     "execution_count": 4,
     "metadata": {},
     "output_type": "execute_result"
    }
   ],
   "source": [
    "outliers_to_drop = outlier_detection(train_data, [\"Age\", \"SibSp\", \"Parch\", \"Fare\"])\n",
    "outliers_to_drop"
   ]
  },
  {
   "cell_type": "code",
   "execution_count": 5,
   "id": "a1b1da88-7a4d-46c2-b1bc-dd67a572c2ca",
   "metadata": {},
   "outputs": [
    {
     "data": {
      "text/html": [
       "<div>\n",
       "<style scoped>\n",
       "    .dataframe tbody tr th:only-of-type {\n",
       "        vertical-align: middle;\n",
       "    }\n",
       "\n",
       "    .dataframe tbody tr th {\n",
       "        vertical-align: top;\n",
       "    }\n",
       "\n",
       "    .dataframe thead th {\n",
       "        text-align: right;\n",
       "    }\n",
       "</style>\n",
       "<table border=\"1\" class=\"dataframe\">\n",
       "  <thead>\n",
       "    <tr style=\"text-align: right;\">\n",
       "      <th></th>\n",
       "      <th>Survived</th>\n",
       "      <th>Pclass</th>\n",
       "      <th>Name</th>\n",
       "      <th>Sex</th>\n",
       "      <th>Age</th>\n",
       "      <th>SibSp</th>\n",
       "      <th>Parch</th>\n",
       "      <th>Ticket</th>\n",
       "      <th>Fare</th>\n",
       "      <th>Cabin</th>\n",
       "      <th>Embarked</th>\n",
       "    </tr>\n",
       "    <tr>\n",
       "      <th>PassengerId</th>\n",
       "      <th></th>\n",
       "      <th></th>\n",
       "      <th></th>\n",
       "      <th></th>\n",
       "      <th></th>\n",
       "      <th></th>\n",
       "      <th></th>\n",
       "      <th></th>\n",
       "      <th></th>\n",
       "      <th></th>\n",
       "      <th></th>\n",
       "    </tr>\n",
       "  </thead>\n",
       "  <tbody>\n",
       "    <tr>\n",
       "      <th>28</th>\n",
       "      <td>0</td>\n",
       "      <td>1</td>\n",
       "      <td>Fortune, Mr. Charles Alexander</td>\n",
       "      <td>male</td>\n",
       "      <td>19.0</td>\n",
       "      <td>3</td>\n",
       "      <td>2</td>\n",
       "      <td>19950</td>\n",
       "      <td>263.00</td>\n",
       "      <td>C23 C25 C27</td>\n",
       "      <td>S</td>\n",
       "    </tr>\n",
       "    <tr>\n",
       "      <th>89</th>\n",
       "      <td>1</td>\n",
       "      <td>1</td>\n",
       "      <td>Fortune, Miss. Mabel Helen</td>\n",
       "      <td>female</td>\n",
       "      <td>23.0</td>\n",
       "      <td>3</td>\n",
       "      <td>2</td>\n",
       "      <td>19950</td>\n",
       "      <td>263.00</td>\n",
       "      <td>C23 C25 C27</td>\n",
       "      <td>S</td>\n",
       "    </tr>\n",
       "    <tr>\n",
       "      <th>160</th>\n",
       "      <td>0</td>\n",
       "      <td>3</td>\n",
       "      <td>Sage, Master. Thomas Henry</td>\n",
       "      <td>male</td>\n",
       "      <td>NaN</td>\n",
       "      <td>8</td>\n",
       "      <td>2</td>\n",
       "      <td>CA. 2343</td>\n",
       "      <td>69.55</td>\n",
       "      <td>NaN</td>\n",
       "      <td>S</td>\n",
       "    </tr>\n",
       "    <tr>\n",
       "      <th>181</th>\n",
       "      <td>0</td>\n",
       "      <td>3</td>\n",
       "      <td>Sage, Miss. Constance Gladys</td>\n",
       "      <td>female</td>\n",
       "      <td>NaN</td>\n",
       "      <td>8</td>\n",
       "      <td>2</td>\n",
       "      <td>CA. 2343</td>\n",
       "      <td>69.55</td>\n",
       "      <td>NaN</td>\n",
       "      <td>S</td>\n",
       "    </tr>\n",
       "    <tr>\n",
       "      <th>202</th>\n",
       "      <td>0</td>\n",
       "      <td>3</td>\n",
       "      <td>Sage, Mr. Frederick</td>\n",
       "      <td>male</td>\n",
       "      <td>NaN</td>\n",
       "      <td>8</td>\n",
       "      <td>2</td>\n",
       "      <td>CA. 2343</td>\n",
       "      <td>69.55</td>\n",
       "      <td>NaN</td>\n",
       "      <td>S</td>\n",
       "    </tr>\n",
       "    <tr>\n",
       "      <th>325</th>\n",
       "      <td>0</td>\n",
       "      <td>3</td>\n",
       "      <td>Sage, Mr. George John Jr</td>\n",
       "      <td>male</td>\n",
       "      <td>NaN</td>\n",
       "      <td>8</td>\n",
       "      <td>2</td>\n",
       "      <td>CA. 2343</td>\n",
       "      <td>69.55</td>\n",
       "      <td>NaN</td>\n",
       "      <td>S</td>\n",
       "    </tr>\n",
       "    <tr>\n",
       "      <th>342</th>\n",
       "      <td>1</td>\n",
       "      <td>1</td>\n",
       "      <td>Fortune, Miss. Alice Elizabeth</td>\n",
       "      <td>female</td>\n",
       "      <td>24.0</td>\n",
       "      <td>3</td>\n",
       "      <td>2</td>\n",
       "      <td>19950</td>\n",
       "      <td>263.00</td>\n",
       "      <td>C23 C25 C27</td>\n",
       "      <td>S</td>\n",
       "    </tr>\n",
       "    <tr>\n",
       "      <th>793</th>\n",
       "      <td>0</td>\n",
       "      <td>3</td>\n",
       "      <td>Sage, Miss. Stella Anna</td>\n",
       "      <td>female</td>\n",
       "      <td>NaN</td>\n",
       "      <td>8</td>\n",
       "      <td>2</td>\n",
       "      <td>CA. 2343</td>\n",
       "      <td>69.55</td>\n",
       "      <td>NaN</td>\n",
       "      <td>S</td>\n",
       "    </tr>\n",
       "    <tr>\n",
       "      <th>847</th>\n",
       "      <td>0</td>\n",
       "      <td>3</td>\n",
       "      <td>Sage, Mr. Douglas Bullen</td>\n",
       "      <td>male</td>\n",
       "      <td>NaN</td>\n",
       "      <td>8</td>\n",
       "      <td>2</td>\n",
       "      <td>CA. 2343</td>\n",
       "      <td>69.55</td>\n",
       "      <td>NaN</td>\n",
       "      <td>S</td>\n",
       "    </tr>\n",
       "    <tr>\n",
       "      <th>864</th>\n",
       "      <td>0</td>\n",
       "      <td>3</td>\n",
       "      <td>Sage, Miss. Dorothy Edith \"Dolly\"</td>\n",
       "      <td>female</td>\n",
       "      <td>NaN</td>\n",
       "      <td>8</td>\n",
       "      <td>2</td>\n",
       "      <td>CA. 2343</td>\n",
       "      <td>69.55</td>\n",
       "      <td>NaN</td>\n",
       "      <td>S</td>\n",
       "    </tr>\n",
       "  </tbody>\n",
       "</table>\n",
       "</div>"
      ],
      "text/plain": [
       "             Survived  Pclass                               Name     Sex  \\\n",
       "PassengerId                                                                \n",
       "28                  0       1     Fortune, Mr. Charles Alexander    male   \n",
       "89                  1       1         Fortune, Miss. Mabel Helen  female   \n",
       "160                 0       3         Sage, Master. Thomas Henry    male   \n",
       "181                 0       3       Sage, Miss. Constance Gladys  female   \n",
       "202                 0       3                Sage, Mr. Frederick    male   \n",
       "325                 0       3           Sage, Mr. George John Jr    male   \n",
       "342                 1       1     Fortune, Miss. Alice Elizabeth  female   \n",
       "793                 0       3            Sage, Miss. Stella Anna  female   \n",
       "847                 0       3           Sage, Mr. Douglas Bullen    male   \n",
       "864                 0       3  Sage, Miss. Dorothy Edith \"Dolly\"  female   \n",
       "\n",
       "              Age  SibSp  Parch    Ticket    Fare        Cabin Embarked  \n",
       "PassengerId                                                              \n",
       "28           19.0      3      2     19950  263.00  C23 C25 C27        S  \n",
       "89           23.0      3      2     19950  263.00  C23 C25 C27        S  \n",
       "160           NaN      8      2  CA. 2343   69.55          NaN        S  \n",
       "181           NaN      8      2  CA. 2343   69.55          NaN        S  \n",
       "202           NaN      8      2  CA. 2343   69.55          NaN        S  \n",
       "325           NaN      8      2  CA. 2343   69.55          NaN        S  \n",
       "342          24.0      3      2     19950  263.00  C23 C25 C27        S  \n",
       "793           NaN      8      2  CA. 2343   69.55          NaN        S  \n",
       "847           NaN      8      2  CA. 2343   69.55          NaN        S  \n",
       "864           NaN      8      2  CA. 2343   69.55          NaN        S  "
      ]
     },
     "execution_count": 5,
     "metadata": {},
     "output_type": "execute_result"
    }
   ],
   "source": [
    "# show the detected outliers\n",
    "train_data.loc[outliers_to_drop]  "
   ]
  },
  {
   "cell_type": "markdown",
   "id": "1d0d28dc-131e-4773-bc00-a0aa12227a22",
   "metadata": {},
   "source": [
    "I have detected 10 outliers.\n",
    "\n",
    "The next three passengers: 28, 89 and 342 → outliers because of high Ticket Fare.\n",
    "\n",
    "The remaining seven passengers → high values # of siblings."
   ]
  },
  {
   "cell_type": "code",
   "execution_count": 6,
   "id": "96e6a4f5-f826-4208-a87e-2db2d25b7346",
   "metadata": {},
   "outputs": [
    {
     "name": "stdout",
     "output_type": "stream",
     "text": [
      "(891, 11)\n",
      "(881, 11)\n"
     ]
    }
   ],
   "source": [
    "# Drop outliers\n",
    "train_data_outliers = train_data.copy()  # save the original dataset\n",
    "\n",
    "train_data = train_data.drop(outliers_to_drop, axis=0).reset_index(drop=True)\n",
    "\n",
    "print(train_data_outliers.shape)\n",
    "print(train_data.shape)"
   ]
  },
  {
   "cell_type": "markdown",
   "id": "1efbf01a-c2c8-4145-a27f-2f8f1b8ead3d",
   "metadata": {
    "jp-MarkdownHeadingCollapsed": true
   },
   "source": [
    "### 2.3. Exploring the dataset"
   ]
  },
  {
   "cell_type": "code",
   "execution_count": 7,
   "id": "f0f4f1e0-6e45-4430-87f6-7a6988dd5e45",
   "metadata": {
    "scrolled": true
   },
   "outputs": [
    {
     "name": "stdout",
     "output_type": "stream",
     "text": [
      "<class 'pandas.core.frame.DataFrame'>\n",
      "RangeIndex: 881 entries, 0 to 880\n",
      "Data columns (total 11 columns):\n",
      " #   Column    Non-Null Count  Dtype  \n",
      "---  ------    --------------  -----  \n",
      " 0   Survived  881 non-null    int64  \n",
      " 1   Pclass    881 non-null    int64  \n",
      " 2   Name      881 non-null    object \n",
      " 3   Sex       881 non-null    object \n",
      " 4   Age       711 non-null    float64\n",
      " 5   SibSp     881 non-null    int64  \n",
      " 6   Parch     881 non-null    int64  \n",
      " 7   Ticket    881 non-null    object \n",
      " 8   Fare      881 non-null    float64\n",
      " 9   Cabin     201 non-null    object \n",
      " 10  Embarked  879 non-null    object \n",
      "dtypes: float64(2), int64(4), object(5)\n",
      "memory usage: 75.8+ KB\n"
     ]
    }
   ],
   "source": [
    "train_data.info()"
   ]
  },
  {
   "cell_type": "markdown",
   "id": "290f8ff7-e868-47e7-b5ef-7dfd770f6a28",
   "metadata": {},
   "source": [
    "First of all I can see that Age, Cabin and Embarked have missing values. After exploring the data, I will manage the misssing data.\n",
    "\n",
    "The columns Survived, Pclass, Age, SibSp, Parch, Fare are numerical data. The rest of the features are categorical."
   ]
  },
  {
   "cell_type": "markdown",
   "id": "2969c991-aeb5-44a5-a2ca-1bca281e59a6",
   "metadata": {},
   "source": [
    "#### 2.3.1. Exploring the Numerical Data"
   ]
  },
  {
   "cell_type": "code",
   "execution_count": 8,
   "id": "de9251de-4039-4c3d-b2dc-113c760e0bce",
   "metadata": {},
   "outputs": [
    {
     "data": {
      "text/html": [
       "<div>\n",
       "<style scoped>\n",
       "    .dataframe tbody tr th:only-of-type {\n",
       "        vertical-align: middle;\n",
       "    }\n",
       "\n",
       "    .dataframe tbody tr th {\n",
       "        vertical-align: top;\n",
       "    }\n",
       "\n",
       "    .dataframe thead th {\n",
       "        text-align: right;\n",
       "    }\n",
       "</style>\n",
       "<table border=\"1\" class=\"dataframe\">\n",
       "  <thead>\n",
       "    <tr style=\"text-align: right;\">\n",
       "      <th></th>\n",
       "      <th>Survived</th>\n",
       "      <th>Pclass</th>\n",
       "      <th>Age</th>\n",
       "      <th>SibSp</th>\n",
       "      <th>Parch</th>\n",
       "      <th>Fare</th>\n",
       "    </tr>\n",
       "  </thead>\n",
       "  <tbody>\n",
       "    <tr>\n",
       "      <th>count</th>\n",
       "      <td>881.000000</td>\n",
       "      <td>881.000000</td>\n",
       "      <td>711.000000</td>\n",
       "      <td>881.000000</td>\n",
       "      <td>881.000000</td>\n",
       "      <td>881.000000</td>\n",
       "    </tr>\n",
       "    <tr>\n",
       "      <th>mean</th>\n",
       "      <td>0.385925</td>\n",
       "      <td>2.307605</td>\n",
       "      <td>29.731603</td>\n",
       "      <td>0.455165</td>\n",
       "      <td>0.363224</td>\n",
       "      <td>31.121566</td>\n",
       "    </tr>\n",
       "    <tr>\n",
       "      <th>std</th>\n",
       "      <td>0.487090</td>\n",
       "      <td>0.835055</td>\n",
       "      <td>14.547835</td>\n",
       "      <td>0.871571</td>\n",
       "      <td>0.791839</td>\n",
       "      <td>47.996249</td>\n",
       "    </tr>\n",
       "    <tr>\n",
       "      <th>min</th>\n",
       "      <td>0.000000</td>\n",
       "      <td>1.000000</td>\n",
       "      <td>0.420000</td>\n",
       "      <td>0.000000</td>\n",
       "      <td>0.000000</td>\n",
       "      <td>0.000000</td>\n",
       "    </tr>\n",
       "    <tr>\n",
       "      <th>25%</th>\n",
       "      <td>0.000000</td>\n",
       "      <td>2.000000</td>\n",
       "      <td>20.250000</td>\n",
       "      <td>0.000000</td>\n",
       "      <td>0.000000</td>\n",
       "      <td>7.895800</td>\n",
       "    </tr>\n",
       "    <tr>\n",
       "      <th>50%</th>\n",
       "      <td>0.000000</td>\n",
       "      <td>3.000000</td>\n",
       "      <td>28.000000</td>\n",
       "      <td>0.000000</td>\n",
       "      <td>0.000000</td>\n",
       "      <td>14.454200</td>\n",
       "    </tr>\n",
       "    <tr>\n",
       "      <th>75%</th>\n",
       "      <td>1.000000</td>\n",
       "      <td>3.000000</td>\n",
       "      <td>38.000000</td>\n",
       "      <td>1.000000</td>\n",
       "      <td>0.000000</td>\n",
       "      <td>30.500000</td>\n",
       "    </tr>\n",
       "    <tr>\n",
       "      <th>max</th>\n",
       "      <td>1.000000</td>\n",
       "      <td>3.000000</td>\n",
       "      <td>80.000000</td>\n",
       "      <td>5.000000</td>\n",
       "      <td>6.000000</td>\n",
       "      <td>512.329200</td>\n",
       "    </tr>\n",
       "  </tbody>\n",
       "</table>\n",
       "</div>"
      ],
      "text/plain": [
       "         Survived      Pclass         Age       SibSp       Parch        Fare\n",
       "count  881.000000  881.000000  711.000000  881.000000  881.000000  881.000000\n",
       "mean     0.385925    2.307605   29.731603    0.455165    0.363224   31.121566\n",
       "std      0.487090    0.835055   14.547835    0.871571    0.791839   47.996249\n",
       "min      0.000000    1.000000    0.420000    0.000000    0.000000    0.000000\n",
       "25%      0.000000    2.000000   20.250000    0.000000    0.000000    7.895800\n",
       "50%      0.000000    3.000000   28.000000    0.000000    0.000000   14.454200\n",
       "75%      1.000000    3.000000   38.000000    1.000000    0.000000   30.500000\n",
       "max      1.000000    3.000000   80.000000    5.000000    6.000000  512.329200"
      ]
     },
     "execution_count": 8,
     "metadata": {},
     "output_type": "execute_result"
    }
   ],
   "source": [
    "train_data.describe()"
   ]
  },
  {
   "cell_type": "code",
   "execution_count": 9,
   "id": "32be656f-790a-4277-a20c-04f96f1af1cc",
   "metadata": {},
   "outputs": [
    {
     "data": {
      "image/png": "[encoded data removed]",
      "text/plain": [
       "<Figure size 1000x500 with 2 Axes>"
      ]
     },
     "metadata": {},
     "output_type": "display_data"
    }
   ],
   "source": [
    "correlation_matix = train_data[[\"Survived\",\"SibSp\",\"Parch\",\"Age\",\"Fare\"]].corr()\n",
    "plt.figure(figsize=(10,5))\n",
    "sns.heatmap(correlation_matix, annot=True, cmap=\"coolwarm\", fmt=\".2f\")\n",
    "plt.show()"
   ]
  },
  {
   "cell_type": "markdown",
   "id": "6fd02493-be5e-4c3b-bffc-23217b29f518",
   "metadata": {},
   "source": [
    "With the **Pearon Correlation method** is seems that only \"Fare\" feature seem to have some correlation with the survival probability.\n",
    "\n",
    "It **doesn't mean that the other features are not usefull**. Subpopulations in these features can be correlated with the survival. To determine this, we need to explore in detail these features.\n",
    "\n",
    "Let´s explore them by grouping."
   ]
  },
  {
   "cell_type": "code",
   "execution_count": 10,
   "id": "4e92987e-6d6c-4f9a-b824-21ec26056ee1",
   "metadata": {},
   "outputs": [
    {
     "data": {
      "text/html": [
       "<div>\n",
       "<style scoped>\n",
       "    .dataframe tbody tr th:only-of-type {\n",
       "        vertical-align: middle;\n",
       "    }\n",
       "\n",
       "    .dataframe tbody tr th {\n",
       "        vertical-align: top;\n",
       "    }\n",
       "\n",
       "    .dataframe thead th {\n",
       "        text-align: right;\n",
       "    }\n",
       "</style>\n",
       "<table border=\"1\" class=\"dataframe\">\n",
       "  <thead>\n",
       "    <tr style=\"text-align: right;\">\n",
       "      <th></th>\n",
       "      <th>Pclass</th>\n",
       "      <th>Survived</th>\n",
       "    </tr>\n",
       "  </thead>\n",
       "  <tbody>\n",
       "    <tr>\n",
       "      <th>0</th>\n",
       "      <td>1</td>\n",
       "      <td>0.629108</td>\n",
       "    </tr>\n",
       "    <tr>\n",
       "      <th>1</th>\n",
       "      <td>2</td>\n",
       "      <td>0.472826</td>\n",
       "    </tr>\n",
       "    <tr>\n",
       "      <th>2</th>\n",
       "      <td>3</td>\n",
       "      <td>0.245868</td>\n",
       "    </tr>\n",
       "  </tbody>\n",
       "</table>\n",
       "</div>"
      ],
      "text/plain": [
       "   Pclass  Survived\n",
       "0       1  0.629108\n",
       "1       2  0.472826\n",
       "2       3  0.245868"
      ]
     },
     "execution_count": 10,
     "metadata": {},
     "output_type": "execute_result"
    }
   ],
   "source": [
    "# Grouping data by Ticket class\n",
    "train_data.groupby([\"Pclass\"], as_index=False)[\"Survived\"].mean()"
   ]
  },
  {
   "cell_type": "markdown",
   "id": "4d43625f-1f1f-4ae4-a7af-c23cd4eb1792",
   "metadata": {},
   "source": [
    "It appears that a higher ticket class is correlated with a higher probability of survival."
   ]
  },
  {
   "cell_type": "code",
   "execution_count": 11,
   "id": "62c09fb0-accd-44a5-ba4f-0a5b43427d4d",
   "metadata": {},
   "outputs": [
    {
     "data": {
      "text/html": [
       "<div>\n",
       "<style scoped>\n",
       "    .dataframe tbody tr th:only-of-type {\n",
       "        vertical-align: middle;\n",
       "    }\n",
       "\n",
       "    .dataframe tbody tr th {\n",
       "        vertical-align: top;\n",
       "    }\n",
       "\n",
       "    .dataframe thead th {\n",
       "        text-align: right;\n",
       "    }\n",
       "</style>\n",
       "<table border=\"1\" class=\"dataframe\">\n",
       "  <thead>\n",
       "    <tr style=\"text-align: right;\">\n",
       "      <th></th>\n",
       "      <th>SibSp</th>\n",
       "      <th>Survived</th>\n",
       "    </tr>\n",
       "  </thead>\n",
       "  <tbody>\n",
       "    <tr>\n",
       "      <th>0</th>\n",
       "      <td>0</td>\n",
       "      <td>0.345395</td>\n",
       "    </tr>\n",
       "    <tr>\n",
       "      <th>1</th>\n",
       "      <td>1</td>\n",
       "      <td>0.535885</td>\n",
       "    </tr>\n",
       "    <tr>\n",
       "      <th>2</th>\n",
       "      <td>2</td>\n",
       "      <td>0.464286</td>\n",
       "    </tr>\n",
       "    <tr>\n",
       "      <th>3</th>\n",
       "      <td>3</td>\n",
       "      <td>0.153846</td>\n",
       "    </tr>\n",
       "    <tr>\n",
       "      <th>4</th>\n",
       "      <td>4</td>\n",
       "      <td>0.166667</td>\n",
       "    </tr>\n",
       "    <tr>\n",
       "      <th>5</th>\n",
       "      <td>5</td>\n",
       "      <td>0.000000</td>\n",
       "    </tr>\n",
       "  </tbody>\n",
       "</table>\n",
       "</div>"
      ],
      "text/plain": [
       "   SibSp  Survived\n",
       "0      0  0.345395\n",
       "1      1  0.535885\n",
       "2      2  0.464286\n",
       "3      3  0.153846\n",
       "4      4  0.166667\n",
       "5      5  0.000000"
      ]
     },
     "execution_count": 11,
     "metadata": {},
     "output_type": "execute_result"
    }
   ],
   "source": [
    "# number of siblings / spouses aboard the Titanic\n",
    "train_data.groupby([\"SibSp\"], as_index=False)[\"Survived\"].mean()"
   ]
  },
  {
   "cell_type": "markdown",
   "id": "b67199a3-a6dc-442f-b429-31646a770a08",
   "metadata": {},
   "source": [
    "It seems that have some a sibling/spouse increased the probability of survival than travelling alone. However, having more than 2 siblings/spouses on board drastically reduces the chance of survival, about twice as much as traveling alone."
   ]
  },
  {
   "cell_type": "code",
   "execution_count": 12,
   "id": "90756db3-7ff3-4533-8844-101448d31669",
   "metadata": {},
   "outputs": [
    {
     "data": {
      "text/html": [
       "<div>\n",
       "<style scoped>\n",
       "    .dataframe tbody tr th:only-of-type {\n",
       "        vertical-align: middle;\n",
       "    }\n",
       "\n",
       "    .dataframe tbody tr th {\n",
       "        vertical-align: top;\n",
       "    }\n",
       "\n",
       "    .dataframe thead th {\n",
       "        text-align: right;\n",
       "    }\n",
       "</style>\n",
       "<table border=\"1\" class=\"dataframe\">\n",
       "  <thead>\n",
       "    <tr style=\"text-align: right;\">\n",
       "      <th></th>\n",
       "      <th>Parch</th>\n",
       "      <th>Survived</th>\n",
       "    </tr>\n",
       "  </thead>\n",
       "  <tbody>\n",
       "    <tr>\n",
       "      <th>0</th>\n",
       "      <td>0</td>\n",
       "      <td>0.343658</td>\n",
       "    </tr>\n",
       "    <tr>\n",
       "      <th>1</th>\n",
       "      <td>1</td>\n",
       "      <td>0.550847</td>\n",
       "    </tr>\n",
       "    <tr>\n",
       "      <th>2</th>\n",
       "      <td>2</td>\n",
       "      <td>0.542857</td>\n",
       "    </tr>\n",
       "    <tr>\n",
       "      <th>3</th>\n",
       "      <td>3</td>\n",
       "      <td>0.600000</td>\n",
       "    </tr>\n",
       "    <tr>\n",
       "      <th>4</th>\n",
       "      <td>4</td>\n",
       "      <td>0.000000</td>\n",
       "    </tr>\n",
       "    <tr>\n",
       "      <th>5</th>\n",
       "      <td>5</td>\n",
       "      <td>0.200000</td>\n",
       "    </tr>\n",
       "    <tr>\n",
       "      <th>6</th>\n",
       "      <td>6</td>\n",
       "      <td>0.000000</td>\n",
       "    </tr>\n",
       "  </tbody>\n",
       "</table>\n",
       "</div>"
      ],
      "text/plain": [
       "   Parch  Survived\n",
       "0      0  0.343658\n",
       "1      1  0.550847\n",
       "2      2  0.542857\n",
       "3      3  0.600000\n",
       "4      4  0.000000\n",
       "5      5  0.200000\n",
       "6      6  0.000000"
      ]
     },
     "execution_count": 12,
     "metadata": {},
     "output_type": "execute_result"
    }
   ],
   "source": [
    "# number of parents / children aboard the Titanic\n",
    "train_data.groupby([\"Parch\"], as_index=False)[\"Survived\"].mean()"
   ]
  },
  {
   "cell_type": "markdown",
   "id": "cd029c66-5f4e-4a07-b696-3491d406a626",
   "metadata": {},
   "source": [
    "Here we have similar correlation withe the number of parents/children aboard.\n",
    "\n",
    "We can note that not only the \"Ticket Fare\", but the \"size of the family\" on Titanic board had some importance in the probability of survival. I will take this into account in the feature engineering.\n",
    "\n",
    "What about the age of the passengers?"
   ]
  },
  {
   "cell_type": "code",
   "execution_count": 13,
   "id": "4d503471-bab3-438a-932c-6f8326babcf2",
   "metadata": {},
   "outputs": [
    {
     "data": {
      "image/png": "[encoded data removed]",
      "text/plain": [
       "<Figure size 1000x500 with 2 Axes>"
      ]
     },
     "metadata": {},
     "output_type": "display_data"
    }
   ],
   "source": [
    "# Grouping by Age \n",
    "sns.displot(train_data, x=\"Age\", col=\"Survived\", bins=7)\n",
    "plt.show()"
   ]
  },
  {
   "cell_type": "markdown",
   "id": "d13e17af-aeff-427a-a8c4-1437ba3f6200",
   "metadata": {},
   "source": [
    "Perhaps comparing two histograms is not the best way to visualize two continuous distributions. Let´s try with a boxplot."
   ]
  },
  {
   "cell_type": "code",
   "execution_count": 90,
   "id": "3de0c41e-38c0-44eb-9511-18a84fc35eed",
   "metadata": {},
   "outputs": [
    {
     "data": {
      "image/png": "[encoded data removed]",
      "text/plain": [
       "<Figure size 640x480 with 1 Axes>"
      ]
     },
     "metadata": {},
     "output_type": "display_data"
    }
   ],
   "source": [
    "# Create the boxplot\n",
    "sns.boxplot(data=train_data, x=\"Survived\", y=\"Age\")\n",
    "\n",
    "# Add labels and title\n",
    "plt.xlabel(\"Survived\")\n",
    "plt.ylabel(\"Age\")\n",
    "plt.title(\"Distribution of Age by Survival\")\n",
    "plt.show()"
   ]
  },
  {
   "cell_type": "markdown",
   "id": "fe4a733d-e508-4628-ac6b-09b741eef80b",
   "metadata": {},
   "source": [
    "The age distribution shows a significant concentration of passengers in the 25 to 35 age range, both for those who survived and those who died. \n",
    "\n",
    "However, the most of the passengers (IQR) who survived and those who died were concentrated in a specific age range, which is approximately 25 to 35 years old. This concentration suggests that age was an important factor in the probability of survival.\n",
    "\n",
    "There are several reasons why this age concentration may have influenced the chances of survival: physical condition and mobility, experience and decision-making capacity.\n",
    "\n",
    "Finally let´s explore the last column (\"Fare\") with Numerical Data that at first sight had more correlation than any of the other features."
   ]
  },
  {
   "cell_type": "code",
   "execution_count": 14,
   "id": "b68f4cad-5f6b-4c73-b141-7d8f44840da1",
   "metadata": {},
   "outputs": [
    {
     "data": {
      "image/png": "[encoded data removed]",
      "text/plain": [
       "<Figure size 640x480 with 1 Axes>"
      ]
     },
     "metadata": {},
     "output_type": "display_data"
    }
   ],
   "source": [
    "# Exploring Fare Distribution\n",
    "sns.histplot(train_data[\"Fare\"], color=\"m\", kde=True)\n",
    "plt.title(\"Fare Distribution\")\n",
    "plt.xlabel(\"Fare\")\n",
    "plt.ylabel(\"Frequency\")\n",
    "plt.text(200, 200, \"Skewness: %.2f\" % train_data[\"Fare\"].skew(), fontsize=10)\n",
    "plt.show()"
   ]
  },
  {
   "cell_type": "markdown",
   "id": "f5869235-2bba-4eff-ac6d-436094b60bc6",
   "metadata": {},
   "source": [
    "As we can see, Fare distribution has highly positive skewness, i.e., to the left. This can lead to overweigth very high values in the model, even if it is scaled.\n",
    "\n",
    "In this case, it is better to transform it with the log function to reduce it´s skew.\n",
    "\n",
    "$$log1p = log(1+x)$$\n",
    "\n",
    "Remember to perform the inverse transformation to obtain the original value:\n",
    "\n",
    "$$expm1 = exp(x) - 1$$\n",
    "\n",
    "**This process is done in the point → *2.6. Scaling the data*.**"
   ]
  },
  {
   "cell_type": "markdown",
   "id": "85a1f6d6-0e65-4e3d-a65e-e9d276e23e40",
   "metadata": {},
   "source": [
    "#### 2.3.2. Exploring the Categorical Data"
   ]
  },
  {
   "cell_type": "code",
   "execution_count": 15,
   "id": "2b834bde-9238-4d1d-aa97-a912c951f86f",
   "metadata": {
    "scrolled": true
   },
   "outputs": [
    {
     "data": {
      "text/html": [
       "<div>\n",
       "<style scoped>\n",
       "    .dataframe tbody tr th:only-of-type {\n",
       "        vertical-align: middle;\n",
       "    }\n",
       "\n",
       "    .dataframe tbody tr th {\n",
       "        vertical-align: top;\n",
       "    }\n",
       "\n",
       "    .dataframe thead th {\n",
       "        text-align: right;\n",
       "    }\n",
       "</style>\n",
       "<table border=\"1\" class=\"dataframe\">\n",
       "  <thead>\n",
       "    <tr style=\"text-align: right;\">\n",
       "      <th></th>\n",
       "      <th>Sex</th>\n",
       "      <th>Survived</th>\n",
       "    </tr>\n",
       "  </thead>\n",
       "  <tbody>\n",
       "    <tr>\n",
       "      <th>0</th>\n",
       "      <td>female</td>\n",
       "      <td>0.747573</td>\n",
       "    </tr>\n",
       "    <tr>\n",
       "      <th>1</th>\n",
       "      <td>male</td>\n",
       "      <td>0.190559</td>\n",
       "    </tr>\n",
       "  </tbody>\n",
       "</table>\n",
       "</div>"
      ],
      "text/plain": [
       "      Sex  Survived\n",
       "0  female  0.747573\n",
       "1    male  0.190559"
      ]
     },
     "execution_count": 15,
     "metadata": {},
     "output_type": "execute_result"
    }
   ],
   "source": [
    "# Groping data by Sex\n",
    "train_data.groupby([\"Sex\"], as_index=False)[\"Survived\"].mean()"
   ]
  },
  {
   "cell_type": "markdown",
   "id": "2bc992fb-2d59-4abf-a7a3-11db493d7baa",
   "metadata": {},
   "source": [
    "We can observe that women are more likely to survive. It is likely that during the sinking of the Titanic the “women first” policy was applied when loading the lifeboats. "
   ]
  },
  {
   "cell_type": "code",
   "execution_count": 16,
   "id": "17711859-6f0e-4b76-8bc7-71b6c3fbbee8",
   "metadata": {},
   "outputs": [
    {
     "data": {
      "text/html": [
       "<div>\n",
       "<style scoped>\n",
       "    .dataframe tbody tr th:only-of-type {\n",
       "        vertical-align: middle;\n",
       "    }\n",
       "\n",
       "    .dataframe tbody tr th {\n",
       "        vertical-align: top;\n",
       "    }\n",
       "\n",
       "    .dataframe thead th {\n",
       "        text-align: right;\n",
       "    }\n",
       "</style>\n",
       "<table border=\"1\" class=\"dataframe\">\n",
       "  <thead>\n",
       "    <tr style=\"text-align: right;\">\n",
       "      <th></th>\n",
       "      <th>Embarked</th>\n",
       "      <th>Survived</th>\n",
       "    </tr>\n",
       "  </thead>\n",
       "  <tbody>\n",
       "    <tr>\n",
       "      <th>0</th>\n",
       "      <td>C</td>\n",
       "      <td>0.553571</td>\n",
       "    </tr>\n",
       "    <tr>\n",
       "      <th>1</th>\n",
       "      <td>Q</td>\n",
       "      <td>0.389610</td>\n",
       "    </tr>\n",
       "    <tr>\n",
       "      <th>2</th>\n",
       "      <td>S</td>\n",
       "      <td>0.339117</td>\n",
       "    </tr>\n",
       "  </tbody>\n",
       "</table>\n",
       "</div>"
      ],
      "text/plain": [
       "  Embarked  Survived\n",
       "0        C  0.553571\n",
       "1        Q  0.389610\n",
       "2        S  0.339117"
      ]
     },
     "execution_count": 16,
     "metadata": {},
     "output_type": "execute_result"
    }
   ],
   "source": [
    "# Grouping by Embarked → Port of Embarkation\n",
    "# C = Cherbourg, Q = Queenstown, S = Southampton\n",
    "\n",
    "train_data.groupby([\"Embarked\"], as_index=False)[\"Survived\"].mean()"
   ]
  },
  {
   "cell_type": "markdown",
   "id": "9d85aa7b-e729-4765-add8-7efb0c467d5a",
   "metadata": {},
   "source": [
    "Passengers who embarked from Cherbourg had a higher survival rate compared to those from Queenstown or Southampton. This is possibly due to Cherbourg being the first port of call and the likelihood of more first-class passengers embarking there."
   ]
  },
  {
   "cell_type": "code",
   "execution_count": 17,
   "id": "ed79c210-f1f9-4172-8a86-e2aaf2121548",
   "metadata": {},
   "outputs": [
    {
     "data": {
      "text/plain": [
       "Embarked  Pclass\n",
       "C         1         0.694118\n",
       "          2         0.529412\n",
       "          3         0.378788\n",
       "Q         1         0.500000\n",
       "          2         0.666667\n",
       "          3         0.375000\n",
       "S         1         0.580645\n",
       "          2         0.463415\n",
       "          3         0.193642\n",
       "Name: Survived, dtype: float64"
      ]
     },
     "execution_count": 17,
     "metadata": {},
     "output_type": "execute_result"
    }
   ],
   "source": [
    "train_data.groupby(['Embarked', 'Pclass'])['Survived'].mean()"
   ]
  },
  {
   "cell_type": "markdown",
   "id": "3b8c5e26-b93a-4d8a-98a1-a7c251b6b2b2",
   "metadata": {},
   "source": [
    "## 3. Data preparation"
   ]
  },
  {
   "cell_type": "markdown",
   "id": "7cc9dc0f-af91-4e86-ac54-89ba0c53e156",
   "metadata": {},
   "source": [
    "In this section I´m going to manage the missing values, drop the unnesarry features and encode the categorical data.\n",
    "\n",
    "0.   PassengerId  → 881 non-null    → int64    → OK\n",
    "1.   Survived     → 881 non-null    → int64    → OK\n",
    "2.   Pclass       → 881 non-null    → int64    → OK (categorical data but already transformed like encoded ordinal data)\n",
    "3.   Name         → 881 non-null    → object   → **NOT OK** (categorical data → drop the column)\n",
    "4.   Sex          → 881 non-null    → object    → **NOT OK** (categorical data → encode to numerical)\n",
    "5.   Age          → 711 non-null    → float64   → **NOT OK** (missing values → fill with arithmetic mean)\n",
    "6.   SibSp        → 881 non-null    → int64     → OK\n",
    "7.   Parch        → 881 non-null    → int64     → OK\n",
    "8.   Ticket       → 881 non-null    → object    → **NOT OK** (categorical data → drop the column)\n",
    "9.   Fare         → 881 non-null    → float64   → **NOT OK** (mange the skewness)\n",
    "10.  Cabin        → 201 non-null    → object    → **NOT OK** (missing values → drop the column)\n",
    "11.  Embarked     → 879 non-null    → object    → **NOT OK** (categorical data → encode to numerical)"
   ]
  },
  {
   "cell_type": "code",
   "execution_count": 18,
   "id": "91e58ca1-4dfb-4fee-8cef-f4c4c63429c2",
   "metadata": {},
   "outputs": [
    {
     "name": "stdout",
     "output_type": "stream",
     "text": [
      "<class 'pandas.core.frame.DataFrame'>\n",
      "RangeIndex: 881 entries, 0 to 880\n",
      "Data columns (total 11 columns):\n",
      " #   Column    Non-Null Count  Dtype  \n",
      "---  ------    --------------  -----  \n",
      " 0   Survived  881 non-null    int64  \n",
      " 1   Pclass    881 non-null    int64  \n",
      " 2   Name      881 non-null    object \n",
      " 3   Sex       881 non-null    object \n",
      " 4   Age       711 non-null    float64\n",
      " 5   SibSp     881 non-null    int64  \n",
      " 6   Parch     881 non-null    int64  \n",
      " 7   Ticket    881 non-null    object \n",
      " 8   Fare      881 non-null    float64\n",
      " 9   Cabin     201 non-null    object \n",
      " 10  Embarked  879 non-null    object \n",
      "dtypes: float64(2), int64(4), object(5)\n",
      "memory usage: 75.8+ KB\n"
     ]
    }
   ],
   "source": [
    "train_data.info()"
   ]
  },
  {
   "cell_type": "markdown",
   "id": "03dfce47-b2a2-492b-b417-c6c25308f135",
   "metadata": {
    "jp-MarkdownHeadingCollapsed": true
   },
   "source": [
    "### 3.1. Fixing Null Values"
   ]
  },
  {
   "cell_type": "markdown",
   "id": "3826b100-03c1-4e35-a5c5-ee0c46491269",
   "metadata": {},
   "source": [
    "The missing values are in the next columns:\n",
    "* Age → 570 non-null of 720 total values → fill with the arithmetic mean\n",
    "* Cabin → Just remove the column → not relevant for my simplified model\n",
    "* Embarked → fill it with the most common value."
   ]
  },
  {
   "cell_type": "code",
   "execution_count": 19,
   "id": "f50b48f6-ddf6-4e26-ae4a-fff43684d009",
   "metadata": {},
   "outputs": [],
   "source": [
    "class AgeImputer(BaseEstimator, TransformerMixin):\n",
    "    \n",
    "    def fit(self, X, y=None):  # Since we don´t have really to do any fitting here\n",
    "        return self            # We´re going to return just the self object because fit function → returns BaseEstimator itself\n",
    "    \n",
    "    def transform(self, X):\n",
    "        imputer = SimpleImputer(strategy=\"mean\")\n",
    "        X[\"Age\"] = imputer.fit_transform(X[[\"Age\"]])\n",
    "        return X\n",
    "\n",
    "\n",
    "class EmbarkedImputer(BaseEstimator, TransformerMixin):\n",
    "    \n",
    "    def fit(self, X, y=None):\n",
    "        # Find the most common value in the \"Embarked\" column\n",
    "        self.most_common_embarked = X[\"Embarked\"].mode()[0]\n",
    "        return self\n",
    "    \n",
    "    def transform(self, X):\n",
    "        X[\"Embarked\"].fillna(self.most_common_embarked, inplace=True)\n",
    "        return X"
   ]
  },
  {
   "cell_type": "markdown",
   "id": "287a076f-5035-4924-80af-895cfe4b166d",
   "metadata": {
    "jp-MarkdownHeadingCollapsed": true
   },
   "source": [
    "### 3.2. Encoding Feature"
   ]
  },
  {
   "cell_type": "markdown",
   "id": "3dff4ce8-0190-4e0f-a992-74dd3c42183d",
   "metadata": {},
   "source": [
    "The categorical data can be found between the following columns:\n",
    "* Name → drop the column, I don´t consider that the name is relevant for my simplified model\n",
    "* Sex → categorical data → encode\n",
    "* Cabin → too much missing values, drop the column\n",
    "* Embarked → categorical data → encode"
   ]
  },
  {
   "cell_type": "code",
   "execution_count": 20,
   "id": "12c8fba5-291f-4118-a7bb-eacf0112b855",
   "metadata": {},
   "outputs": [],
   "source": [
    "class FeatureEncoder(BaseEstimator, TransformerMixin):\n",
    "    def fit(self, X, y=None):\n",
    "        return self\n",
    "    \n",
    "    def transform(self, X):\n",
    "        ohe = OneHotEncoder(sparse_output=False)\n",
    "        \n",
    "        ct = make_column_transformer(\n",
    "            (ohe, [\"Sex\", \"Embarked\"]),\n",
    "        )\n",
    "        ct.set_output(transform=\"pandas\")\n",
    "        ohe_transform = ct.fit_transform(X)\n",
    "        X = pd.concat([X, ohe_transform], axis=1)\n",
    "        return X"
   ]
  },
  {
   "cell_type": "markdown",
   "id": "1976452a-7958-4365-b99b-ba3b5d40282b",
   "metadata": {
    "jp-MarkdownHeadingCollapsed": true
   },
   "source": [
    "### 3.3. Dropping Features"
   ]
  },
  {
   "cell_type": "code",
   "execution_count": 21,
   "id": "80b8aeb3-3f75-4747-b386-ffd81f028791",
   "metadata": {},
   "outputs": [],
   "source": [
    "class FeatureDropper(BaseEstimator, TransformerMixin):\n",
    "    def fit(self, X, y=None):\n",
    "        return self\n",
    "\n",
    "    def transform(self, X):\n",
    "        return X.drop([\"Sex\", \"Embarked\", \"Name\", \"Ticket\", \"Cabin\"], axis=1, errors=\"ignore\")"
   ]
  },
  {
   "cell_type": "markdown",
   "id": "08de395e-d3c8-478d-a30e-0ecb5624f435",
   "metadata": {
    "jp-MarkdownHeadingCollapsed": true
   },
   "source": [
    "### 3.4. Pipeline"
   ]
  },
  {
   "cell_type": "markdown",
   "id": "1ee42252-bd53-4032-82f6-60082cc220f2",
   "metadata": {},
   "source": [
    "In this point I will execute all the decisions mentioned above."
   ]
  },
  {
   "cell_type": "code",
   "execution_count": 22,
   "id": "cadae02f-ae20-491e-89e0-638a15611155",
   "metadata": {},
   "outputs": [],
   "source": [
    "# Define the pipeline\n",
    "pipeline = Pipeline([\n",
    "    ('age_imputer', AgeImputer()),        # Fill missing values in Age with arithmetic mean\n",
    "    ('embarked_imputer', EmbarkedImputer()),  # Fill missing values in Embarked with most common value\n",
    "    ('feature_encoder', FeatureEncoder()),   # OneHotEncoding for Sex and Embarked columns\n",
    "    ('feature_drop', FeatureDropper())      # Drop the encoded and unnecessary columns\n",
    "])"
   ]
  },
  {
   "cell_type": "code",
   "execution_count": 23,
   "id": "6f9b1b2d-7c48-4482-a9c5-de5988b2657d",
   "metadata": {},
   "outputs": [],
   "source": [
    "# Transform your training data using the pipeline\n",
    "preprocessed_data = pipeline.fit_transform(train_data)"
   ]
  },
  {
   "cell_type": "code",
   "execution_count": 24,
   "id": "64f1dfdf-3074-4fde-b91e-d6996a094f4b",
   "metadata": {},
   "outputs": [
    {
     "name": "stdout",
     "output_type": "stream",
     "text": [
      "<class 'pandas.core.frame.DataFrame'>\n",
      "RangeIndex: 881 entries, 0 to 880\n",
      "Data columns (total 11 columns):\n",
      " #   Column                     Non-Null Count  Dtype  \n",
      "---  ------                     --------------  -----  \n",
      " 0   Survived                   881 non-null    int64  \n",
      " 1   Pclass                     881 non-null    int64  \n",
      " 2   Age                        881 non-null    float64\n",
      " 3   SibSp                      881 non-null    int64  \n",
      " 4   Parch                      881 non-null    int64  \n",
      " 5   Fare                       881 non-null    float64\n",
      " 6   onehotencoder__Sex_female  881 non-null    float64\n",
      " 7   onehotencoder__Sex_male    881 non-null    float64\n",
      " 8   onehotencoder__Embarked_C  881 non-null    float64\n",
      " 9   onehotencoder__Embarked_Q  881 non-null    float64\n",
      " 10  onehotencoder__Embarked_S  881 non-null    float64\n",
      "dtypes: float64(7), int64(4)\n",
      "memory usage: 75.8 KB\n"
     ]
    }
   ],
   "source": [
    "preprocessed_data.info()"
   ]
  },
  {
   "cell_type": "markdown",
   "id": "73a001e2-ae98-48bd-95cc-ee027f39c0da",
   "metadata": {},
   "source": [
    "Perfect work, no missing values and no object columns."
   ]
  },
  {
   "cell_type": "markdown",
   "id": "1878d29f-b09c-4b1a-a3ec-99d8579ad65c",
   "metadata": {
    "jp-MarkdownHeadingCollapsed": true
   },
   "source": [
    "### 3.5. Data Engineering"
   ]
  },
  {
   "cell_type": "code",
   "execution_count": 25,
   "id": "d1f849ea-7593-49d3-84ac-24a0f56b52e4",
   "metadata": {},
   "outputs": [
    {
     "data": {
      "text/html": [
       "<div>\n",
       "<style scoped>\n",
       "    .dataframe tbody tr th:only-of-type {\n",
       "        vertical-align: middle;\n",
       "    }\n",
       "\n",
       "    .dataframe tbody tr th {\n",
       "        vertical-align: top;\n",
       "    }\n",
       "\n",
       "    .dataframe thead th {\n",
       "        text-align: right;\n",
       "    }\n",
       "</style>\n",
       "<table border=\"1\" class=\"dataframe\">\n",
       "  <thead>\n",
       "    <tr style=\"text-align: right;\">\n",
       "      <th></th>\n",
       "      <th>family_size</th>\n",
       "      <th>Survived</th>\n",
       "    </tr>\n",
       "  </thead>\n",
       "  <tbody>\n",
       "    <tr>\n",
       "      <th>0</th>\n",
       "      <td>1</td>\n",
       "      <td>0.303538</td>\n",
       "    </tr>\n",
       "    <tr>\n",
       "      <th>1</th>\n",
       "      <td>2</td>\n",
       "      <td>0.552795</td>\n",
       "    </tr>\n",
       "    <tr>\n",
       "      <th>2</th>\n",
       "      <td>3</td>\n",
       "      <td>0.578431</td>\n",
       "    </tr>\n",
       "    <tr>\n",
       "      <th>3</th>\n",
       "      <td>4</td>\n",
       "      <td>0.724138</td>\n",
       "    </tr>\n",
       "    <tr>\n",
       "      <th>4</th>\n",
       "      <td>5</td>\n",
       "      <td>0.200000</td>\n",
       "    </tr>\n",
       "    <tr>\n",
       "      <th>5</th>\n",
       "      <td>6</td>\n",
       "      <td>0.052632</td>\n",
       "    </tr>\n",
       "    <tr>\n",
       "      <th>6</th>\n",
       "      <td>7</td>\n",
       "      <td>0.333333</td>\n",
       "    </tr>\n",
       "    <tr>\n",
       "      <th>7</th>\n",
       "      <td>8</td>\n",
       "      <td>0.000000</td>\n",
       "    </tr>\n",
       "  </tbody>\n",
       "</table>\n",
       "</div>"
      ],
      "text/plain": [
       "   family_size  Survived\n",
       "0            1  0.303538\n",
       "1            2  0.552795\n",
       "2            3  0.578431\n",
       "3            4  0.724138\n",
       "4            5  0.200000\n",
       "5            6  0.052632\n",
       "6            7  0.333333\n",
       "7            8  0.000000"
      ]
     },
     "execution_count": 25,
     "metadata": {},
     "output_type": "execute_result"
    }
   ],
   "source": [
    "# Create Family Size Column  →  + 1 for youself\n",
    "preprocessed_data[\"family_size\"] = preprocessed_data[\"SibSp\"] + preprocessed_data[\"Parch\"] + 1\n",
    "\n",
    "# Grouping by the Family Size\n",
    "preprocessed_data.groupby([\"family_size\"], as_index=False)[\"Survived\"].mean()"
   ]
  },
  {
   "cell_type": "markdown",
   "id": "21cd625b-7389-4329-a88d-7c70aba204f2",
   "metadata": {},
   "source": [
    "I will work with two datasets making two different decisions. \n",
    "- A. Keep the columns \"SibSp\" and \"Parch\"\n",
    "- B. Delete the columns \"SibSp\" and \"Parch\". Model only with \"family size\".\n",
    "\n",
    "Afterward I will evaluate which decision works best for the model to have better predictions."
   ]
  },
  {
   "cell_type": "code",
   "execution_count": 26,
   "id": "c2b99d9b-40a2-47f5-bb14-503f5c9cb93b",
   "metadata": {},
   "outputs": [],
   "source": [
    "simplified_data = preprocessed_data.copy()\n",
    "\n",
    "simplified_data.drop([\"SibSp\", \"Parch\"], axis=1, inplace=True)"
   ]
  },
  {
   "cell_type": "code",
   "execution_count": 27,
   "id": "5c3aa41e-c5e5-4ac7-944a-c9a84260d68b",
   "metadata": {},
   "outputs": [
    {
     "name": "stdout",
     "output_type": "stream",
     "text": [
      "(881, 10)\n",
      "(881, 12)\n"
     ]
    }
   ],
   "source": [
    "# check\n",
    "print(simplified_data.shape)\n",
    "print(preprocessed_data.shape)"
   ]
  },
  {
   "cell_type": "markdown",
   "id": "84c7c196-b0ab-4e54-89f4-7a1a4e405217",
   "metadata": {
    "jp-MarkdownHeadingCollapsed": true
   },
   "source": [
    "### 3.6. Scaling Data"
   ]
  },
  {
   "cell_type": "markdown",
   "id": "d5cf077e-37eb-448f-a386-3851d5140f15",
   "metadata": {},
   "source": [
    "Before starting with the scaling process, first I will manage the **skewness** with the \"Fare\" feature."
   ]
  },
  {
   "cell_type": "code",
   "execution_count": 28,
   "id": "15bd0bc5-c315-450a-a3ed-33592d59c475",
   "metadata": {},
   "outputs": [
    {
     "data": {
      "image/png": "[encoded data removed]",
      "text/plain": [
       "<Figure size 640x480 with 1 Axes>"
      ]
     },
     "metadata": {},
     "output_type": "display_data"
    }
   ],
   "source": [
    "# Exploring Fare Distribution\n",
    "sns.histplot(preprocessed_data[\"Fare\"], color=\"m\", kde=True)\n",
    "plt.title(\"Fare Distribution\")\n",
    "plt.xlabel(\"Fare\")\n",
    "plt.ylabel(\"Frequency\")\n",
    "plt.text(200, 100, \"Skewness: %.2f\" % train_data[\"Fare\"].skew(), fontsize=12)\n",
    "plt.show()"
   ]
  },
  {
   "cell_type": "code",
   "execution_count": 29,
   "id": "47c101e6-2f41-41fb-a26b-7dc2e15b255d",
   "metadata": {},
   "outputs": [
    {
     "name": "stderr",
     "output_type": "stream",
     "text": [
      "C:\\Users\\Mitko Stoychev\\anaconda3\\Lib\\site-packages\\sklearn\\base.py:432: UserWarning: X has feature names, but FunctionTransformer was fitted without feature names\n",
      "  warnings.warn(\n",
      "C:\\Users\\Mitko Stoychev\\anaconda3\\Lib\\site-packages\\sklearn\\base.py:432: UserWarning: X has feature names, but FunctionTransformer was fitted without feature names\n",
      "  warnings.warn(\n"
     ]
    }
   ],
   "source": [
    "# Apply log to Fare to reduce skewness distribution\n",
    "transformer = FunctionTransformer(np.log1p, validate=True)\n",
    "\n",
    "# Obtain logarithmic values\n",
    "preprocessed_data_transf = transformer.transform(preprocessed_data[[\"Fare\"]])\n",
    "simplified_data_transf = transformer.transform(simplified_data[[\"Fare\"]])\n",
    "\n",
    "# Replace the real values with the logarithmic ones\n",
    "preprocessed_data[\"Fare\"] = preprocessed_data_transf\n",
    "simplified_data[\"Fare\"] = simplified_data_transf"
   ]
  },
  {
   "cell_type": "code",
   "execution_count": 30,
   "id": "4f95a104-05ea-48d8-923e-adab364a3e55",
   "metadata": {},
   "outputs": [
    {
     "data": {
      "image/png": "[encoded data removed]",
      "text/plain": [
       "<Figure size 640x480 with 1 Axes>"
      ]
     },
     "metadata": {},
     "output_type": "display_data"
    }
   ],
   "source": [
    "# Exploring Fare Distribution\n",
    "sns.histplot(preprocessed_data[\"Fare\"], color=\"m\", kde=True)\n",
    "plt.title(\"Fare Distribution\")\n",
    "plt.xlabel(\"Fare\")\n",
    "plt.ylabel(\"Frequency\")\n",
    "plt.text(2, 200, \"Skewness: %.2f\" % preprocessed_data[\"Fare\"].skew(), fontsize=12)\n",
    "plt.show()"
   ]
  },
  {
   "cell_type": "markdown",
   "id": "1e6dda43-0e97-46c0-95b4-2a2b894d5aaa",
   "metadata": {},
   "source": [
    "I can confirm that skewness is clearly reduced, from 5.06 to 0.39.\n",
    "\n",
    "I will now proceed to Feature Scaling with the Standarization method (Z-score normalization). This is achieved by subtracting the mean of each feature and then dividing by its standard deviation.\n",
    "\n",
    "<span style=\"font-size: 1.5em;\"> $z = \\frac{x - \\mu}{\\sigma}$ </span>\n",
    "\n",
    "Where:\n",
    "\n",
    "* $z$ is the standardized value,\n",
    "* $x$ is the original value,\n",
    "* $\\mu$ is the mean of the feature,\n",
    "* $\\sigma$ is the standard deviation of the feature."
   ]
  },
  {
   "cell_type": "markdown",
   "id": "a3a70ce6-cac7-46c6-9779-5210d1bb44f4",
   "metadata": {},
   "source": [
    "I will do 2 different decisions in every dataset.\n",
    "- \"preprocessed_data\" → Standarization in every not encoded column.\n",
    "- \"simplified_data\" → Standarization only in \"Age and \"Fare\" column. (\"family_size\" won´t be scaled\")"
   ]
  },
  {
   "cell_type": "code",
   "execution_count": 31,
   "id": "8222cdde-f491-4c7d-a831-1a71a78592fc",
   "metadata": {},
   "outputs": [],
   "source": [
    "# Create scaler object \n",
    "scaler = StandardScaler()\n",
    "\n",
    "# Define the columns that I will scale in every case\n",
    "columns_to_scale = [\"Age\", \"SibSp\", \"Parch\", \"Fare\", \"family_size\"]\n",
    "col_to_scale = [\"Age\", \"Fare\"]  #Simplified dataset do not scale family_size\n",
    "\n",
    "# Extract the subset of columns to scale\n",
    "preprocessed_data_subset = preprocessed_data[columns_to_scale]\n",
    "simplified_data_subset = simplified_data[col_to_scale]\n",
    "\n",
    "# Fit and transform the training data with the scaler\n",
    "preprocessed_data_scaled = scaler.fit_transform(preprocessed_data_subset)\n",
    "preprocessed_data_scaled = pd.DataFrame(preprocessed_data_scaled, columns=columns_to_scale)\n",
    "\n",
    "# Fit and transform the \"simplified dataset\" with the scaler\n",
    "simplified_data_scaled = scaler.fit_transform(simplified_data_subset)\n",
    "simplified_data_scaled = pd.DataFrame(simplified_data_scaled, columns=col_to_scale)\n",
    "\n",
    "# Concatenate the scaled columns with the original datasets\n",
    "preprocessed_data = pd.concat([preprocessed_data.drop(columns=columns_to_scale), preprocessed_data_scaled], axis=1)\n",
    "simplified_data = pd.concat([simplified_data.drop(columns=col_to_scale), simplified_data_scaled], axis=1)"
   ]
  },
  {
   "cell_type": "markdown",
   "id": "4f839ba0-52f8-4382-8e32-53c080e453e6",
   "metadata": {
    "jp-MarkdownHeadingCollapsed": true
   },
   "source": [
    "## 4. Modelling\n",
    "Before we start modeling, we have to separate the data into training set and test set."
   ]
  },
  {
   "cell_type": "markdown",
   "id": "cf68e950-ee72-4fc4-811b-6b5d1c917f27",
   "metadata": {},
   "source": [
    "###  <font color=\"green\"> 4.1. *preprocessed_data* <font>"
   ]
  },
  {
   "cell_type": "markdown",
   "id": "c4abe1cc-835f-4afa-91e5-44e1d50a1bb6",
   "metadata": {
    "jp-MarkdownHeadingCollapsed": true
   },
   "source": [
    "#### 4.1.1. Split the data"
   ]
  },
  {
   "cell_type": "code",
   "execution_count": 32,
   "id": "40a0fd88-7b6f-4b3e-8ef1-2f1f4d1aa640",
   "metadata": {},
   "outputs": [],
   "source": [
    "# Define X and y\n",
    "X = preprocessed_data.drop([\"Survived\"], axis=1)\n",
    "y = preprocessed_data[\"Survived\"]"
   ]
  },
  {
   "cell_type": "code",
   "execution_count": 33,
   "id": "dab02e0f-e670-4dbd-b79f-69dc3e3611c1",
   "metadata": {},
   "outputs": [],
   "source": [
    "X_train, X_test, y_train, y_test = train_test_split(X, y, test_size=0.2)"
   ]
  },
  {
   "cell_type": "markdown",
   "id": "2c2a161f-1da1-4286-aaea-88964cf56fe7",
   "metadata": {
    "jp-MarkdownHeadingCollapsed": true
   },
   "source": [
    "#### 4.1.2. Define the model"
   ]
  },
  {
   "cell_type": "code",
   "execution_count": 35,
   "id": "756db83c-9d5f-450c-b59d-89f749a03bd9",
   "metadata": {},
   "outputs": [],
   "source": [
    "# Define a LogisticRegression Model\n",
    "model_lg = LogisticRegression(random_state = 42)"
   ]
  },
  {
   "cell_type": "code",
   "execution_count": 36,
   "id": "0f7f5ab5-2db0-4dc2-ac81-7b934c4765be",
   "metadata": {},
   "outputs": [
    {
     "data": {
      "text/html": [
       "<style>#sk-container-id-1 {color: black;background-color: white;}#sk-container-id-1 pre{padding: 0;}#sk-container-id-1 div.sk-toggleable {background-color: white;}#sk-container-id-1 label.sk-toggleable__label {cursor: pointer;display: block;width: 100%;margin-bottom: 0;padding: 0.3em;box-sizing: border-box;text-align: center;}#sk-container-id-1 label.sk-toggleable__label-arrow:before {content: \"▸\";float: left;margin-right: 0.25em;color: #696969;}#sk-container-id-1 label.sk-toggleable__label-arrow:hover:before {color: black;}#sk-container-id-1 div.sk-estimator:hover label.sk-toggleable__label-arrow:before {color: black;}#sk-container-id-1 div.sk-toggleable__content {max-height: 0;max-width: 0;overflow: hidden;text-align: left;background-color: #f0f8ff;}#sk-container-id-1 div.sk-toggleable__content pre {margin: 0.2em;color: black;border-radius: 0.25em;background-color: #f0f8ff;}#sk-container-id-1 input.sk-toggleable__control:checked~div.sk-toggleable__content {max-height: 200px;max-width: 100%;overflow: auto;}#sk-container-id-1 input.sk-toggleable__control:checked~label.sk-toggleable__label-arrow:before {content: \"▾\";}#sk-container-id-1 div.sk-estimator input.sk-toggleable__control:checked~label.sk-toggleable__label {background-color: #d4ebff;}#sk-container-id-1 div.sk-label input.sk-toggleable__control:checked~label.sk-toggleable__label {background-color: #d4ebff;}#sk-container-id-1 input.sk-hidden--visually {border: 0;clip: rect(1px 1px 1px 1px);clip: rect(1px, 1px, 1px, 1px);height: 1px;margin: -1px;overflow: hidden;padding: 0;position: absolute;width: 1px;}#sk-container-id-1 div.sk-estimator {font-family: monospace;background-color: #f0f8ff;border: 1px dotted black;border-radius: 0.25em;box-sizing: border-box;margin-bottom: 0.5em;}#sk-container-id-1 div.sk-estimator:hover {background-color: #d4ebff;}#sk-container-id-1 div.sk-parallel-item::after {content: \"\";width: 100%;border-bottom: 1px solid gray;flex-grow: 1;}#sk-container-id-1 div.sk-label:hover label.sk-toggleable__label {background-color: #d4ebff;}#sk-container-id-1 div.sk-serial::before {content: \"\";position: absolute;border-left: 1px solid gray;box-sizing: border-box;top: 0;bottom: 0;left: 50%;z-index: 0;}#sk-container-id-1 div.sk-serial {display: flex;flex-direction: column;align-items: center;background-color: white;padding-right: 0.2em;padding-left: 0.2em;position: relative;}#sk-container-id-1 div.sk-item {position: relative;z-index: 1;}#sk-container-id-1 div.sk-parallel {display: flex;align-items: stretch;justify-content: center;background-color: white;position: relative;}#sk-container-id-1 div.sk-item::before, #sk-container-id-1 div.sk-parallel-item::before {content: \"\";position: absolute;border-left: 1px solid gray;box-sizing: border-box;top: 0;bottom: 0;left: 50%;z-index: -1;}#sk-container-id-1 div.sk-parallel-item {display: flex;flex-direction: column;z-index: 1;position: relative;background-color: white;}#sk-container-id-1 div.sk-parallel-item:first-child::after {align-self: flex-end;width: 50%;}#sk-container-id-1 div.sk-parallel-item:last-child::after {align-self: flex-start;width: 50%;}#sk-container-id-1 div.sk-parallel-item:only-child::after {width: 0;}#sk-container-id-1 div.sk-dashed-wrapped {border: 1px dashed gray;margin: 0 0.4em 0.5em 0.4em;box-sizing: border-box;padding-bottom: 0.4em;background-color: white;}#sk-container-id-1 div.sk-label label {font-family: monospace;font-weight: bold;display: inline-block;line-height: 1.2em;}#sk-container-id-1 div.sk-label-container {text-align: center;}#sk-container-id-1 div.sk-container {/* jupyter's `normalize.less` sets `[hidden] { display: none; }` but bootstrap.min.css set `[hidden] { display: none !important; }` so we also need the `!important` here to be able to override the default hidden behavior on the sphinx rendered scikit-learn.org. See: https://github.com/scikit-learn/scikit-learn/issues/21755 */display: inline-block !important;position: relative;}#sk-container-id-1 div.sk-text-repr-fallback {display: none;}</style><div id=\"sk-container-id-1\" class=\"sk-top-container\"><div class=\"sk-text-repr-fallback\"><pre>LogisticRegression(random_state=42)</pre><b>In a Jupyter environment, please rerun this cell to show the HTML representation or trust the notebook. <br />On GitHub, the HTML representation is unable to render, please try loading this page with nbviewer.org.</b></div><div class=\"sk-container\" hidden><div class=\"sk-item\"><div class=\"sk-estimator sk-toggleable\"><input class=\"sk-toggleable__control sk-hidden--visually\" id=\"sk-estimator-id-1\" type=\"checkbox\" checked><label for=\"sk-estimator-id-1\" class=\"sk-toggleable__label sk-toggleable__label-arrow\">LogisticRegression</label><div class=\"sk-toggleable__content\"><pre>LogisticRegression(random_state=42)</pre></div></div></div></div></div>"
      ],
      "text/plain": [
       "LogisticRegression(random_state=42)"
      ]
     },
     "execution_count": 36,
     "metadata": {},
     "output_type": "execute_result"
    }
   ],
   "source": [
    "# Train the model\n",
    "model_lg.fit(X_train, y_train)"
   ]
  },
  {
   "cell_type": "code",
   "execution_count": 37,
   "id": "2fa432c2-99b6-44ec-a815-a2afb527d3ab",
   "metadata": {},
   "outputs": [],
   "source": [
    "# Try prediction\n",
    "prediction_lr = model_lg.predict(X_test)"
   ]
  },
  {
   "cell_type": "markdown",
   "id": "69c283df-a101-4b05-b3d8-16bec9d36a78",
   "metadata": {
    "jp-MarkdownHeadingCollapsed": true
   },
   "source": [
    "#### 4.1.3. Performance Metrics"
   ]
  },
  {
   "cell_type": "code",
   "execution_count": 38,
   "id": "7bf309c4-6669-4ee1-a719-8e2f02eba4d7",
   "metadata": {},
   "outputs": [
    {
     "name": "stdout",
     "output_type": "stream",
     "text": [
      "Accuracy: 0.7627118644067796\n"
     ]
    }
   ],
   "source": [
    "# Calculate accuracy\n",
    "accuracy = accuracy_score(y_test, prediction_lr)\n",
    "print(\"Accuracy:\", accuracy)"
   ]
  },
  {
   "cell_type": "markdown",
   "id": "1c9733e7-2e1b-45eb-b29e-2f4c2db0dd08",
   "metadata": {},
   "source": [
    "<span style=\"font-size: 1.5em;\"> $ Accuracy = \\frac{Correct Predictions}{Total Predictions}$ </span>\n",
    "\n",
    "This metric measures the overall correctness of the model's predictions. An accuracy of around 0.7627 means that approximately 76.27% of the predictions made by the model are correct. It seems to be a decent predictive model, considering the simplicity of logistic regression.\n",
    "\n",
    "While accuracy is a useful metric, it may not provide a complete picture, especially in imbalanced datasets or when the cost of false positives and false negatives differs significantly."
   ]
  },
  {
   "cell_type": "code",
   "execution_count": 51,
   "id": "59105d2d-2745-4269-a9ec-28d80750e55a",
   "metadata": {},
   "outputs": [
    {
     "data": {
      "text/plain": [
       "Survived\n",
       "0    112\n",
       "1     65\n",
       "Name: count, dtype: int64"
      ]
     },
     "execution_count": 51,
     "metadata": {},
     "output_type": "execute_result"
    }
   ],
   "source": [
    "y_test.value_counts()"
   ]
  },
  {
   "cell_type": "markdown",
   "id": "15b405ee-dd7e-45a2-8a08-9e1fc82d21d2",
   "metadata": {},
   "source": [
    "Our test set  is **clearly unbalanced** because there is a difference in the number of instances between the two classes. In this case, the \"Survived\" class with label 0 has 112 instances (63%), while the \"Survived\" class with label 1 has 65 instances (37%). Tt's important to consider the implications.\n",
    "\n",
    "Class imbalance can affect the performance of machine learning models, especially those that are sensitive to class distribution, such as Logistic Regression. In such cases, the model may become biased towards the majority class (in this case, class 0), leading to lower predictive performance for the minority class (class 1)."
   ]
  },
  {
   "cell_type": "code",
   "execution_count": 52,
   "id": "177627e0-9553-4600-a75d-a5c304ca63f1",
   "metadata": {},
   "outputs": [
    {
     "name": "stdout",
     "output_type": "stream",
     "text": [
      "Precision: 0.6949152542372882\n"
     ]
    }
   ],
   "source": [
    "# Calculate precision\n",
    "precision = precision_score(y_test, prediction_lr)\n",
    "print(\"Precision:\", precision)"
   ]
  },
  {
   "cell_type": "markdown",
   "id": "1af27ea0-620f-4007-ad91-f10c24811fb2",
   "metadata": {},
   "source": [
    "<span style=\"font-size: 1.5em;\"> $ Precision = \\frac{TruePositive}{TruePositive + FalsePositive}$ </span>\n",
    "\n",
    "Precision measures the proportion of true positive predictions out of all positive predictions made by the model. With a precision of 0.69, it means that out of all the instances predicted as survived, 69% of them were actually correct. \n",
    "\n",
    "Now, let's consider the imbalance in the dataset. Since precision is influenced by the number of true negatives (TN), and we have a large number of instances in the negative class (112), it's more probable to achieve good precision by predicting most instances as negative. In this context, a precision of 0.69 is not necessarily a bad metric, but it is not a good metric either, it should be interpreted cautiously."
   ]
  },
  {
   "cell_type": "code",
   "execution_count": 53,
   "id": "c3425777-d614-44b3-b0e3-89a32778bf3e",
   "metadata": {},
   "outputs": [
    {
     "name": "stdout",
     "output_type": "stream",
     "text": [
      "Recall: 0.6307692307692307\n"
     ]
    }
   ],
   "source": [
    "# Calculate recall\n",
    "recall = recall_score(y_test, prediction_lr)\n",
    "print(\"Recall:\", recall)"
   ]
  },
  {
   "cell_type": "markdown",
   "id": "ba3f9fa0-fd8b-41de-a777-c0042dd40894",
   "metadata": {},
   "source": [
    "<span style=\"font-size: 1.5em;\"> $ Recall = \\frac{TruePositive}{TruePositive + FalseNegative}$ </span>\n",
    "\n",
    "Recall, also known as sensitivity or true positive rate, measures the proportion of correctly predicted positive cases (survived passengers) out of all actual positive cases in the dataset. In the context of an imbalanced dataset like the Titanic dataset, where there are fewer instances of the positive class (survived passengers), recall is an important metric to consider."
   ]
  },
  {
   "cell_type": "code",
   "execution_count": 54,
   "id": "15f0a86f-75d0-4186-a54e-ef44f23ea318",
   "metadata": {},
   "outputs": [
    {
     "name": "stdout",
     "output_type": "stream",
     "text": [
      "F1 Score: 0.6612903225806452\n"
     ]
    }
   ],
   "source": [
    "# Calculate F1 score\n",
    "f1 = f1_score(y_test, prediction_lr)\n",
    "print(\"F1 Score:\", f1)"
   ]
  },
  {
   "cell_type": "markdown",
   "id": "478cd71d-7f10-4e5d-80de-463b35d0d4f4",
   "metadata": {},
   "source": [
    "<span style=\"font-size: 1.5em;\"> $ F1 Score = 2 * \\frac{Precision * Recall}{Precision + Recall}$ </span>\n",
    "\n",
    "F1 score is the harmonic mean of precision and recall. \n",
    "\n",
    "\n",
    "To sum, while the **accuracy** of **76%** may seem promising at **first glance**, the imbalance in the dataset skews the interpretation. The **imbalance**, where the majority class (not survived) significantly outnumbers the minority class (survived), can lead to a situation where a model that simply predicts the majority class for all instances could achieve high accuracy.\n",
    "\n",
    "In this case, with an imbalance where the majority class comprises around 63% of the data, a model that predicts all instances as not survived would achieve an accuracy of approximately 76%. But the reallity is that due to the imbalance of the data the correct prediction is around the 66%, i.e. it is not a very accurate model."
   ]
  },
  {
   "cell_type": "markdown",
   "id": "f3e9eed5-11ae-4411-b80c-7b8a09c3019b",
   "metadata": {
    "jp-MarkdownHeadingCollapsed": true
   },
   "source": [
    "#### 4.1.4. Tunning"
   ]
  },
  {
   "cell_type": "code",
   "execution_count": 63,
   "id": "f519d769-97e8-4fb3-b2ed-10c9947ae47c",
   "metadata": {},
   "outputs": [],
   "source": [
    "# Define the parameter grid\n",
    "param_grid = {\n",
    "    'C': [0.001, 0.005, 0.01, 0.005, 0.1, 0.5, 1, 10, 100],        # Regularization strength\n",
    "    'penalty': ['l1', 'l2'],                                       # L1 regularization (Lasso) or L2 regularization (Ridge)\n",
    "    'solver': ['liblinear', 'lbfgs', 'saga'],                      # Solver algorithm\n",
    "    'class_weight': [None, 'balanced']                             # Class weights for handling imbalanced data\n",
    "}"
   ]
  },
  {
   "cell_type": "code",
   "execution_count": 67,
   "id": "3fd7f89c-261e-474d-aed7-365f8f81ebd0",
   "metadata": {},
   "outputs": [],
   "source": [
    "# Initialize the grid search\n",
    "grid_search = GridSearchCV(LogisticRegression(random_state=42), param_grid, cv=5, scoring='accuracy')"
   ]
  },
  {
   "cell_type": "code",
   "execution_count": 68,
   "id": "fa31bf28-91b1-44b4-8b38-cbbcf2674f4e",
   "metadata": {},
   "outputs": [
    {
     "name": "stderr",
     "output_type": "stream",
     "text": [
      "C:\\Users\\Mitko Stoychev\\anaconda3\\Lib\\site-packages\\sklearn\\linear_model\\_sag.py:350: ConvergenceWarning: The max_iter was reached which means the coef_ did not converge\n",
      "  warnings.warn(\n",
      "C:\\Users\\Mitko Stoychev\\anaconda3\\Lib\\site-packages\\sklearn\\linear_model\\_sag.py:350: ConvergenceWarning: The max_iter was reached which means the coef_ did not converge\n",
      "  warnings.warn(\n",
      "C:\\Users\\Mitko Stoychev\\anaconda3\\Lib\\site-packages\\sklearn\\linear_model\\_sag.py:350: ConvergenceWarning: The max_iter was reached which means the coef_ did not converge\n",
      "  warnings.warn(\n",
      "C:\\Users\\Mitko Stoychev\\anaconda3\\Lib\\site-packages\\sklearn\\linear_model\\_sag.py:350: ConvergenceWarning: The max_iter was reached which means the coef_ did not converge\n",
      "  warnings.warn(\n",
      "C:\\Users\\Mitko Stoychev\\anaconda3\\Lib\\site-packages\\sklearn\\linear_model\\_sag.py:350: ConvergenceWarning: The max_iter was reached which means the coef_ did not converge\n",
      "  warnings.warn(\n",
      "C:\\Users\\Mitko Stoychev\\anaconda3\\Lib\\site-packages\\sklearn\\linear_model\\_sag.py:350: ConvergenceWarning: The max_iter was reached which means the coef_ did not converge\n",
      "  warnings.warn(\n",
      "C:\\Users\\Mitko Stoychev\\anaconda3\\Lib\\site-packages\\sklearn\\linear_model\\_sag.py:350: ConvergenceWarning: The max_iter was reached which means the coef_ did not converge\n",
      "  warnings.warn(\n",
      "C:\\Users\\Mitko Stoychev\\anaconda3\\Lib\\site-packages\\sklearn\\linear_model\\_sag.py:350: ConvergenceWarning: The max_iter was reached which means the coef_ did not converge\n",
      "  warnings.warn(\n",
      "C:\\Users\\Mitko Stoychev\\anaconda3\\Lib\\site-packages\\sklearn\\linear_model\\_sag.py:350: ConvergenceWarning: The max_iter was reached which means the coef_ did not converge\n",
      "  warnings.warn(\n",
      "C:\\Users\\Mitko Stoychev\\anaconda3\\Lib\\site-packages\\sklearn\\linear_model\\_sag.py:350: ConvergenceWarning: The max_iter was reached which means the coef_ did not converge\n",
      "  warnings.warn(\n",
      "C:\\Users\\Mitko Stoychev\\anaconda3\\Lib\\site-packages\\sklearn\\linear_model\\_sag.py:350: ConvergenceWarning: The max_iter was reached which means the coef_ did not converge\n",
      "  warnings.warn(\n",
      "C:\\Users\\Mitko Stoychev\\anaconda3\\Lib\\site-packages\\sklearn\\linear_model\\_sag.py:350: ConvergenceWarning: The max_iter was reached which means the coef_ did not converge\n",
      "  warnings.warn(\n",
      "C:\\Users\\Mitko Stoychev\\anaconda3\\Lib\\site-packages\\sklearn\\linear_model\\_sag.py:350: ConvergenceWarning: The max_iter was reached which means the coef_ did not converge\n",
      "  warnings.warn(\n",
      "C:\\Users\\Mitko Stoychev\\anaconda3\\Lib\\site-packages\\sklearn\\linear_model\\_sag.py:350: ConvergenceWarning: The max_iter was reached which means the coef_ did not converge\n",
      "  warnings.warn(\n",
      "C:\\Users\\Mitko Stoychev\\anaconda3\\Lib\\site-packages\\sklearn\\linear_model\\_sag.py:350: ConvergenceWarning: The max_iter was reached which means the coef_ did not converge\n",
      "  warnings.warn(\n",
      "C:\\Users\\Mitko Stoychev\\anaconda3\\Lib\\site-packages\\sklearn\\linear_model\\_sag.py:350: ConvergenceWarning: The max_iter was reached which means the coef_ did not converge\n",
      "  warnings.warn(\n",
      "C:\\Users\\Mitko Stoychev\\anaconda3\\Lib\\site-packages\\sklearn\\linear_model\\_sag.py:350: ConvergenceWarning: The max_iter was reached which means the coef_ did not converge\n",
      "  warnings.warn(\n",
      "C:\\Users\\Mitko Stoychev\\anaconda3\\Lib\\site-packages\\sklearn\\linear_model\\_sag.py:350: ConvergenceWarning: The max_iter was reached which means the coef_ did not converge\n",
      "  warnings.warn(\n",
      "C:\\Users\\Mitko Stoychev\\anaconda3\\Lib\\site-packages\\sklearn\\linear_model\\_sag.py:350: ConvergenceWarning: The max_iter was reached which means the coef_ did not converge\n",
      "  warnings.warn(\n",
      "C:\\Users\\Mitko Stoychev\\anaconda3\\Lib\\site-packages\\sklearn\\linear_model\\_sag.py:350: ConvergenceWarning: The max_iter was reached which means the coef_ did not converge\n",
      "  warnings.warn(\n",
      "C:\\Users\\Mitko Stoychev\\anaconda3\\Lib\\site-packages\\sklearn\\linear_model\\_sag.py:350: ConvergenceWarning: The max_iter was reached which means the coef_ did not converge\n",
      "  warnings.warn(\n",
      "C:\\Users\\Mitko Stoychev\\anaconda3\\Lib\\site-packages\\sklearn\\linear_model\\_sag.py:350: ConvergenceWarning: The max_iter was reached which means the coef_ did not converge\n",
      "  warnings.warn(\n",
      "C:\\Users\\Mitko Stoychev\\anaconda3\\Lib\\site-packages\\sklearn\\linear_model\\_sag.py:350: ConvergenceWarning: The max_iter was reached which means the coef_ did not converge\n",
      "  warnings.warn(\n",
      "C:\\Users\\Mitko Stoychev\\anaconda3\\Lib\\site-packages\\sklearn\\linear_model\\_sag.py:350: ConvergenceWarning: The max_iter was reached which means the coef_ did not converge\n",
      "  warnings.warn(\n",
      "C:\\Users\\Mitko Stoychev\\anaconda3\\Lib\\site-packages\\sklearn\\linear_model\\_sag.py:350: ConvergenceWarning: The max_iter was reached which means the coef_ did not converge\n",
      "  warnings.warn(\n",
      "C:\\Users\\Mitko Stoychev\\anaconda3\\Lib\\site-packages\\sklearn\\linear_model\\_sag.py:350: ConvergenceWarning: The max_iter was reached which means the coef_ did not converge\n",
      "  warnings.warn(\n",
      "C:\\Users\\Mitko Stoychev\\anaconda3\\Lib\\site-packages\\sklearn\\linear_model\\_sag.py:350: ConvergenceWarning: The max_iter was reached which means the coef_ did not converge\n",
      "  warnings.warn(\n",
      "C:\\Users\\Mitko Stoychev\\anaconda3\\Lib\\site-packages\\sklearn\\linear_model\\_sag.py:350: ConvergenceWarning: The max_iter was reached which means the coef_ did not converge\n",
      "  warnings.warn(\n",
      "C:\\Users\\Mitko Stoychev\\anaconda3\\Lib\\site-packages\\sklearn\\linear_model\\_sag.py:350: ConvergenceWarning: The max_iter was reached which means the coef_ did not converge\n",
      "  warnings.warn(\n",
      "C:\\Users\\Mitko Stoychev\\anaconda3\\Lib\\site-packages\\sklearn\\linear_model\\_sag.py:350: ConvergenceWarning: The max_iter was reached which means the coef_ did not converge\n",
      "  warnings.warn(\n",
      "C:\\Users\\Mitko Stoychev\\anaconda3\\Lib\\site-packages\\sklearn\\linear_model\\_sag.py:350: ConvergenceWarning: The max_iter was reached which means the coef_ did not converge\n",
      "  warnings.warn(\n",
      "C:\\Users\\Mitko Stoychev\\anaconda3\\Lib\\site-packages\\sklearn\\linear_model\\_sag.py:350: ConvergenceWarning: The max_iter was reached which means the coef_ did not converge\n",
      "  warnings.warn(\n",
      "C:\\Users\\Mitko Stoychev\\anaconda3\\Lib\\site-packages\\sklearn\\linear_model\\_sag.py:350: ConvergenceWarning: The max_iter was reached which means the coef_ did not converge\n",
      "  warnings.warn(\n",
      "C:\\Users\\Mitko Stoychev\\anaconda3\\Lib\\site-packages\\sklearn\\linear_model\\_sag.py:350: ConvergenceWarning: The max_iter was reached which means the coef_ did not converge\n",
      "  warnings.warn(\n",
      "C:\\Users\\Mitko Stoychev\\anaconda3\\Lib\\site-packages\\sklearn\\linear_model\\_sag.py:350: ConvergenceWarning: The max_iter was reached which means the coef_ did not converge\n",
      "  warnings.warn(\n",
      "C:\\Users\\Mitko Stoychev\\anaconda3\\Lib\\site-packages\\sklearn\\linear_model\\_sag.py:350: ConvergenceWarning: The max_iter was reached which means the coef_ did not converge\n",
      "  warnings.warn(\n",
      "C:\\Users\\Mitko Stoychev\\anaconda3\\Lib\\site-packages\\sklearn\\linear_model\\_sag.py:350: ConvergenceWarning: The max_iter was reached which means the coef_ did not converge\n",
      "  warnings.warn(\n",
      "C:\\Users\\Mitko Stoychev\\anaconda3\\Lib\\site-packages\\sklearn\\linear_model\\_sag.py:350: ConvergenceWarning: The max_iter was reached which means the coef_ did not converge\n",
      "  warnings.warn(\n",
      "C:\\Users\\Mitko Stoychev\\anaconda3\\Lib\\site-packages\\sklearn\\linear_model\\_sag.py:350: ConvergenceWarning: The max_iter was reached which means the coef_ did not converge\n",
      "  warnings.warn(\n",
      "C:\\Users\\Mitko Stoychev\\anaconda3\\Lib\\site-packages\\sklearn\\linear_model\\_sag.py:350: ConvergenceWarning: The max_iter was reached which means the coef_ did not converge\n",
      "  warnings.warn(\n",
      "C:\\Users\\Mitko Stoychev\\anaconda3\\Lib\\site-packages\\sklearn\\linear_model\\_sag.py:350: ConvergenceWarning: The max_iter was reached which means the coef_ did not converge\n",
      "  warnings.warn(\n",
      "C:\\Users\\Mitko Stoychev\\anaconda3\\Lib\\site-packages\\sklearn\\linear_model\\_sag.py:350: ConvergenceWarning: The max_iter was reached which means the coef_ did not converge\n",
      "  warnings.warn(\n",
      "C:\\Users\\Mitko Stoychev\\anaconda3\\Lib\\site-packages\\sklearn\\linear_model\\_sag.py:350: ConvergenceWarning: The max_iter was reached which means the coef_ did not converge\n",
      "  warnings.warn(\n",
      "C:\\Users\\Mitko Stoychev\\anaconda3\\Lib\\site-packages\\sklearn\\linear_model\\_sag.py:350: ConvergenceWarning: The max_iter was reached which means the coef_ did not converge\n",
      "  warnings.warn(\n",
      "C:\\Users\\Mitko Stoychev\\anaconda3\\Lib\\site-packages\\sklearn\\linear_model\\_sag.py:350: ConvergenceWarning: The max_iter was reached which means the coef_ did not converge\n",
      "  warnings.warn(\n",
      "C:\\Users\\Mitko Stoychev\\anaconda3\\Lib\\site-packages\\sklearn\\linear_model\\_sag.py:350: ConvergenceWarning: The max_iter was reached which means the coef_ did not converge\n",
      "  warnings.warn(\n",
      "C:\\Users\\Mitko Stoychev\\anaconda3\\Lib\\site-packages\\sklearn\\linear_model\\_sag.py:350: ConvergenceWarning: The max_iter was reached which means the coef_ did not converge\n",
      "  warnings.warn(\n",
      "C:\\Users\\Mitko Stoychev\\anaconda3\\Lib\\site-packages\\sklearn\\linear_model\\_sag.py:350: ConvergenceWarning: The max_iter was reached which means the coef_ did not converge\n",
      "  warnings.warn(\n",
      "C:\\Users\\Mitko Stoychev\\anaconda3\\Lib\\site-packages\\sklearn\\linear_model\\_sag.py:350: ConvergenceWarning: The max_iter was reached which means the coef_ did not converge\n",
      "  warnings.warn(\n",
      "C:\\Users\\Mitko Stoychev\\anaconda3\\Lib\\site-packages\\sklearn\\linear_model\\_sag.py:350: ConvergenceWarning: The max_iter was reached which means the coef_ did not converge\n",
      "  warnings.warn(\n",
      "C:\\Users\\Mitko Stoychev\\anaconda3\\Lib\\site-packages\\sklearn\\linear_model\\_sag.py:350: ConvergenceWarning: The max_iter was reached which means the coef_ did not converge\n",
      "  warnings.warn(\n",
      "C:\\Users\\Mitko Stoychev\\anaconda3\\Lib\\site-packages\\sklearn\\linear_model\\_sag.py:350: ConvergenceWarning: The max_iter was reached which means the coef_ did not converge\n",
      "  warnings.warn(\n",
      "C:\\Users\\Mitko Stoychev\\anaconda3\\Lib\\site-packages\\sklearn\\linear_model\\_sag.py:350: ConvergenceWarning: The max_iter was reached which means the coef_ did not converge\n",
      "  warnings.warn(\n",
      "C:\\Users\\Mitko Stoychev\\anaconda3\\Lib\\site-packages\\sklearn\\linear_model\\_sag.py:350: ConvergenceWarning: The max_iter was reached which means the coef_ did not converge\n",
      "  warnings.warn(\n",
      "C:\\Users\\Mitko Stoychev\\anaconda3\\Lib\\site-packages\\sklearn\\linear_model\\_sag.py:350: ConvergenceWarning: The max_iter was reached which means the coef_ did not converge\n",
      "  warnings.warn(\n",
      "C:\\Users\\Mitko Stoychev\\anaconda3\\Lib\\site-packages\\sklearn\\linear_model\\_sag.py:350: ConvergenceWarning: The max_iter was reached which means the coef_ did not converge\n",
      "  warnings.warn(\n",
      "C:\\Users\\Mitko Stoychev\\anaconda3\\Lib\\site-packages\\sklearn\\model_selection\\_validation.py:378: FitFailedWarning: \n",
      "90 fits failed out of a total of 540.\n",
      "The score on these train-test partitions for these parameters will be set to nan.\n",
      "If these failures are not expected, you can try to debug them by setting error_score='raise'.\n",
      "\n",
      "Below are more details about the failures:\n",
      "--------------------------------------------------------------------------------\n",
      "90 fits failed with the following error:\n",
      "Traceback (most recent call last):\n",
      "  File \"C:\\Users\\Mitko Stoychev\\anaconda3\\Lib\\site-packages\\sklearn\\model_selection\\_validation.py\", line 686, in _fit_and_score\n",
      "    estimator.fit(X_train, y_train, **fit_params)\n",
      "  File \"C:\\Users\\Mitko Stoychev\\anaconda3\\Lib\\site-packages\\sklearn\\linear_model\\_logistic.py\", line 1162, in fit\n",
      "    solver = _check_solver(self.solver, self.penalty, self.dual)\n",
      "             ^^^^^^^^^^^^^^^^^^^^^^^^^^^^^^^^^^^^^^^^^^^^^^^^^^^\n",
      "  File \"C:\\Users\\Mitko Stoychev\\anaconda3\\Lib\\site-packages\\sklearn\\linear_model\\_logistic.py\", line 54, in _check_solver\n",
      "    raise ValueError(\n",
      "ValueError: Solver lbfgs supports only 'l2' or 'none' penalties, got l1 penalty.\n",
      "\n",
      "  warnings.warn(some_fits_failed_message, FitFailedWarning)\n",
      "C:\\Users\\Mitko Stoychev\\anaconda3\\Lib\\site-packages\\sklearn\\model_selection\\_search.py:952: UserWarning: One or more of the test scores are non-finite: [0.60937183        nan 0.60937183 0.68183384 0.61079027 0.61079027\n",
      " 0.60937183        nan 0.52142857 0.74717325 0.72580547 0.72580547\n",
      " 0.60937183        nan 0.60937183 0.73013171 0.73295846 0.73295846\n",
      " 0.60937183        nan 0.47857143 0.76991895 0.76705167 0.76705167\n",
      " 0.60937183        nan 0.60937183 0.75994934 0.76137791 0.76137791\n",
      " 0.63635258        nan 0.59521783 0.77419453 0.77841945 0.77841945\n",
      " 0.60937183        nan 0.60937183 0.73013171 0.73295846 0.73295846\n",
      " 0.60937183        nan 0.47857143 0.76991895 0.76705167 0.76705167\n",
      " 0.79405268        nan 0.79405268 0.798308   0.798308   0.798308\n",
      " 0.78411348        nan 0.78125633 0.78411348 0.78695035 0.78695035\n",
      " 0.79120567        nan 0.79262411 0.78976697 0.79404255 0.79404255\n",
      " 0.78695035        nan 0.78553191 0.78554205 0.78269504 0.78269504\n",
      " 0.79262411        nan 0.79262411 0.79262411 0.79262411 0.79262411\n",
      " 0.78554205        nan 0.78553191 0.78554205 0.78411348 0.78269504\n",
      " 0.79262411        nan 0.79262411 0.79262411 0.79262411 0.79262411\n",
      " 0.78412361        nan 0.78412361 0.78412361 0.7812766  0.78269504\n",
      " 0.79262411        nan 0.79262411 0.79262411 0.79262411 0.79262411\n",
      " 0.7812766         nan 0.7812766  0.7812766  0.7812766  0.7812766 ]\n",
      "  warnings.warn(\n"
     ]
    },
    {
     "data": {
      "text/html": [
       "<style>#sk-container-id-7 {color: black;background-color: white;}#sk-container-id-7 pre{padding: 0;}#sk-container-id-7 div.sk-toggleable {background-color: white;}#sk-container-id-7 label.sk-toggleable__label {cursor: pointer;display: block;width: 100%;margin-bottom: 0;padding: 0.3em;box-sizing: border-box;text-align: center;}#sk-container-id-7 label.sk-toggleable__label-arrow:before {content: \"▸\";float: left;margin-right: 0.25em;color: #696969;}#sk-container-id-7 label.sk-toggleable__label-arrow:hover:before {color: black;}#sk-container-id-7 div.sk-estimator:hover label.sk-toggleable__label-arrow:before {color: black;}#sk-container-id-7 div.sk-toggleable__content {max-height: 0;max-width: 0;overflow: hidden;text-align: left;background-color: #f0f8ff;}#sk-container-id-7 div.sk-toggleable__content pre {margin: 0.2em;color: black;border-radius: 0.25em;background-color: #f0f8ff;}#sk-container-id-7 input.sk-toggleable__control:checked~div.sk-toggleable__content {max-height: 200px;max-width: 100%;overflow: auto;}#sk-container-id-7 input.sk-toggleable__control:checked~label.sk-toggleable__label-arrow:before {content: \"▾\";}#sk-container-id-7 div.sk-estimator input.sk-toggleable__control:checked~label.sk-toggleable__label {background-color: #d4ebff;}#sk-container-id-7 div.sk-label input.sk-toggleable__control:checked~label.sk-toggleable__label {background-color: #d4ebff;}#sk-container-id-7 input.sk-hidden--visually {border: 0;clip: rect(1px 1px 1px 1px);clip: rect(1px, 1px, 1px, 1px);height: 1px;margin: -1px;overflow: hidden;padding: 0;position: absolute;width: 1px;}#sk-container-id-7 div.sk-estimator {font-family: monospace;background-color: #f0f8ff;border: 1px dotted black;border-radius: 0.25em;box-sizing: border-box;margin-bottom: 0.5em;}#sk-container-id-7 div.sk-estimator:hover {background-color: #d4ebff;}#sk-container-id-7 div.sk-parallel-item::after {content: \"\";width: 100%;border-bottom: 1px solid gray;flex-grow: 1;}#sk-container-id-7 div.sk-label:hover label.sk-toggleable__label {background-color: #d4ebff;}#sk-container-id-7 div.sk-serial::before {content: \"\";position: absolute;border-left: 1px solid gray;box-sizing: border-box;top: 0;bottom: 0;left: 50%;z-index: 0;}#sk-container-id-7 div.sk-serial {display: flex;flex-direction: column;align-items: center;background-color: white;padding-right: 0.2em;padding-left: 0.2em;position: relative;}#sk-container-id-7 div.sk-item {position: relative;z-index: 1;}#sk-container-id-7 div.sk-parallel {display: flex;align-items: stretch;justify-content: center;background-color: white;position: relative;}#sk-container-id-7 div.sk-item::before, #sk-container-id-7 div.sk-parallel-item::before {content: \"\";position: absolute;border-left: 1px solid gray;box-sizing: border-box;top: 0;bottom: 0;left: 50%;z-index: -1;}#sk-container-id-7 div.sk-parallel-item {display: flex;flex-direction: column;z-index: 1;position: relative;background-color: white;}#sk-container-id-7 div.sk-parallel-item:first-child::after {align-self: flex-end;width: 50%;}#sk-container-id-7 div.sk-parallel-item:last-child::after {align-self: flex-start;width: 50%;}#sk-container-id-7 div.sk-parallel-item:only-child::after {width: 0;}#sk-container-id-7 div.sk-dashed-wrapped {border: 1px dashed gray;margin: 0 0.4em 0.5em 0.4em;box-sizing: border-box;padding-bottom: 0.4em;background-color: white;}#sk-container-id-7 div.sk-label label {font-family: monospace;font-weight: bold;display: inline-block;line-height: 1.2em;}#sk-container-id-7 div.sk-label-container {text-align: center;}#sk-container-id-7 div.sk-container {/* jupyter's `normalize.less` sets `[hidden] { display: none; }` but bootstrap.min.css set `[hidden] { display: none !important; }` so we also need the `!important` here to be able to override the default hidden behavior on the sphinx rendered scikit-learn.org. See: https://github.com/scikit-learn/scikit-learn/issues/21755 */display: inline-block !important;position: relative;}#sk-container-id-7 div.sk-text-repr-fallback {display: none;}</style><div id=\"sk-container-id-7\" class=\"sk-top-container\"><div class=\"sk-text-repr-fallback\"><pre>GridSearchCV(cv=5, estimator=LogisticRegression(random_state=42),\n",
       "             param_grid={&#x27;C&#x27;: [0.001, 0.005, 0.01, 0.005, 0.1, 0.5, 1, 10, 100],\n",
       "                         &#x27;class_weight&#x27;: [None, &#x27;balanced&#x27;],\n",
       "                         &#x27;penalty&#x27;: [&#x27;l1&#x27;, &#x27;l2&#x27;],\n",
       "                         &#x27;solver&#x27;: [&#x27;liblinear&#x27;, &#x27;lbfgs&#x27;, &#x27;saga&#x27;]},\n",
       "             scoring=&#x27;accuracy&#x27;)</pre><b>In a Jupyter environment, please rerun this cell to show the HTML representation or trust the notebook. <br />On GitHub, the HTML representation is unable to render, please try loading this page with nbviewer.org.</b></div><div class=\"sk-container\" hidden><div class=\"sk-item sk-dashed-wrapped\"><div class=\"sk-label-container\"><div class=\"sk-label sk-toggleable\"><input class=\"sk-toggleable__control sk-hidden--visually\" id=\"sk-estimator-id-13\" type=\"checkbox\" ><label for=\"sk-estimator-id-13\" class=\"sk-toggleable__label sk-toggleable__label-arrow\">GridSearchCV</label><div class=\"sk-toggleable__content\"><pre>GridSearchCV(cv=5, estimator=LogisticRegression(random_state=42),\n",
       "             param_grid={&#x27;C&#x27;: [0.001, 0.005, 0.01, 0.005, 0.1, 0.5, 1, 10, 100],\n",
       "                         &#x27;class_weight&#x27;: [None, &#x27;balanced&#x27;],\n",
       "                         &#x27;penalty&#x27;: [&#x27;l1&#x27;, &#x27;l2&#x27;],\n",
       "                         &#x27;solver&#x27;: [&#x27;liblinear&#x27;, &#x27;lbfgs&#x27;, &#x27;saga&#x27;]},\n",
       "             scoring=&#x27;accuracy&#x27;)</pre></div></div></div><div class=\"sk-parallel\"><div class=\"sk-parallel-item\"><div class=\"sk-item\"><div class=\"sk-label-container\"><div class=\"sk-label sk-toggleable\"><input class=\"sk-toggleable__control sk-hidden--visually\" id=\"sk-estimator-id-14\" type=\"checkbox\" ><label for=\"sk-estimator-id-14\" class=\"sk-toggleable__label sk-toggleable__label-arrow\">estimator: LogisticRegression</label><div class=\"sk-toggleable__content\"><pre>LogisticRegression(random_state=42)</pre></div></div></div><div class=\"sk-serial\"><div class=\"sk-item\"><div class=\"sk-estimator sk-toggleable\"><input class=\"sk-toggleable__control sk-hidden--visually\" id=\"sk-estimator-id-15\" type=\"checkbox\" ><label for=\"sk-estimator-id-15\" class=\"sk-toggleable__label sk-toggleable__label-arrow\">LogisticRegression</label><div class=\"sk-toggleable__content\"><pre>LogisticRegression(random_state=42)</pre></div></div></div></div></div></div></div></div></div></div>"
      ],
      "text/plain": [
       "GridSearchCV(cv=5, estimator=LogisticRegression(random_state=42),\n",
       "             param_grid={'C': [0.001, 0.005, 0.01, 0.005, 0.1, 0.5, 1, 10, 100],\n",
       "                         'class_weight': [None, 'balanced'],\n",
       "                         'penalty': ['l1', 'l2'],\n",
       "                         'solver': ['liblinear', 'lbfgs', 'saga']},\n",
       "             scoring='accuracy')"
      ]
     },
     "execution_count": 68,
     "metadata": {},
     "output_type": "execute_result"
    }
   ],
   "source": [
    "# Fit the grid search to the training data\n",
    "grid_search.fit(X_train, y_train)"
   ]
  },
  {
   "cell_type": "code",
   "execution_count": 70,
   "id": "d317f11f-81e3-4a5c-a67c-9f0dff899a92",
   "metadata": {},
   "outputs": [
    {
     "name": "stdout",
     "output_type": "stream",
     "text": [
      "Best parameters: {'C': 0.1, 'class_weight': None, 'penalty': 'l2', 'solver': 'liblinear'}\n",
      "Best Accuracy Score: 0.7983080040526849\n"
     ]
    }
   ],
   "source": [
    "# Get the best parameters and best score\n",
    "best_params = grid_search.best_params_\n",
    "best_score = grid_search.best_score_\n",
    "\n",
    "print(\"Best parameters:\", best_params)\n",
    "print(\"Best Accuracy Score:\", best_score)"
   ]
  },
  {
   "cell_type": "code",
   "execution_count": 74,
   "id": "538aa10a-f9e1-4c55-9c54-6e36b05e5067",
   "metadata": {},
   "outputs": [],
   "source": [
    "# Therefore, if the machine indicates that these are the best parameters, I select them by hand\n",
    "lr_optimized = LogisticRegression(\n",
    "    C = 0.1,\n",
    "    class_weight = None,\n",
    "    penalty = 'l2',\n",
    "    solver = 'liblinear'\n",
    ")"
   ]
  },
  {
   "cell_type": "code",
   "execution_count": 75,
   "id": "845471bb-9619-4b38-afbe-526c8382c5cb",
   "metadata": {},
   "outputs": [
    {
     "data": {
      "text/html": [
       "<style>#sk-container-id-8 {color: black;background-color: white;}#sk-container-id-8 pre{padding: 0;}#sk-container-id-8 div.sk-toggleable {background-color: white;}#sk-container-id-8 label.sk-toggleable__label {cursor: pointer;display: block;width: 100%;margin-bottom: 0;padding: 0.3em;box-sizing: border-box;text-align: center;}#sk-container-id-8 label.sk-toggleable__label-arrow:before {content: \"▸\";float: left;margin-right: 0.25em;color: #696969;}#sk-container-id-8 label.sk-toggleable__label-arrow:hover:before {color: black;}#sk-container-id-8 div.sk-estimator:hover label.sk-toggleable__label-arrow:before {color: black;}#sk-container-id-8 div.sk-toggleable__content {max-height: 0;max-width: 0;overflow: hidden;text-align: left;background-color: #f0f8ff;}#sk-container-id-8 div.sk-toggleable__content pre {margin: 0.2em;color: black;border-radius: 0.25em;background-color: #f0f8ff;}#sk-container-id-8 input.sk-toggleable__control:checked~div.sk-toggleable__content {max-height: 200px;max-width: 100%;overflow: auto;}#sk-container-id-8 input.sk-toggleable__control:checked~label.sk-toggleable__label-arrow:before {content: \"▾\";}#sk-container-id-8 div.sk-estimator input.sk-toggleable__control:checked~label.sk-toggleable__label {background-color: #d4ebff;}#sk-container-id-8 div.sk-label input.sk-toggleable__control:checked~label.sk-toggleable__label {background-color: #d4ebff;}#sk-container-id-8 input.sk-hidden--visually {border: 0;clip: rect(1px 1px 1px 1px);clip: rect(1px, 1px, 1px, 1px);height: 1px;margin: -1px;overflow: hidden;padding: 0;position: absolute;width: 1px;}#sk-container-id-8 div.sk-estimator {font-family: monospace;background-color: #f0f8ff;border: 1px dotted black;border-radius: 0.25em;box-sizing: border-box;margin-bottom: 0.5em;}#sk-container-id-8 div.sk-estimator:hover {background-color: #d4ebff;}#sk-container-id-8 div.sk-parallel-item::after {content: \"\";width: 100%;border-bottom: 1px solid gray;flex-grow: 1;}#sk-container-id-8 div.sk-label:hover label.sk-toggleable__label {background-color: #d4ebff;}#sk-container-id-8 div.sk-serial::before {content: \"\";position: absolute;border-left: 1px solid gray;box-sizing: border-box;top: 0;bottom: 0;left: 50%;z-index: 0;}#sk-container-id-8 div.sk-serial {display: flex;flex-direction: column;align-items: center;background-color: white;padding-right: 0.2em;padding-left: 0.2em;position: relative;}#sk-container-id-8 div.sk-item {position: relative;z-index: 1;}#sk-container-id-8 div.sk-parallel {display: flex;align-items: stretch;justify-content: center;background-color: white;position: relative;}#sk-container-id-8 div.sk-item::before, #sk-container-id-8 div.sk-parallel-item::before {content: \"\";position: absolute;border-left: 1px solid gray;box-sizing: border-box;top: 0;bottom: 0;left: 50%;z-index: -1;}#sk-container-id-8 div.sk-parallel-item {display: flex;flex-direction: column;z-index: 1;position: relative;background-color: white;}#sk-container-id-8 div.sk-parallel-item:first-child::after {align-self: flex-end;width: 50%;}#sk-container-id-8 div.sk-parallel-item:last-child::after {align-self: flex-start;width: 50%;}#sk-container-id-8 div.sk-parallel-item:only-child::after {width: 0;}#sk-container-id-8 div.sk-dashed-wrapped {border: 1px dashed gray;margin: 0 0.4em 0.5em 0.4em;box-sizing: border-box;padding-bottom: 0.4em;background-color: white;}#sk-container-id-8 div.sk-label label {font-family: monospace;font-weight: bold;display: inline-block;line-height: 1.2em;}#sk-container-id-8 div.sk-label-container {text-align: center;}#sk-container-id-8 div.sk-container {/* jupyter's `normalize.less` sets `[hidden] { display: none; }` but bootstrap.min.css set `[hidden] { display: none !important; }` so we also need the `!important` here to be able to override the default hidden behavior on the sphinx rendered scikit-learn.org. See: https://github.com/scikit-learn/scikit-learn/issues/21755 */display: inline-block !important;position: relative;}#sk-container-id-8 div.sk-text-repr-fallback {display: none;}</style><div id=\"sk-container-id-8\" class=\"sk-top-container\"><div class=\"sk-text-repr-fallback\"><pre>LogisticRegression(C=0.1, solver=&#x27;liblinear&#x27;)</pre><b>In a Jupyter environment, please rerun this cell to show the HTML representation or trust the notebook. <br />On GitHub, the HTML representation is unable to render, please try loading this page with nbviewer.org.</b></div><div class=\"sk-container\" hidden><div class=\"sk-item\"><div class=\"sk-estimator sk-toggleable\"><input class=\"sk-toggleable__control sk-hidden--visually\" id=\"sk-estimator-id-16\" type=\"checkbox\" checked><label for=\"sk-estimator-id-16\" class=\"sk-toggleable__label sk-toggleable__label-arrow\">LogisticRegression</label><div class=\"sk-toggleable__content\"><pre>LogisticRegression(C=0.1, solver=&#x27;liblinear&#x27;)</pre></div></div></div></div></div>"
      ],
      "text/plain": [
       "LogisticRegression(C=0.1, solver='liblinear')"
      ]
     },
     "execution_count": 75,
     "metadata": {},
     "output_type": "execute_result"
    }
   ],
   "source": [
    "# Train the model with the optimized params\n",
    "lr_optimized.fit(X_train, y_train)"
   ]
  },
  {
   "cell_type": "code",
   "execution_count": 76,
   "id": "2e31d98c-57cd-4b7e-9ace-274ed6d18a21",
   "metadata": {},
   "outputs": [],
   "source": [
    "prediction_lr_optimized = lr_optimized.predict(X_test)"
   ]
  },
  {
   "cell_type": "code",
   "execution_count": 77,
   "id": "5762e2fd-c04f-41dc-8aed-b5188fcfb34f",
   "metadata": {},
   "outputs": [
    {
     "name": "stdout",
     "output_type": "stream",
     "text": [
      "Accuracy: 0.7627118644067796\n",
      "F1 Score: 0.6612903225806452\n",
      "--------------------------------------------------\n",
      "Accuracy optimized: 0.7627118644067796\n",
      "F1 Score optimized: 0.671875\n"
     ]
    }
   ],
   "source": [
    "# Calculate accuracy BEFORE optimization\n",
    "accuracy = accuracy_score(y_test, prediction_lr)\n",
    "f1_scoree = f1_score(y_test, prediction_lr)\n",
    "print(\"Accuracy:\", accuracy)\n",
    "print(\"F1 Score:\", f1_scoree)\n",
    "\n",
    "print(\"-\"*50)\n",
    "\n",
    "#Calculate accuracy AFTER optimization\n",
    "accuracy_opt = accuracy_score(y_test, prediction_lr_optimized)\n",
    "f1_scoree_opt = f1_score(y_test, prediction_lr_optimized)\n",
    "print(\"Accuracy optimized:\", accuracy_opt)\n",
    "print(\"F1 Score optimized:\", f1_scoree_opt)"
   ]
  },
  {
   "cell_type": "markdown",
   "id": "b4ce25f0-8070-4e30-bcd4-b87da8288242",
   "metadata": {},
   "source": [
    "This indicates that the model's ability to balance precision and recall improved slightly after tuning the hyperparameters using grid search. However, the change in F1 score is relatively small, suggesting that the initial model may have been close to optimal for this dataset.."
   ]
  },
  {
   "cell_type": "markdown",
   "id": "b8d349c0-f5f0-488c-80d7-16dcef0006c0",
   "metadata": {
    "jp-MarkdownHeadingCollapsed": true
   },
   "source": [
    "###  <font color=\"green\"> 4.2. *simplified_data* <font>\n",
    "Just to remind, the changes are: \n",
    "* Delete columns \"SibSp\" and \"Parch\". Model only with \"family size\".\n",
    "* Standarization only in \"Age and \"Fare\" column. (\"family_size\" won´t be scaled\")"
   ]
  },
  {
   "cell_type": "code",
   "execution_count": 87,
   "id": "2ba162b1-c2ce-4fee-83c1-217b3d246865",
   "metadata": {},
   "outputs": [
    {
     "data": {
      "text/html": [
       "<div>\n",
       "<style scoped>\n",
       "    .dataframe tbody tr th:only-of-type {\n",
       "        vertical-align: middle;\n",
       "    }\n",
       "\n",
       "    .dataframe tbody tr th {\n",
       "        vertical-align: top;\n",
       "    }\n",
       "\n",
       "    .dataframe thead th {\n",
       "        text-align: right;\n",
       "    }\n",
       "</style>\n",
       "<table border=\"1\" class=\"dataframe\">\n",
       "  <thead>\n",
       "    <tr style=\"text-align: right;\">\n",
       "      <th></th>\n",
       "      <th>Survived</th>\n",
       "      <th>Pclass</th>\n",
       "      <th>onehotencoder__Sex_female</th>\n",
       "      <th>onehotencoder__Sex_male</th>\n",
       "      <th>onehotencoder__Embarked_C</th>\n",
       "      <th>onehotencoder__Embarked_Q</th>\n",
       "      <th>onehotencoder__Embarked_S</th>\n",
       "      <th>family_size</th>\n",
       "      <th>Age</th>\n",
       "      <th>Fare</th>\n",
       "    </tr>\n",
       "  </thead>\n",
       "  <tbody>\n",
       "    <tr>\n",
       "      <th>0</th>\n",
       "      <td>0</td>\n",
       "      <td>3</td>\n",
       "      <td>0.0</td>\n",
       "      <td>1.0</td>\n",
       "      <td>0.0</td>\n",
       "      <td>0.0</td>\n",
       "      <td>1.0</td>\n",
       "      <td>2</td>\n",
       "      <td>-0.592011</td>\n",
       "      <td>-0.872244</td>\n",
       "    </tr>\n",
       "    <tr>\n",
       "      <th>1</th>\n",
       "      <td>1</td>\n",
       "      <td>1</td>\n",
       "      <td>1.0</td>\n",
       "      <td>0.0</td>\n",
       "      <td>1.0</td>\n",
       "      <td>0.0</td>\n",
       "      <td>0.0</td>\n",
       "      <td>2</td>\n",
       "      <td>0.633114</td>\n",
       "      <td>1.400796</td>\n",
       "    </tr>\n",
       "    <tr>\n",
       "      <th>2</th>\n",
       "      <td>1</td>\n",
       "      <td>3</td>\n",
       "      <td>1.0</td>\n",
       "      <td>0.0</td>\n",
       "      <td>0.0</td>\n",
       "      <td>0.0</td>\n",
       "      <td>1.0</td>\n",
       "      <td>1</td>\n",
       "      <td>-0.285730</td>\n",
       "      <td>-0.789882</td>\n",
       "    </tr>\n",
       "    <tr>\n",
       "      <th>3</th>\n",
       "      <td>1</td>\n",
       "      <td>1</td>\n",
       "      <td>1.0</td>\n",
       "      <td>0.0</td>\n",
       "      <td>0.0</td>\n",
       "      <td>0.0</td>\n",
       "      <td>1.0</td>\n",
       "      <td>2</td>\n",
       "      <td>0.403403</td>\n",
       "      <td>1.097331</td>\n",
       "    </tr>\n",
       "    <tr>\n",
       "      <th>4</th>\n",
       "      <td>0</td>\n",
       "      <td>3</td>\n",
       "      <td>0.0</td>\n",
       "      <td>1.0</td>\n",
       "      <td>0.0</td>\n",
       "      <td>0.0</td>\n",
       "      <td>1.0</td>\n",
       "      <td>1</td>\n",
       "      <td>0.403403</td>\n",
       "      <td>-0.775315</td>\n",
       "    </tr>\n",
       "  </tbody>\n",
       "</table>\n",
       "</div>"
      ],
      "text/plain": [
       "   Survived  Pclass  onehotencoder__Sex_female  onehotencoder__Sex_male  \\\n",
       "0         0       3                        0.0                      1.0   \n",
       "1         1       1                        1.0                      0.0   \n",
       "2         1       3                        1.0                      0.0   \n",
       "3         1       1                        1.0                      0.0   \n",
       "4         0       3                        0.0                      1.0   \n",
       "\n",
       "   onehotencoder__Embarked_C  onehotencoder__Embarked_Q  \\\n",
       "0                        0.0                        0.0   \n",
       "1                        1.0                        0.0   \n",
       "2                        0.0                        0.0   \n",
       "3                        0.0                        0.0   \n",
       "4                        0.0                        0.0   \n",
       "\n",
       "   onehotencoder__Embarked_S  family_size       Age      Fare  \n",
       "0                        1.0            2 -0.592011 -0.872244  \n",
       "1                        0.0            2  0.633114  1.400796  \n",
       "2                        1.0            1 -0.285730 -0.789882  \n",
       "3                        1.0            2  0.403403  1.097331  \n",
       "4                        1.0            1  0.403403 -0.775315  "
      ]
     },
     "execution_count": 87,
     "metadata": {},
     "output_type": "execute_result"
    }
   ],
   "source": [
    "simplified_data.head()"
   ]
  },
  {
   "cell_type": "markdown",
   "id": "ede67e0d-d635-446a-a74d-72ea7b66f070",
   "metadata": {
    "jp-MarkdownHeadingCollapsed": true
   },
   "source": [
    "#### 4.1.1. Split the data"
   ]
  },
  {
   "cell_type": "code",
   "execution_count": 78,
   "id": "4550afd8-e3a7-46bd-9c88-4ece79942487",
   "metadata": {},
   "outputs": [],
   "source": [
    "# Define X\n",
    "X = simplified_data.drop([\"Survived\"], axis=1)"
   ]
  },
  {
   "cell_type": "code",
   "execution_count": 79,
   "id": "6d004059-5db4-42d3-9d55-fb03cbb14515",
   "metadata": {},
   "outputs": [
    {
     "data": {
      "text/plain": [
       "Survived\n",
       "0    109\n",
       "1     68\n",
       "Name: count, dtype: int64"
      ]
     },
     "execution_count": 79,
     "metadata": {},
     "output_type": "execute_result"
    }
   ],
   "source": [
    "# Split the data while maintaining class proportions\n",
    "X_train, X_test, y_train, y_test = train_test_split(X, y, test_size=0.2, stratify=y)\n",
    "\n",
    "# Check the class distribution in the test set\n",
    "y_test.value_counts()"
   ]
  },
  {
   "cell_type": "markdown",
   "id": "8ea5db31-81f9-46a1-94f9-338b6f7290b7",
   "metadata": {},
   "source": [
    "It´s not exacly the same size split. But I don´t know how to do it better and have similar the same conditions for testing.\n",
    "Anyway I am here to learn."
   ]
  },
  {
   "cell_type": "markdown",
   "id": "0c9db599-1d87-4def-93ac-eb504976adfd",
   "metadata": {
    "jp-MarkdownHeadingCollapsed": true
   },
   "source": [
    "#### 4.2.2. Define the model"
   ]
  },
  {
   "cell_type": "code",
   "execution_count": 80,
   "id": "35d1c66c-0af1-4bda-b867-8f7a909d0b0a",
   "metadata": {},
   "outputs": [],
   "source": [
    "# Define a LogisticRegression Model\n",
    "model_lg = LogisticRegression(random_state = 42)"
   ]
  },
  {
   "cell_type": "code",
   "execution_count": 81,
   "id": "eab3e60c-fd4f-42c5-b609-ae4ba85e4b12",
   "metadata": {},
   "outputs": [
    {
     "data": {
      "text/html": [
       "<style>#sk-container-id-9 {color: black;background-color: white;}#sk-container-id-9 pre{padding: 0;}#sk-container-id-9 div.sk-toggleable {background-color: white;}#sk-container-id-9 label.sk-toggleable__label {cursor: pointer;display: block;width: 100%;margin-bottom: 0;padding: 0.3em;box-sizing: border-box;text-align: center;}#sk-container-id-9 label.sk-toggleable__label-arrow:before {content: \"▸\";float: left;margin-right: 0.25em;color: #696969;}#sk-container-id-9 label.sk-toggleable__label-arrow:hover:before {color: black;}#sk-container-id-9 div.sk-estimator:hover label.sk-toggleable__label-arrow:before {color: black;}#sk-container-id-9 div.sk-toggleable__content {max-height: 0;max-width: 0;overflow: hidden;text-align: left;background-color: #f0f8ff;}#sk-container-id-9 div.sk-toggleable__content pre {margin: 0.2em;color: black;border-radius: 0.25em;background-color: #f0f8ff;}#sk-container-id-9 input.sk-toggleable__control:checked~div.sk-toggleable__content {max-height: 200px;max-width: 100%;overflow: auto;}#sk-container-id-9 input.sk-toggleable__control:checked~label.sk-toggleable__label-arrow:before {content: \"▾\";}#sk-container-id-9 div.sk-estimator input.sk-toggleable__control:checked~label.sk-toggleable__label {background-color: #d4ebff;}#sk-container-id-9 div.sk-label input.sk-toggleable__control:checked~label.sk-toggleable__label {background-color: #d4ebff;}#sk-container-id-9 input.sk-hidden--visually {border: 0;clip: rect(1px 1px 1px 1px);clip: rect(1px, 1px, 1px, 1px);height: 1px;margin: -1px;overflow: hidden;padding: 0;position: absolute;width: 1px;}#sk-container-id-9 div.sk-estimator {font-family: monospace;background-color: #f0f8ff;border: 1px dotted black;border-radius: 0.25em;box-sizing: border-box;margin-bottom: 0.5em;}#sk-container-id-9 div.sk-estimator:hover {background-color: #d4ebff;}#sk-container-id-9 div.sk-parallel-item::after {content: \"\";width: 100%;border-bottom: 1px solid gray;flex-grow: 1;}#sk-container-id-9 div.sk-label:hover label.sk-toggleable__label {background-color: #d4ebff;}#sk-container-id-9 div.sk-serial::before {content: \"\";position: absolute;border-left: 1px solid gray;box-sizing: border-box;top: 0;bottom: 0;left: 50%;z-index: 0;}#sk-container-id-9 div.sk-serial {display: flex;flex-direction: column;align-items: center;background-color: white;padding-right: 0.2em;padding-left: 0.2em;position: relative;}#sk-container-id-9 div.sk-item {position: relative;z-index: 1;}#sk-container-id-9 div.sk-parallel {display: flex;align-items: stretch;justify-content: center;background-color: white;position: relative;}#sk-container-id-9 div.sk-item::before, #sk-container-id-9 div.sk-parallel-item::before {content: \"\";position: absolute;border-left: 1px solid gray;box-sizing: border-box;top: 0;bottom: 0;left: 50%;z-index: -1;}#sk-container-id-9 div.sk-parallel-item {display: flex;flex-direction: column;z-index: 1;position: relative;background-color: white;}#sk-container-id-9 div.sk-parallel-item:first-child::after {align-self: flex-end;width: 50%;}#sk-container-id-9 div.sk-parallel-item:last-child::after {align-self: flex-start;width: 50%;}#sk-container-id-9 div.sk-parallel-item:only-child::after {width: 0;}#sk-container-id-9 div.sk-dashed-wrapped {border: 1px dashed gray;margin: 0 0.4em 0.5em 0.4em;box-sizing: border-box;padding-bottom: 0.4em;background-color: white;}#sk-container-id-9 div.sk-label label {font-family: monospace;font-weight: bold;display: inline-block;line-height: 1.2em;}#sk-container-id-9 div.sk-label-container {text-align: center;}#sk-container-id-9 div.sk-container {/* jupyter's `normalize.less` sets `[hidden] { display: none; }` but bootstrap.min.css set `[hidden] { display: none !important; }` so we also need the `!important` here to be able to override the default hidden behavior on the sphinx rendered scikit-learn.org. See: https://github.com/scikit-learn/scikit-learn/issues/21755 */display: inline-block !important;position: relative;}#sk-container-id-9 div.sk-text-repr-fallback {display: none;}</style><div id=\"sk-container-id-9\" class=\"sk-top-container\"><div class=\"sk-text-repr-fallback\"><pre>LogisticRegression(random_state=42)</pre><b>In a Jupyter environment, please rerun this cell to show the HTML representation or trust the notebook. <br />On GitHub, the HTML representation is unable to render, please try loading this page with nbviewer.org.</b></div><div class=\"sk-container\" hidden><div class=\"sk-item\"><div class=\"sk-estimator sk-toggleable\"><input class=\"sk-toggleable__control sk-hidden--visually\" id=\"sk-estimator-id-17\" type=\"checkbox\" checked><label for=\"sk-estimator-id-17\" class=\"sk-toggleable__label sk-toggleable__label-arrow\">LogisticRegression</label><div class=\"sk-toggleable__content\"><pre>LogisticRegression(random_state=42)</pre></div></div></div></div></div>"
      ],
      "text/plain": [
       "LogisticRegression(random_state=42)"
      ]
     },
     "execution_count": 81,
     "metadata": {},
     "output_type": "execute_result"
    }
   ],
   "source": [
    "# Train the model\n",
    "model_lg.fit(X_train, y_train)"
   ]
  },
  {
   "cell_type": "code",
   "execution_count": 82,
   "id": "ae4ca337-b068-4bf8-af8c-782de7b967d2",
   "metadata": {},
   "outputs": [],
   "source": [
    "# Try prediction\n",
    "prediction_lr = model_lg.predict(X_test)"
   ]
  },
  {
   "cell_type": "markdown",
   "id": "065c16dc-c411-440c-9bb0-d4d8fda29748",
   "metadata": {
    "jp-MarkdownHeadingCollapsed": true
   },
   "source": [
    "#### 4.2.3. Performance metrics"
   ]
  },
  {
   "cell_type": "code",
   "execution_count": 83,
   "id": "905b6d66-2476-4b51-a8e1-ffae120f84db",
   "metadata": {},
   "outputs": [
    {
     "name": "stdout",
     "output_type": "stream",
     "text": [
      "Accuracy: 0.7966101694915254\n"
     ]
    }
   ],
   "source": [
    "# Calculate accuracy\n",
    "accuracy = accuracy_score(y_test, prediction_lr)\n",
    "print(\"Accuracy:\", accuracy)"
   ]
  },
  {
   "cell_type": "code",
   "execution_count": 84,
   "id": "b04fa6fe-0a4f-49f6-aa03-47b28e74af85",
   "metadata": {},
   "outputs": [
    {
     "name": "stdout",
     "output_type": "stream",
     "text": [
      "Precision: 0.7580645161290323\n"
     ]
    }
   ],
   "source": [
    "# Calculate precision\n",
    "precision = precision_score(y_test, prediction_lr)\n",
    "print(\"Precision:\", precision)"
   ]
  },
  {
   "cell_type": "code",
   "execution_count": 85,
   "id": "7ee92a43-f001-443a-830c-673b10df5ab3",
   "metadata": {},
   "outputs": [
    {
     "name": "stdout",
     "output_type": "stream",
     "text": [
      "Recall: 0.6911764705882353\n"
     ]
    }
   ],
   "source": [
    "# Calculate recall\n",
    "recall = recall_score(y_test, prediction_lr)\n",
    "print(\"Recall:\", recall)"
   ]
  },
  {
   "cell_type": "code",
   "execution_count": 86,
   "id": "94b5fa32-3349-4ee0-b337-640fd488ad94",
   "metadata": {},
   "outputs": [
    {
     "name": "stdout",
     "output_type": "stream",
     "text": [
      "F1 Score: 0.7230769230769231\n"
     ]
    }
   ],
   "source": [
    "# Calculate F1 score\n",
    "f1 = f1_score(y_test, prediction_lr)\n",
    "print(\"F1 Score:\", f1)"
   ]
  },
  {
   "cell_type": "markdown",
   "id": "c14a1abe-49f0-4668-9521-0ba5b1789ccf",
   "metadata": {},
   "source": [
    "It looks like that this simplified model works better for a simplified model like a Logistic Regression. \n",
    "\n",
    "All the parameters have been increased:\n",
    "Accuracy: 0.7627 →  0.7966\n",
    "Precision: 0.694 →  0.7580\n",
    "Recall: 0.6307   →  0.6911\r\n",
    "F1 Score: 0.661 →  0.72302"
   ]
  },
  {
   "cell_type": "code",
   "execution_count": null,
   "id": "e381c606-b5f2-4bc3-9817-332c0da18ca8",
   "metadata": {},
   "outputs": [],
   "source": []
  }
 ],
 "metadata": {
  "kernelspec": {
   "display_name": "Python 3 (ipykernel)",
   "language": "python",
   "name": "python3"
  },
  "language_info": {
   "codemirror_mode": {
    "name": "ipython",
    "version": 3
   },
   "file_extension": ".py",
   "mimetype": "text/x-python",
   "name": "python",
   "nbconvert_exporter": "python",
   "pygments_lexer": "ipython3",
   "version": "3.11.7"
  }
 },
 "nbformat": 4,
 "nbformat_minor": 5
}
