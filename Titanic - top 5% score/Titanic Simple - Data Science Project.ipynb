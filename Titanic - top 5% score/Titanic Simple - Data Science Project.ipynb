{
 "cells": [
  {
   "cell_type": "code",
   "execution_count": 1,
   "metadata": {},
   "outputs": [],
   "source": [
    "import pandas as pd\n",
    "import numpy as np\n",
    "import matplotlib.pyplot as plit\n",
    "import seaborn as sns\n",
    "from matplotlib import pyplot as plt\n",
    "\n",
    "from collections import Counter\n",
    "\n",
    "#from sklearn.model_selection import train_test_split\n",
    "from sklearn.model_selection import StratifiedShuffleSplit\n",
    "from sklearn.preprocessing import FunctionTransformer\n",
    "\n",
    "# Managing Categorical Data\n",
    "from sklearn.preprocessing import OneHotEncoder, OrdinalEncoder    \n",
    "from sklearn.impute import SimpleImputer\n",
    "from sklearn.compose import make_column_transformer\n",
    "\n",
    "# Managing Missing Values\n",
    "from sklearn.base import BaseEstimator, TransformerMixin\n",
    "\n",
    "# Make a pipeline\n",
    "from sklearn.pipeline import Pipeline, make_pipeline\n",
    "\n",
    "# Scaling\n",
    "from sklearn.preprocessing import StandardScaler\n",
    "\n",
    "#Models\n",
    "from sklearn.model_selection import StratifiedKFold\n",
    "from sklearn.tree import DecisionTreeClassifier\n",
    "from sklearn.ensemble import RandomForestClassifier\n",
    "from sklearn.neighbors import KNeighborsClassifier\n",
    "from sklearn.linear_model import LogisticRegression\n",
    "from sklearn.ensemble import GradientBoostingClassifier\n",
    "\n",
    "#Classifier Validation\n",
    "from sklearn.model_selection import KFold\n",
    "from sklearn.model_selection import cross_val_score\n",
    "from sklearn.model_selection import GridSearchCV\n",
    "from sklearn.model_selection import RandomizedSearchCV\n",
    "\n",
    "#ensable models\n",
    "from sklearn.ensemble import VotingClassifier\n",
    "\n",
    "# Learning Curve\n",
    "from sklearn.model_selection import learning_curve"
   ]
  },
  {
   "cell_type": "markdown",
   "metadata": {},
   "source": [
    "# Titanic - Machine Learning from Disaster\n",
    "### Mitko Stoychev\n",
    "\n",
    "31/03/2024"
   ]
  },
  {
   "cell_type": "markdown",
   "metadata": {},
   "source": [
    "1. Introduction\n",
    "2. EDA & Feature Engeneering\n",
    "* 2.1. Loading the data\n",
    "* 2.2. Outlier detection\n",
    "* 2.3. Exploration\n",
    "\n",
    "\n",
    "    \n",
    "2.2 \n",
    "2.3 joining train and test set\n",
    "2.4 check for null and missing values\n",
    "\n",
    "3 Feature analysis\n",
    "3.1 Numerical values\n",
    "3.2 Categorical values\n",
    "\n",
    "4 Filling missing Values\n",
    "4.1 Age\n",
    "\n",
    "5 Feature engineering\n",
    "5.1 Name/Title\n",
    "5.2 Family Size\n",
    "5.3 Cabin\n",
    "5.4 Ticket\n",
    "\n",
    "6 Modeling\n",
    "6.1 Simple modeling\n",
    "6.1.1 Cross validate models\n",
    "6.1.2 Hyperparamater tunning for best models\n",
    "6.1.3 Plot learning curves\n",
    "6.1.4 Feature importance of the tree based classifiers\n",
    "6.2 Ensemble modeling\n",
    "6.2.1 Combining models\n",
    "6.3 Prediction\n",
    "6.3.1 Predict and Submit results"
   ]
  },
  {
   "cell_type": "markdown",
   "metadata": {},
   "source": [
    "## 1. Introduction\n",
    "This is my first machine learning model and my first Kaggle competition at same time. I choosed the Titanic competition which is a good way to introduce feature engineering and ensemble modeling.\n",
    "Firstly, I will explore the dataset and display some feature analyses, then I´ll focus on the feature engineering. The last part of the project concerns modeling and predicting the survival on the Titanic.\n",
    "\n",
    "\n",
    "This notebook has three main main parts:\n",
    "* **EDA & Feature Engeneering**\n",
    "* **Data preparation**\n",
    "* **Modeling**"
   ]
  },
  {
   "cell_type": "markdown",
   "metadata": {},
   "source": [
    "## 2.EDA & Feature Engeneering\n",
    "### 2.1. Loading the data"
   ]
  },
  {
   "cell_type": "code",
   "execution_count": 2,
   "metadata": {},
   "outputs": [
    {
     "name": "stdout",
     "output_type": "stream",
     "text": [
      "(891, 12)\n",
      "(418, 11)\n"
     ]
    },
    {
     "data": {
      "text/html": [
       "<div>\n",
       "<style scoped>\n",
       "    .dataframe tbody tr th:only-of-type {\n",
       "        vertical-align: middle;\n",
       "    }\n",
       "\n",
       "    .dataframe tbody tr th {\n",
       "        vertical-align: top;\n",
       "    }\n",
       "\n",
       "    .dataframe thead th {\n",
       "        text-align: right;\n",
       "    }\n",
       "</style>\n",
       "<table border=\"1\" class=\"dataframe\">\n",
       "  <thead>\n",
       "    <tr style=\"text-align: right;\">\n",
       "      <th></th>\n",
       "      <th>PassengerId</th>\n",
       "      <th>Survived</th>\n",
       "      <th>Pclass</th>\n",
       "      <th>Name</th>\n",
       "      <th>Sex</th>\n",
       "      <th>Age</th>\n",
       "      <th>SibSp</th>\n",
       "      <th>Parch</th>\n",
       "      <th>Ticket</th>\n",
       "      <th>Fare</th>\n",
       "      <th>Cabin</th>\n",
       "      <th>Embarked</th>\n",
       "    </tr>\n",
       "  </thead>\n",
       "  <tbody>\n",
       "    <tr>\n",
       "      <th>0</th>\n",
       "      <td>1</td>\n",
       "      <td>0</td>\n",
       "      <td>3</td>\n",
       "      <td>Braund, Mr. Owen Harris</td>\n",
       "      <td>male</td>\n",
       "      <td>22.0</td>\n",
       "      <td>1</td>\n",
       "      <td>0</td>\n",
       "      <td>A/5 21171</td>\n",
       "      <td>7.2500</td>\n",
       "      <td>NaN</td>\n",
       "      <td>S</td>\n",
       "    </tr>\n",
       "    <tr>\n",
       "      <th>1</th>\n",
       "      <td>2</td>\n",
       "      <td>1</td>\n",
       "      <td>1</td>\n",
       "      <td>Cumings, Mrs. John Bradley (Florence Briggs Th...</td>\n",
       "      <td>female</td>\n",
       "      <td>38.0</td>\n",
       "      <td>1</td>\n",
       "      <td>0</td>\n",
       "      <td>PC 17599</td>\n",
       "      <td>71.2833</td>\n",
       "      <td>C85</td>\n",
       "      <td>C</td>\n",
       "    </tr>\n",
       "    <tr>\n",
       "      <th>2</th>\n",
       "      <td>3</td>\n",
       "      <td>1</td>\n",
       "      <td>3</td>\n",
       "      <td>Heikkinen, Miss. Laina</td>\n",
       "      <td>female</td>\n",
       "      <td>26.0</td>\n",
       "      <td>0</td>\n",
       "      <td>0</td>\n",
       "      <td>STON/O2. 3101282</td>\n",
       "      <td>7.9250</td>\n",
       "      <td>NaN</td>\n",
       "      <td>S</td>\n",
       "    </tr>\n",
       "    <tr>\n",
       "      <th>3</th>\n",
       "      <td>4</td>\n",
       "      <td>1</td>\n",
       "      <td>1</td>\n",
       "      <td>Futrelle, Mrs. Jacques Heath (Lily May Peel)</td>\n",
       "      <td>female</td>\n",
       "      <td>35.0</td>\n",
       "      <td>1</td>\n",
       "      <td>0</td>\n",
       "      <td>113803</td>\n",
       "      <td>53.1000</td>\n",
       "      <td>C123</td>\n",
       "      <td>S</td>\n",
       "    </tr>\n",
       "    <tr>\n",
       "      <th>4</th>\n",
       "      <td>5</td>\n",
       "      <td>0</td>\n",
       "      <td>3</td>\n",
       "      <td>Allen, Mr. William Henry</td>\n",
       "      <td>male</td>\n",
       "      <td>35.0</td>\n",
       "      <td>0</td>\n",
       "      <td>0</td>\n",
       "      <td>373450</td>\n",
       "      <td>8.0500</td>\n",
       "      <td>NaN</td>\n",
       "      <td>S</td>\n",
       "    </tr>\n",
       "  </tbody>\n",
       "</table>\n",
       "</div>"
      ],
      "text/plain": [
       "   PassengerId  Survived  Pclass  \\\n",
       "0            1         0       3   \n",
       "1            2         1       1   \n",
       "2            3         1       3   \n",
       "3            4         1       1   \n",
       "4            5         0       3   \n",
       "\n",
       "                                                Name     Sex   Age  SibSp  \\\n",
       "0                            Braund, Mr. Owen Harris    male  22.0      1   \n",
       "1  Cumings, Mrs. John Bradley (Florence Briggs Th...  female  38.0      1   \n",
       "2                             Heikkinen, Miss. Laina  female  26.0      0   \n",
       "3       Futrelle, Mrs. Jacques Heath (Lily May Peel)  female  35.0      1   \n",
       "4                           Allen, Mr. William Henry    male  35.0      0   \n",
       "\n",
       "   Parch            Ticket     Fare Cabin Embarked  \n",
       "0      0         A/5 21171   7.2500   NaN        S  \n",
       "1      0          PC 17599  71.2833   C85        C  \n",
       "2      0  STON/O2. 3101282   7.9250   NaN        S  \n",
       "3      0            113803  53.1000  C123        S  \n",
       "4      0            373450   8.0500   NaN        S  "
      ]
     },
     "execution_count": 2,
     "metadata": {},
     "output_type": "execute_result"
    }
   ],
   "source": [
    "train_data = pd.read_csv(\"data/train.csv\")\n",
    "test_data = pd.read_csv(\"data/test.csv\")\n",
    "\n",
    "print(train_data.shape)\n",
    "print(test_data.shape)\n",
    "\n",
    "train_data.head()"
   ]
  },
  {
   "cell_type": "markdown",
   "metadata": {},
   "source": [
    "### 2.2. Outlier detection\n",
    "\n",
    "**Tukey’s method** is widely used for exploratory data analysis and has become a standard approach for identifying outliers in statistical and data analysis practices. John Tukey looks at the data’s spread using the Interquartile Range (IQR). \n",
    "\n",
    "Tukey defined outliers as those points that fall **below Q1 – 1.5*IQR** or **above Q3 + 1.5*IQR**, providing a clear, quantitative criterion for identifying data points that are significantly different from the bulk of the data in a set."
   ]
  },
  {
   "cell_type": "code",
   "execution_count": 3,
   "metadata": {},
   "outputs": [],
   "source": [
    "def outlier_detection(data, features):\n",
    "    \"\"\"\n",
    "    Takes a dataframe and a list of the columns that is decided to apply Tukey´s method for detecting outliers.\n",
    "    Returns a list of indices that are considered outliers.\n",
    "    \"\"\"\n",
    "    outlier_indices = []\n",
    "    n = 2 # treshold\n",
    "    \n",
    "    # Iterate over each feature\n",
    "    for col in features:\n",
    "        # Calculate quartiles\n",
    "        Q1 = np.percentile(data[col], 25)\n",
    "        Q3 = np.percentile(data[col], 75)\n",
    "        # Interquartile range (IQR)\n",
    "        IQR = Q3 - Q1\n",
    "        \n",
    "        # Outlier step\n",
    "        outlier_step = 1.5 * IQR\n",
    "        \n",
    "        # Determine the index of the outliers for feature col\n",
    "        outlier_list_col = data[(data[col] < Q1 - outlier_step) | (data[col] > Q3 + outlier_step)].index\n",
    "        \n",
    "        # Append indices of outliers for every col \n",
    "        outlier_indices.extend(outlier_list_col)\n",
    "        \n",
    "    # Count occurrences of each index\n",
    "    outlier_count = Counter(outlier_indices)\n",
    "    \n",
    "    # Select indices with more than n outliers\n",
    "    multiple_outliers = [index for index, count in outlier_count.items() if count > n]\n",
    "    \n",
    "    return multiple_outliers"
   ]
  },
  {
   "cell_type": "code",
   "execution_count": 4,
   "metadata": {},
   "outputs": [
    {
     "data": {
      "text/plain": [
       "[27, 88, 159, 180, 201, 324, 341, 792, 846, 863]"
      ]
     },
     "execution_count": 4,
     "metadata": {},
     "output_type": "execute_result"
    }
   ],
   "source": [
    "outliers_to_drop = outlier_detection(train_data, [\"Age\", \"SibSp\", \"Parch\", \"Fare\"])\n",
    "outliers_to_drop"
   ]
  },
  {
   "cell_type": "code",
   "execution_count": 5,
   "metadata": {},
   "outputs": [
    {
     "data": {
      "text/html": [
       "<div>\n",
       "<style scoped>\n",
       "    .dataframe tbody tr th:only-of-type {\n",
       "        vertical-align: middle;\n",
       "    }\n",
       "\n",
       "    .dataframe tbody tr th {\n",
       "        vertical-align: top;\n",
       "    }\n",
       "\n",
       "    .dataframe thead th {\n",
       "        text-align: right;\n",
       "    }\n",
       "</style>\n",
       "<table border=\"1\" class=\"dataframe\">\n",
       "  <thead>\n",
       "    <tr style=\"text-align: right;\">\n",
       "      <th></th>\n",
       "      <th>PassengerId</th>\n",
       "      <th>Survived</th>\n",
       "      <th>Pclass</th>\n",
       "      <th>Name</th>\n",
       "      <th>Sex</th>\n",
       "      <th>Age</th>\n",
       "      <th>SibSp</th>\n",
       "      <th>Parch</th>\n",
       "      <th>Ticket</th>\n",
       "      <th>Fare</th>\n",
       "      <th>Cabin</th>\n",
       "      <th>Embarked</th>\n",
       "    </tr>\n",
       "  </thead>\n",
       "  <tbody>\n",
       "    <tr>\n",
       "      <th>27</th>\n",
       "      <td>28</td>\n",
       "      <td>0</td>\n",
       "      <td>1</td>\n",
       "      <td>Fortune, Mr. Charles Alexander</td>\n",
       "      <td>male</td>\n",
       "      <td>19.0</td>\n",
       "      <td>3</td>\n",
       "      <td>2</td>\n",
       "      <td>19950</td>\n",
       "      <td>263.00</td>\n",
       "      <td>C23 C25 C27</td>\n",
       "      <td>S</td>\n",
       "    </tr>\n",
       "    <tr>\n",
       "      <th>88</th>\n",
       "      <td>89</td>\n",
       "      <td>1</td>\n",
       "      <td>1</td>\n",
       "      <td>Fortune, Miss. Mabel Helen</td>\n",
       "      <td>female</td>\n",
       "      <td>23.0</td>\n",
       "      <td>3</td>\n",
       "      <td>2</td>\n",
       "      <td>19950</td>\n",
       "      <td>263.00</td>\n",
       "      <td>C23 C25 C27</td>\n",
       "      <td>S</td>\n",
       "    </tr>\n",
       "    <tr>\n",
       "      <th>159</th>\n",
       "      <td>160</td>\n",
       "      <td>0</td>\n",
       "      <td>3</td>\n",
       "      <td>Sage, Master. Thomas Henry</td>\n",
       "      <td>male</td>\n",
       "      <td>NaN</td>\n",
       "      <td>8</td>\n",
       "      <td>2</td>\n",
       "      <td>CA. 2343</td>\n",
       "      <td>69.55</td>\n",
       "      <td>NaN</td>\n",
       "      <td>S</td>\n",
       "    </tr>\n",
       "    <tr>\n",
       "      <th>180</th>\n",
       "      <td>181</td>\n",
       "      <td>0</td>\n",
       "      <td>3</td>\n",
       "      <td>Sage, Miss. Constance Gladys</td>\n",
       "      <td>female</td>\n",
       "      <td>NaN</td>\n",
       "      <td>8</td>\n",
       "      <td>2</td>\n",
       "      <td>CA. 2343</td>\n",
       "      <td>69.55</td>\n",
       "      <td>NaN</td>\n",
       "      <td>S</td>\n",
       "    </tr>\n",
       "    <tr>\n",
       "      <th>201</th>\n",
       "      <td>202</td>\n",
       "      <td>0</td>\n",
       "      <td>3</td>\n",
       "      <td>Sage, Mr. Frederick</td>\n",
       "      <td>male</td>\n",
       "      <td>NaN</td>\n",
       "      <td>8</td>\n",
       "      <td>2</td>\n",
       "      <td>CA. 2343</td>\n",
       "      <td>69.55</td>\n",
       "      <td>NaN</td>\n",
       "      <td>S</td>\n",
       "    </tr>\n",
       "    <tr>\n",
       "      <th>324</th>\n",
       "      <td>325</td>\n",
       "      <td>0</td>\n",
       "      <td>3</td>\n",
       "      <td>Sage, Mr. George John Jr</td>\n",
       "      <td>male</td>\n",
       "      <td>NaN</td>\n",
       "      <td>8</td>\n",
       "      <td>2</td>\n",
       "      <td>CA. 2343</td>\n",
       "      <td>69.55</td>\n",
       "      <td>NaN</td>\n",
       "      <td>S</td>\n",
       "    </tr>\n",
       "    <tr>\n",
       "      <th>341</th>\n",
       "      <td>342</td>\n",
       "      <td>1</td>\n",
       "      <td>1</td>\n",
       "      <td>Fortune, Miss. Alice Elizabeth</td>\n",
       "      <td>female</td>\n",
       "      <td>24.0</td>\n",
       "      <td>3</td>\n",
       "      <td>2</td>\n",
       "      <td>19950</td>\n",
       "      <td>263.00</td>\n",
       "      <td>C23 C25 C27</td>\n",
       "      <td>S</td>\n",
       "    </tr>\n",
       "    <tr>\n",
       "      <th>792</th>\n",
       "      <td>793</td>\n",
       "      <td>0</td>\n",
       "      <td>3</td>\n",
       "      <td>Sage, Miss. Stella Anna</td>\n",
       "      <td>female</td>\n",
       "      <td>NaN</td>\n",
       "      <td>8</td>\n",
       "      <td>2</td>\n",
       "      <td>CA. 2343</td>\n",
       "      <td>69.55</td>\n",
       "      <td>NaN</td>\n",
       "      <td>S</td>\n",
       "    </tr>\n",
       "    <tr>\n",
       "      <th>846</th>\n",
       "      <td>847</td>\n",
       "      <td>0</td>\n",
       "      <td>3</td>\n",
       "      <td>Sage, Mr. Douglas Bullen</td>\n",
       "      <td>male</td>\n",
       "      <td>NaN</td>\n",
       "      <td>8</td>\n",
       "      <td>2</td>\n",
       "      <td>CA. 2343</td>\n",
       "      <td>69.55</td>\n",
       "      <td>NaN</td>\n",
       "      <td>S</td>\n",
       "    </tr>\n",
       "    <tr>\n",
       "      <th>863</th>\n",
       "      <td>864</td>\n",
       "      <td>0</td>\n",
       "      <td>3</td>\n",
       "      <td>Sage, Miss. Dorothy Edith \"Dolly\"</td>\n",
       "      <td>female</td>\n",
       "      <td>NaN</td>\n",
       "      <td>8</td>\n",
       "      <td>2</td>\n",
       "      <td>CA. 2343</td>\n",
       "      <td>69.55</td>\n",
       "      <td>NaN</td>\n",
       "      <td>S</td>\n",
       "    </tr>\n",
       "  </tbody>\n",
       "</table>\n",
       "</div>"
      ],
      "text/plain": [
       "     PassengerId  Survived  Pclass                               Name     Sex  \\\n",
       "27            28         0       1     Fortune, Mr. Charles Alexander    male   \n",
       "88            89         1       1         Fortune, Miss. Mabel Helen  female   \n",
       "159          160         0       3         Sage, Master. Thomas Henry    male   \n",
       "180          181         0       3       Sage, Miss. Constance Gladys  female   \n",
       "201          202         0       3                Sage, Mr. Frederick    male   \n",
       "324          325         0       3           Sage, Mr. George John Jr    male   \n",
       "341          342         1       1     Fortune, Miss. Alice Elizabeth  female   \n",
       "792          793         0       3            Sage, Miss. Stella Anna  female   \n",
       "846          847         0       3           Sage, Mr. Douglas Bullen    male   \n",
       "863          864         0       3  Sage, Miss. Dorothy Edith \"Dolly\"  female   \n",
       "\n",
       "      Age  SibSp  Parch    Ticket    Fare        Cabin Embarked  \n",
       "27   19.0      3      2     19950  263.00  C23 C25 C27        S  \n",
       "88   23.0      3      2     19950  263.00  C23 C25 C27        S  \n",
       "159   NaN      8      2  CA. 2343   69.55          NaN        S  \n",
       "180   NaN      8      2  CA. 2343   69.55          NaN        S  \n",
       "201   NaN      8      2  CA. 2343   69.55          NaN        S  \n",
       "324   NaN      8      2  CA. 2343   69.55          NaN        S  \n",
       "341  24.0      3      2     19950  263.00  C23 C25 C27        S  \n",
       "792   NaN      8      2  CA. 2343   69.55          NaN        S  \n",
       "846   NaN      8      2  CA. 2343   69.55          NaN        S  \n",
       "863   NaN      8      2  CA. 2343   69.55          NaN        S  "
      ]
     },
     "execution_count": 5,
     "metadata": {},
     "output_type": "execute_result"
    }
   ],
   "source": [
    "train_data.loc[outliers_to_drop]  # show the detected outliers"
   ]
  },
  {
   "cell_type": "markdown",
   "metadata": {},
   "source": [
    "I have detected 10 outliers.\n",
    "\n",
    "The next three passengers: 28, 89 and 342 → outliers because of high Ticket Fare.\n",
    "\n",
    "The remaining seven passengers → high values # of siblings.\r",
    "P."
   ]
  },
  {
   "cell_type": "code",
   "execution_count": 6,
   "metadata": {},
   "outputs": [
    {
     "name": "stdout",
     "output_type": "stream",
     "text": [
      "(891, 12)\n",
      "(881, 12)\n"
     ]
    }
   ],
   "source": [
    "# Drop outliers\n",
    "train_data_outliers = train_data.copy()  # save the original dataset\n",
    "\n",
    "train_data = train_data.drop(outliers_to_drop, axis=0).reset_index(drop=True)\n",
    "\n",
    "print(train_data_outliers.shape)\n",
    "print(train_data.shape)"
   ]
  },
  {
   "cell_type": "markdown",
   "metadata": {},
   "source": [
    "### 2.3. Exploration"
   ]
  },
  {
   "cell_type": "code",
   "execution_count": 7,
   "metadata": {},
   "outputs": [
    {
     "data": {
      "text/html": [
       "<div>\n",
       "<style scoped>\n",
       "    .dataframe tbody tr th:only-of-type {\n",
       "        vertical-align: middle;\n",
       "    }\n",
       "\n",
       "    .dataframe tbody tr th {\n",
       "        vertical-align: top;\n",
       "    }\n",
       "\n",
       "    .dataframe thead th {\n",
       "        text-align: right;\n",
       "    }\n",
       "</style>\n",
       "<table border=\"1\" class=\"dataframe\">\n",
       "  <thead>\n",
       "    <tr style=\"text-align: right;\">\n",
       "      <th></th>\n",
       "      <th>PassengerId</th>\n",
       "      <th>Survived</th>\n",
       "      <th>Pclass</th>\n",
       "      <th>Age</th>\n",
       "      <th>SibSp</th>\n",
       "      <th>Parch</th>\n",
       "      <th>Fare</th>\n",
       "    </tr>\n",
       "  </thead>\n",
       "  <tbody>\n",
       "    <tr>\n",
       "      <th>count</th>\n",
       "      <td>881.000000</td>\n",
       "      <td>881.000000</td>\n",
       "      <td>881.000000</td>\n",
       "      <td>711.000000</td>\n",
       "      <td>881.000000</td>\n",
       "      <td>881.000000</td>\n",
       "      <td>881.000000</td>\n",
       "    </tr>\n",
       "    <tr>\n",
       "      <th>mean</th>\n",
       "      <td>446.713961</td>\n",
       "      <td>0.385925</td>\n",
       "      <td>2.307605</td>\n",
       "      <td>29.731603</td>\n",
       "      <td>0.455165</td>\n",
       "      <td>0.363224</td>\n",
       "      <td>31.121566</td>\n",
       "    </tr>\n",
       "    <tr>\n",
       "      <th>std</th>\n",
       "      <td>256.617021</td>\n",
       "      <td>0.487090</td>\n",
       "      <td>0.835055</td>\n",
       "      <td>14.547835</td>\n",
       "      <td>0.871571</td>\n",
       "      <td>0.791839</td>\n",
       "      <td>47.996249</td>\n",
       "    </tr>\n",
       "    <tr>\n",
       "      <th>min</th>\n",
       "      <td>1.000000</td>\n",
       "      <td>0.000000</td>\n",
       "      <td>1.000000</td>\n",
       "      <td>0.420000</td>\n",
       "      <td>0.000000</td>\n",
       "      <td>0.000000</td>\n",
       "      <td>0.000000</td>\n",
       "    </tr>\n",
       "    <tr>\n",
       "      <th>25%</th>\n",
       "      <td>226.000000</td>\n",
       "      <td>0.000000</td>\n",
       "      <td>2.000000</td>\n",
       "      <td>20.250000</td>\n",
       "      <td>0.000000</td>\n",
       "      <td>0.000000</td>\n",
       "      <td>7.895800</td>\n",
       "    </tr>\n",
       "    <tr>\n",
       "      <th>50%</th>\n",
       "      <td>448.000000</td>\n",
       "      <td>0.000000</td>\n",
       "      <td>3.000000</td>\n",
       "      <td>28.000000</td>\n",
       "      <td>0.000000</td>\n",
       "      <td>0.000000</td>\n",
       "      <td>14.454200</td>\n",
       "    </tr>\n",
       "    <tr>\n",
       "      <th>75%</th>\n",
       "      <td>668.000000</td>\n",
       "      <td>1.000000</td>\n",
       "      <td>3.000000</td>\n",
       "      <td>38.000000</td>\n",
       "      <td>1.000000</td>\n",
       "      <td>0.000000</td>\n",
       "      <td>30.500000</td>\n",
       "    </tr>\n",
       "    <tr>\n",
       "      <th>max</th>\n",
       "      <td>891.000000</td>\n",
       "      <td>1.000000</td>\n",
       "      <td>3.000000</td>\n",
       "      <td>80.000000</td>\n",
       "      <td>5.000000</td>\n",
       "      <td>6.000000</td>\n",
       "      <td>512.329200</td>\n",
       "    </tr>\n",
       "  </tbody>\n",
       "</table>\n",
       "</div>"
      ],
      "text/plain": [
       "       PassengerId    Survived      Pclass         Age       SibSp  \\\n",
       "count   881.000000  881.000000  881.000000  711.000000  881.000000   \n",
       "mean    446.713961    0.385925    2.307605   29.731603    0.455165   \n",
       "std     256.617021    0.487090    0.835055   14.547835    0.871571   \n",
       "min       1.000000    0.000000    1.000000    0.420000    0.000000   \n",
       "25%     226.000000    0.000000    2.000000   20.250000    0.000000   \n",
       "50%     448.000000    0.000000    3.000000   28.000000    0.000000   \n",
       "75%     668.000000    1.000000    3.000000   38.000000    1.000000   \n",
       "max     891.000000    1.000000    3.000000   80.000000    5.000000   \n",
       "\n",
       "            Parch        Fare  \n",
       "count  881.000000  881.000000  \n",
       "mean     0.363224   31.121566  \n",
       "std      0.791839   47.996249  \n",
       "min      0.000000    0.000000  \n",
       "25%      0.000000    7.895800  \n",
       "50%      0.000000   14.454200  \n",
       "75%      0.000000   30.500000  \n",
       "max      6.000000  512.329200  "
      ]
     },
     "execution_count": 7,
     "metadata": {},
     "output_type": "execute_result"
    }
   ],
   "source": [
    "train_data.describe()"
   ]
  },
  {
   "cell_type": "code",
   "execution_count": 8,
   "metadata": {},
   "outputs": [
    {
     "name": "stdout",
     "output_type": "stream",
     "text": [
      "          Survived     SibSp     Parch       Age      Fare\n",
      "Survived  1.000000  0.003330  0.092819 -0.076867  0.264613\n",
      "SibSp     0.003330  1.000000  0.379281 -0.307129  0.110072\n",
      "Parch     0.092819  0.379281  1.000000 -0.186457  0.183801\n",
      "Age      -0.076867 -0.307129 -0.186457  1.000000  0.110219\n",
      "Fare      0.264613  0.110072  0.183801  0.110219  1.000000\n"
     ]
    },
    {
     "data": {
      "text/plain": [
       "<Axes: >"
      ]
     },
     "execution_count": 8,
     "metadata": {},
     "output_type": "execute_result"
    },
    {
     "data": {
      "image/png": "[encoded data removed]",
      "text/plain": [
       "<Figure size 640x480 with 2 Axes>"
      ]
     },
     "metadata": {},
     "output_type": "display_data"
    }
   ],
   "source": [
    "print(train_data[[\"Survived\",\"SibSp\",\"Parch\",\"Age\",\"Fare\"]].corr())\n",
    "\n",
    "sns.heatmap(train_data[[\"Survived\",\"SibSp\",\"Parch\",\"Age\",\"Fare\"]].corr(), cmap=\"YlGnBu\")"
   ]
  },
  {
   "cell_type": "markdown",
   "metadata": {},
   "source": [
    "With the **Pearon Correlation method** is seems that only \"Fare\" feature seem to have some correlation with the survival probability.\n",
    "\n",
    "It **doesn't mean that the other features are not usefull**. Subpopulations in these features can be correlated with the survival. To determine this, we need to explore in detail these features.\n",
    "\n",
    "Let´s explore them by grouping."
   ]
  },
  {
   "cell_type": "code",
   "execution_count": 9,
   "metadata": {},
   "outputs": [
    {
     "data": {
      "text/html": [
       "<div>\n",
       "<style scoped>\n",
       "    .dataframe tbody tr th:only-of-type {\n",
       "        vertical-align: middle;\n",
       "    }\n",
       "\n",
       "    .dataframe tbody tr th {\n",
       "        vertical-align: top;\n",
       "    }\n",
       "\n",
       "    .dataframe thead th {\n",
       "        text-align: right;\n",
       "    }\n",
       "</style>\n",
       "<table border=\"1\" class=\"dataframe\">\n",
       "  <thead>\n",
       "    <tr style=\"text-align: right;\">\n",
       "      <th></th>\n",
       "      <th>Pclass</th>\n",
       "      <th>Survived</th>\n",
       "    </tr>\n",
       "  </thead>\n",
       "  <tbody>\n",
       "    <tr>\n",
       "      <th>0</th>\n",
       "      <td>1</td>\n",
       "      <td>0.629108</td>\n",
       "    </tr>\n",
       "    <tr>\n",
       "      <th>1</th>\n",
       "      <td>2</td>\n",
       "      <td>0.472826</td>\n",
       "    </tr>\n",
       "    <tr>\n",
       "      <th>2</th>\n",
       "      <td>3</td>\n",
       "      <td>0.245868</td>\n",
       "    </tr>\n",
       "  </tbody>\n",
       "</table>\n",
       "</div>"
      ],
      "text/plain": [
       "   Pclass  Survived\n",
       "0       1  0.629108\n",
       "1       2  0.472826\n",
       "2       3  0.245868"
      ]
     },
     "execution_count": 9,
     "metadata": {},
     "output_type": "execute_result"
    }
   ],
   "source": [
    "# Grouping data by Ticket class\n",
    "train_data.groupby([\"Pclass\"], as_index=False)[\"Survived\"].mean()"
   ]
  },
  {
   "cell_type": "code",
   "execution_count": 10,
   "metadata": {},
   "outputs": [
    {
     "data": {
      "text/html": [
       "<div>\n",
       "<style scoped>\n",
       "    .dataframe tbody tr th:only-of-type {\n",
       "        vertical-align: middle;\n",
       "    }\n",
       "\n",
       "    .dataframe tbody tr th {\n",
       "        vertical-align: top;\n",
       "    }\n",
       "\n",
       "    .dataframe thead th {\n",
       "        text-align: right;\n",
       "    }\n",
       "</style>\n",
       "<table border=\"1\" class=\"dataframe\">\n",
       "  <thead>\n",
       "    <tr style=\"text-align: right;\">\n",
       "      <th></th>\n",
       "      <th>Sex</th>\n",
       "      <th>Survived</th>\n",
       "    </tr>\n",
       "  </thead>\n",
       "  <tbody>\n",
       "    <tr>\n",
       "      <th>0</th>\n",
       "      <td>female</td>\n",
       "      <td>0.747573</td>\n",
       "    </tr>\n",
       "    <tr>\n",
       "      <th>1</th>\n",
       "      <td>male</td>\n",
       "      <td>0.190559</td>\n",
       "    </tr>\n",
       "  </tbody>\n",
       "</table>\n",
       "</div>"
      ],
      "text/plain": [
       "      Sex  Survived\n",
       "0  female  0.747573\n",
       "1    male  0.190559"
      ]
     },
     "execution_count": 10,
     "metadata": {},
     "output_type": "execute_result"
    }
   ],
   "source": [
    "# Groping data by Sex\n",
    "train_data.groupby([\"Sex\"], as_index=False)[\"Survived\"].mean()"
   ]
  },
  {
   "cell_type": "code",
   "execution_count": 11,
   "metadata": {},
   "outputs": [
    {
     "data": {
      "text/html": [
       "<div>\n",
       "<style scoped>\n",
       "    .dataframe tbody tr th:only-of-type {\n",
       "        vertical-align: middle;\n",
       "    }\n",
       "\n",
       "    .dataframe tbody tr th {\n",
       "        vertical-align: top;\n",
       "    }\n",
       "\n",
       "    .dataframe thead th {\n",
       "        text-align: right;\n",
       "    }\n",
       "</style>\n",
       "<table border=\"1\" class=\"dataframe\">\n",
       "  <thead>\n",
       "    <tr style=\"text-align: right;\">\n",
       "      <th></th>\n",
       "      <th>Embarked</th>\n",
       "      <th>Survived</th>\n",
       "    </tr>\n",
       "  </thead>\n",
       "  <tbody>\n",
       "    <tr>\n",
       "      <th>0</th>\n",
       "      <td>C</td>\n",
       "      <td>0.553571</td>\n",
       "    </tr>\n",
       "    <tr>\n",
       "      <th>1</th>\n",
       "      <td>Q</td>\n",
       "      <td>0.389610</td>\n",
       "    </tr>\n",
       "    <tr>\n",
       "      <th>2</th>\n",
       "      <td>S</td>\n",
       "      <td>0.339117</td>\n",
       "    </tr>\n",
       "  </tbody>\n",
       "</table>\n",
       "</div>"
      ],
      "text/plain": [
       "  Embarked  Survived\n",
       "0        C  0.553571\n",
       "1        Q  0.389610\n",
       "2        S  0.339117"
      ]
     },
     "execution_count": 11,
     "metadata": {},
     "output_type": "execute_result"
    }
   ],
   "source": [
    "# Grouping by Embarked → Port of Embarkation\n",
    "# C = Cherbourg, Q = Queenstown, S = Southampton\n",
    "\n",
    "train_data.groupby([\"Embarked\"], as_index=False)[\"Survived\"].mean()"
   ]
  },
  {
   "cell_type": "code",
   "execution_count": 12,
   "metadata": {},
   "outputs": [
    {
     "data": {
      "text/html": [
       "<div>\n",
       "<style scoped>\n",
       "    .dataframe tbody tr th:only-of-type {\n",
       "        vertical-align: middle;\n",
       "    }\n",
       "\n",
       "    .dataframe tbody tr th {\n",
       "        vertical-align: top;\n",
       "    }\n",
       "\n",
       "    .dataframe thead th {\n",
       "        text-align: right;\n",
       "    }\n",
       "</style>\n",
       "<table border=\"1\" class=\"dataframe\">\n",
       "  <thead>\n",
       "    <tr style=\"text-align: right;\">\n",
       "      <th></th>\n",
       "      <th>SibSp</th>\n",
       "      <th>Survived</th>\n",
       "    </tr>\n",
       "  </thead>\n",
       "  <tbody>\n",
       "    <tr>\n",
       "      <th>0</th>\n",
       "      <td>0</td>\n",
       "      <td>0.345395</td>\n",
       "    </tr>\n",
       "    <tr>\n",
       "      <th>1</th>\n",
       "      <td>1</td>\n",
       "      <td>0.535885</td>\n",
       "    </tr>\n",
       "    <tr>\n",
       "      <th>2</th>\n",
       "      <td>2</td>\n",
       "      <td>0.464286</td>\n",
       "    </tr>\n",
       "    <tr>\n",
       "      <th>3</th>\n",
       "      <td>3</td>\n",
       "      <td>0.153846</td>\n",
       "    </tr>\n",
       "    <tr>\n",
       "      <th>4</th>\n",
       "      <td>4</td>\n",
       "      <td>0.166667</td>\n",
       "    </tr>\n",
       "    <tr>\n",
       "      <th>5</th>\n",
       "      <td>5</td>\n",
       "      <td>0.000000</td>\n",
       "    </tr>\n",
       "  </tbody>\n",
       "</table>\n",
       "</div>"
      ],
      "text/plain": [
       "   SibSp  Survived\n",
       "0      0  0.345395\n",
       "1      1  0.535885\n",
       "2      2  0.464286\n",
       "3      3  0.153846\n",
       "4      4  0.166667\n",
       "5      5  0.000000"
      ]
     },
     "execution_count": 12,
     "metadata": {},
     "output_type": "execute_result"
    }
   ],
   "source": [
    "# number of siblings / spouses aboard the Titanic\n",
    "train_data.groupby([\"SibSp\"], as_index=False)[\"Survived\"].mean()"
   ]
  },
  {
   "cell_type": "code",
   "execution_count": 13,
   "metadata": {},
   "outputs": [
    {
     "data": {
      "text/html": [
       "<div>\n",
       "<style scoped>\n",
       "    .dataframe tbody tr th:only-of-type {\n",
       "        vertical-align: middle;\n",
       "    }\n",
       "\n",
       "    .dataframe tbody tr th {\n",
       "        vertical-align: top;\n",
       "    }\n",
       "\n",
       "    .dataframe thead th {\n",
       "        text-align: right;\n",
       "    }\n",
       "</style>\n",
       "<table border=\"1\" class=\"dataframe\">\n",
       "  <thead>\n",
       "    <tr style=\"text-align: right;\">\n",
       "      <th></th>\n",
       "      <th>Parch</th>\n",
       "      <th>Survived</th>\n",
       "    </tr>\n",
       "  </thead>\n",
       "  <tbody>\n",
       "    <tr>\n",
       "      <th>0</th>\n",
       "      <td>0</td>\n",
       "      <td>0.343658</td>\n",
       "    </tr>\n",
       "    <tr>\n",
       "      <th>1</th>\n",
       "      <td>1</td>\n",
       "      <td>0.550847</td>\n",
       "    </tr>\n",
       "    <tr>\n",
       "      <th>2</th>\n",
       "      <td>2</td>\n",
       "      <td>0.542857</td>\n",
       "    </tr>\n",
       "    <tr>\n",
       "      <th>3</th>\n",
       "      <td>3</td>\n",
       "      <td>0.600000</td>\n",
       "    </tr>\n",
       "    <tr>\n",
       "      <th>4</th>\n",
       "      <td>4</td>\n",
       "      <td>0.000000</td>\n",
       "    </tr>\n",
       "    <tr>\n",
       "      <th>5</th>\n",
       "      <td>5</td>\n",
       "      <td>0.200000</td>\n",
       "    </tr>\n",
       "    <tr>\n",
       "      <th>6</th>\n",
       "      <td>6</td>\n",
       "      <td>0.000000</td>\n",
       "    </tr>\n",
       "  </tbody>\n",
       "</table>\n",
       "</div>"
      ],
      "text/plain": [
       "   Parch  Survived\n",
       "0      0  0.343658\n",
       "1      1  0.550847\n",
       "2      2  0.542857\n",
       "3      3  0.600000\n",
       "4      4  0.000000\n",
       "5      5  0.200000\n",
       "6      6  0.000000"
      ]
     },
     "execution_count": 13,
     "metadata": {},
     "output_type": "execute_result"
    }
   ],
   "source": [
    "# number of parents / children aboard the Titani\n",
    "train_data.groupby([\"Parch\"], as_index=False)[\"Survived\"].mean()"
   ]
  },
  {
   "cell_type": "code",
   "execution_count": 14,
   "metadata": {},
   "outputs": [
    {
     "name": "stderr",
     "output_type": "stream",
     "text": [
      "C:\\Users\\Mitko Stoychev\\anaconda3\\Lib\\site-packages\\seaborn\\_oldcore.py:1119: FutureWarning: use_inf_as_na option is deprecated and will be removed in a future version. Convert inf values to NaN before operating instead.\n",
      "  with pd.option_context('mode.use_inf_as_na', True):\n"
     ]
    },
    {
     "data": {
      "text/plain": [
       "<seaborn.axisgrid.FacetGrid at 0x1ef00cd8790>"
      ]
     },
     "execution_count": 14,
     "metadata": {},
     "output_type": "execute_result"
    },
    {
     "data": {
      "image/png": "[encoded data removed]",
      "text/plain": [
       "<Figure size 1000x500 with 2 Axes>"
      ]
     },
     "metadata": {},
     "output_type": "display_data"
    }
   ],
   "source": [
    "# Grouping by Age \n",
    "sns.displot(train_data, x=\"Age\", col=\"Survived\", bins=5)"
   ]
  },
  {
   "cell_type": "code",
   "execution_count": 15,
   "metadata": {},
   "outputs": [
    {
     "data": {
      "text/html": [
       "<div>\n",
       "<style scoped>\n",
       "    .dataframe tbody tr th:only-of-type {\n",
       "        vertical-align: middle;\n",
       "    }\n",
       "\n",
       "    .dataframe tbody tr th {\n",
       "        vertical-align: top;\n",
       "    }\n",
       "\n",
       "    .dataframe thead th {\n",
       "        text-align: right;\n",
       "    }\n",
       "</style>\n",
       "<table border=\"1\" class=\"dataframe\">\n",
       "  <thead>\n",
       "    <tr style=\"text-align: right;\">\n",
       "      <th></th>\n",
       "      <th>family_size</th>\n",
       "      <th>Survived</th>\n",
       "    </tr>\n",
       "  </thead>\n",
       "  <tbody>\n",
       "    <tr>\n",
       "      <th>0</th>\n",
       "      <td>1</td>\n",
       "      <td>0.303538</td>\n",
       "    </tr>\n",
       "    <tr>\n",
       "      <th>1</th>\n",
       "      <td>2</td>\n",
       "      <td>0.552795</td>\n",
       "    </tr>\n",
       "    <tr>\n",
       "      <th>2</th>\n",
       "      <td>3</td>\n",
       "      <td>0.578431</td>\n",
       "    </tr>\n",
       "    <tr>\n",
       "      <th>3</th>\n",
       "      <td>4</td>\n",
       "      <td>0.724138</td>\n",
       "    </tr>\n",
       "    <tr>\n",
       "      <th>4</th>\n",
       "      <td>5</td>\n",
       "      <td>0.200000</td>\n",
       "    </tr>\n",
       "    <tr>\n",
       "      <th>5</th>\n",
       "      <td>6</td>\n",
       "      <td>0.052632</td>\n",
       "    </tr>\n",
       "    <tr>\n",
       "      <th>6</th>\n",
       "      <td>7</td>\n",
       "      <td>0.333333</td>\n",
       "    </tr>\n",
       "    <tr>\n",
       "      <th>7</th>\n",
       "      <td>8</td>\n",
       "      <td>0.000000</td>\n",
       "    </tr>\n",
       "  </tbody>\n",
       "</table>\n",
       "</div>"
      ],
      "text/plain": [
       "   family_size  Survived\n",
       "0            1  0.303538\n",
       "1            2  0.552795\n",
       "2            3  0.578431\n",
       "3            4  0.724138\n",
       "4            5  0.200000\n",
       "5            6  0.052632\n",
       "6            7  0.333333\n",
       "7            8  0.000000"
      ]
     },
     "execution_count": 15,
     "metadata": {},
     "output_type": "execute_result"
    }
   ],
   "source": [
    "# Create Family Size Column  →  + 1 for youself\n",
    "train_data[\"family_size\"] = train_data[\"SibSp\"] + train_data[\"Parch\"] + 1\n",
    "train_data_outliers[\"family_size\"] = train_data_outliers[\"SibSp\"] + train_data_outliers[\"Parch\"] + 1\n",
    "\n",
    "#Don´t forget to add in in the test_data too\n",
    "test_data[\"family_size\"] = test_data[\"SibSp\"] + test_data[\"Parch\"] + 1\n",
    "\n",
    "# Grouping by the Family Size\n",
    "train_data.groupby([\"family_size\"], as_index=False)[\"Survived\"].mean()"
   ]
  },
  {
   "cell_type": "code",
   "execution_count": 16,
   "metadata": {},
   "outputs": [
    {
     "name": "stderr",
     "output_type": "stream",
     "text": [
      "C:\\Users\\Mitko Stoychev\\anaconda3\\Lib\\site-packages\\seaborn\\_oldcore.py:1119: FutureWarning: use_inf_as_na option is deprecated and will be removed in a future version. Convert inf values to NaN before operating instead.\n",
      "  with pd.option_context('mode.use_inf_as_na', True):\n"
     ]
    },
    {
     "data": {
      "image/png": "[encoded data removed]",
      "text/plain": [
       "<Figure size 640x480 with 1 Axes>"
      ]
     },
     "metadata": {},
     "output_type": "display_data"
    }
   ],
   "source": [
    "# Exploring Fare Distribution\n",
    "sns.histplot(train_data[\"Fare\"], color=\"m\", kde=True)\n",
    "plt.title(\"Fare Distribution\")\n",
    "plt.xlabel(\"Fare\")\n",
    "plt.ylabel(\"Frequency\")\n",
    "plt.text(500, 300, \"Skewness: %.2f\" % train_data[\"Fare\"].skew(), fontsize=12)\n",
    "plt.show()"
   ]
  },
  {
   "cell_type": "markdown",
   "metadata": {},
   "source": [
    "As we can see, Fare distribution is very skewed to the left. This can lead to overweigth very high values in the model, even if it is scaled.\n",
    "\n",
    "In this case, it is better to transform it with the log function to reduce it´s skew.\n",
    "\n",
    "$$log1p = log(1+x)$$\n",
    "\n",
    "Remember to perform the inverse transformation to obtain the original value:\n",
    "\n",
    "$$expm1 = exp(x) - 1$$\n",
    "\n",
    "This process is done in the point → *2.3. Scaling the data*."
   ]
  },
  {
   "cell_type": "markdown",
   "metadata": {},
   "source": [
    "## 2. Data preparation\n",
    "In this section I´m going to manage the missing values, drop the unnesarry features and encode the categorical data.\n",
    "\n",
    "0.   PassengerId  → 881 non-null    → int64    → OK\n",
    "1.   Survived     → 881 non-null    → int64    → OK\n",
    "2.   Pclass       → 881 non-null    → int64    → OK (categorical data but already transformed like encoded ordinal data)\n",
    "3.   Name         → 881 non-null    → object   → **NOT OK** (categorical data → drop the column)\n",
    "4.   Sex          → 881 non-null    → object    → **NOT OK** (categorical data → encode to numerical)\n",
    "5.   Age          → 711 non-null    → float64   → **NOT OK** (missing values → fill with arithmetic mean)\n",
    "6.   SibSp        → 881 non-null    → int64     → OK\n",
    "7.   Parch        → 881 non-null    → int64     → OK\n",
    "8.   Ticket       → 881 non-null    → object    → **NOT OK** (categorical data → drop the column)\n",
    "9.   Fare         → 881 non-null    → float64   → OK (check for skewness)\n",
    "10.  Cabin        → 201 non-null    → object    → **NOT OK** (missing values → drop the column)\n",
    "11.  Embarked     → 879 non-null    → object    → **NOT OK** (categorical data → encode to numerical)\n",
    "12.  family_size  → 881 non-null    → int64     → OK"
   ]
  },
  {
   "cell_type": "code",
   "execution_count": 17,
   "metadata": {},
   "outputs": [
    {
     "name": "stdout",
     "output_type": "stream",
     "text": [
      "<class 'pandas.core.frame.DataFrame'>\n",
      "RangeIndex: 881 entries, 0 to 880\n",
      "Data columns (total 13 columns):\n",
      " #   Column       Non-Null Count  Dtype  \n",
      "---  ------       --------------  -----  \n",
      " 0   PassengerId  881 non-null    int64  \n",
      " 1   Survived     881 non-null    int64  \n",
      " 2   Pclass       881 non-null    int64  \n",
      " 3   Name         881 non-null    object \n",
      " 4   Sex          881 non-null    object \n",
      " 5   Age          711 non-null    float64\n",
      " 6   SibSp        881 non-null    int64  \n",
      " 7   Parch        881 non-null    int64  \n",
      " 8   Ticket       881 non-null    object \n",
      " 9   Fare         881 non-null    float64\n",
      " 10  Cabin        201 non-null    object \n",
      " 11  Embarked     879 non-null    object \n",
      " 12  family_size  881 non-null    int64  \n",
      "dtypes: float64(2), int64(6), object(5)\n",
      "memory usage: 89.6+ KB\n"
     ]
    }
   ],
   "source": [
    "train_data.info()"
   ]
  },
  {
   "cell_type": "code",
   "execution_count": 18,
   "metadata": {},
   "outputs": [
    {
     "name": "stdout",
     "output_type": "stream",
     "text": [
      "<class 'pandas.core.frame.DataFrame'>\n",
      "RangeIndex: 418 entries, 0 to 417\n",
      "Data columns (total 12 columns):\n",
      " #   Column       Non-Null Count  Dtype  \n",
      "---  ------       --------------  -----  \n",
      " 0   PassengerId  418 non-null    int64  \n",
      " 1   Pclass       418 non-null    int64  \n",
      " 2   Name         418 non-null    object \n",
      " 3   Sex          418 non-null    object \n",
      " 4   Age          332 non-null    float64\n",
      " 5   SibSp        418 non-null    int64  \n",
      " 6   Parch        418 non-null    int64  \n",
      " 7   Ticket       418 non-null    object \n",
      " 8   Fare         417 non-null    float64\n",
      " 9   Cabin        91 non-null     object \n",
      " 10  Embarked     418 non-null    object \n",
      " 11  family_size  418 non-null    int64  \n",
      "dtypes: float64(2), int64(5), object(5)\n",
      "memory usage: 39.3+ KB\n"
     ]
    }
   ],
   "source": [
    "test_data.info()"
   ]
  },
  {
   "cell_type": "markdown",
   "metadata": {},
   "source": [
    "### 2.1. Filling null values\n",
    "The missing values are in the columns:\n",
    "* Age → 570 non-null of 720 total values → fill with the arithmetic mean\n",
    "* Cabin → Just remove the column → not relevant for my simplified model\n",
    "* Fare → (**test_data**) → fill with median\n",
    "* Embarked → fill it with the most common value."
   ]
  },
  {
   "cell_type": "code",
   "execution_count": 19,
   "metadata": {},
   "outputs": [],
   "source": [
    "class AgeImputer(BaseEstimator, TransformerMixin):\n",
    "    \n",
    "    def fit(self, X, y=None):  # Since we don´t have really to do any fitting here\n",
    "        return self            # We´re going to return just the self object because fit function → returns BaseEstimator itself\n",
    "    \n",
    "    def transform(self, X):\n",
    "        imputer = SimpleImputer(strategy=\"mean\")\n",
    "        X[\"Age\"] = imputer.fit_transform(X[[\"Age\"]])\n",
    "        return X"
   ]
  },
  {
   "cell_type": "code",
   "execution_count": 20,
   "metadata": {
    "scrolled": true
   },
   "outputs": [],
   "source": [
    "train_data.drop([\"Cabin\"], axis=1, inplace=True)\n",
    "train_data_outliers.drop([\"Cabin\"], axis=1, inplace=True)\n",
    "test_data.drop([\"Cabin\"], axis=1, inplace=True)"
   ]
  },
  {
   "cell_type": "code",
   "execution_count": 21,
   "metadata": {},
   "outputs": [],
   "source": [
    "# one missing value , I decided to fill it with the median value which will not have an important effect on the prediction\n",
    "test_data[\"Fare\"].fillna(test_data[\"Fare\"].median(), inplace=True)\n",
    "train_data[\"Fare\"].fillna(test_data[\"Fare\"].median(), inplace=True)\n",
    "train_data_outliers[\"Fare\"].fillna(test_data[\"Fare\"].median(), inplace=True)"
   ]
  },
  {
   "cell_type": "code",
   "execution_count": 22,
   "metadata": {},
   "outputs": [],
   "source": [
    "# two missing value, fill with the mode\n",
    "test_data[\"Embarked\"].fillna(train_data[\"Embarked\"].mode()[0], inplace=True)\n",
    "train_data[\"Embarked\"].fillna(train_data[\"Embarked\"].mode()[0], inplace=True)\n",
    "train_data_outliers[\"Embarked\"].fillna(train_data[\"Embarked\"].mode()[0], inplace=True)"
   ]
  },
  {
   "cell_type": "markdown",
   "metadata": {},
   "source": [
    "### 2.2. Encoding Feature and droping unnecessary\n",
    "The categorical data can be found between the following columns:\n",
    "* Name → drop the column, not relevant for my simplified model\n",
    "* Sex → categorical data → encode\n",
    "* Embarked → categorical data → encode"
   ]
  },
  {
   "cell_type": "code",
   "execution_count": 23,
   "metadata": {},
   "outputs": [],
   "source": [
    "class FeatureEncoder(BaseEstimator, TransformerMixin):\n",
    "    def fit(self, X, y=None):\n",
    "        return self\n",
    "    \n",
    "    def transform(self, X):\n",
    "        ohe = OneHotEncoder(sparse_output=False)\n",
    "        \n",
    "        ct = make_column_transformer(\n",
    "            (ohe, [\"Sex\", \"Embarked\"]),\n",
    "        )\n",
    "        ct.set_output(transform=\"pandas\")\n",
    "        ohe_transform = ct.fit_transform(X)\n",
    "        X = pd.concat([X, ohe_transform], axis=1)\n",
    "        return X"
   ]
  },
  {
   "cell_type": "code",
   "execution_count": 24,
   "metadata": {},
   "outputs": [],
   "source": [
    "class FeatureDropper(BaseEstimator, TransformerMixin):\n",
    "    def fit(self, X, y=None):\n",
    "        return self\n",
    "\n",
    "    def transform(self, X):\n",
    "        return X.drop([\"Sex\", \"Embarked\", \"Name\", \"Ticket\", \"Cabin\"], axis=1, errors=\"ignore\")"
   ]
  },
  {
   "cell_type": "code",
   "execution_count": 25,
   "metadata": {},
   "outputs": [],
   "source": [
    "pipeline = Pipeline([\n",
    "    (\"ageimputer\", AgeImputer()),\n",
    "    (\"featureencoder\", FeatureEncoder()),\n",
    "    (\"featuredropper\", FeatureDropper())    \n",
    "    ])"
   ]
  },
  {
   "cell_type": "code",
   "execution_count": 26,
   "metadata": {},
   "outputs": [],
   "source": [
    "# DATA ALREADY PROCESSED\n",
    "train_data = pipeline.fit_transform(train_data)\n",
    "train_data_outliers = pipeline.fit_transform(train_data_outliers)\n",
    "test_data = pipeline.fit_transform(test_data)"
   ]
  },
  {
   "cell_type": "markdown",
   "metadata": {},
   "source": [
    "## 2.3. Scaling the data\n",
    "Before starting with the scaling process, first I will manage the skewness with the \"Fare\" feature."
   ]
  },
  {
   "cell_type": "code",
   "execution_count": 27,
   "metadata": {},
   "outputs": [
    {
     "name": "stderr",
     "output_type": "stream",
     "text": [
      "C:\\Users\\Mitko Stoychev\\anaconda3\\Lib\\site-packages\\seaborn\\_oldcore.py:1119: FutureWarning: use_inf_as_na option is deprecated and will be removed in a future version. Convert inf values to NaN before operating instead.\n",
      "  with pd.option_context('mode.use_inf_as_na', True):\n"
     ]
    },
    {
     "data": {
      "image/png": "[encoded data removed]",
      "text/plain": [
       "<Figure size 640x480 with 1 Axes>"
      ]
     },
     "metadata": {},
     "output_type": "display_data"
    }
   ],
   "source": [
    "# Exploring Fare Distribution\n",
    "sns.histplot(train_data[\"Fare\"], color=\"m\", kde=True)\n",
    "plt.title(\"Fare Distribution\")\n",
    "plt.xlabel(\"Fare\")\n",
    "plt.ylabel(\"Frequency\")\n",
    "plt.text(500, 300, \"Skewness: %.2f\" % train_data[\"Fare\"].skew(), fontsize=12)\n",
    "plt.show()"
   ]
  },
  {
   "cell_type": "code",
   "execution_count": 28,
   "metadata": {},
   "outputs": [
    {
     "name": "stderr",
     "output_type": "stream",
     "text": [
      "C:\\Users\\Mitko Stoychev\\anaconda3\\Lib\\site-packages\\sklearn\\base.py:432: UserWarning: X has feature names, but FunctionTransformer was fitted without feature names\n",
      "  warnings.warn(\n",
      "C:\\Users\\Mitko Stoychev\\anaconda3\\Lib\\site-packages\\sklearn\\base.py:432: UserWarning: X has feature names, but FunctionTransformer was fitted without feature names\n",
      "  warnings.warn(\n",
      "C:\\Users\\Mitko Stoychev\\anaconda3\\Lib\\site-packages\\sklearn\\base.py:432: UserWarning: X has feature names, but FunctionTransformer was fitted without feature names\n",
      "  warnings.warn(\n"
     ]
    }
   ],
   "source": [
    "# Apply log to Fare to reduce skewness distribution\n",
    "transformer = FunctionTransformer(np.log1p, validate=True)\n",
    "\n",
    "# Obtain logarithmic values\n",
    "train_data_transformed = transformer.transform(train_data[[\"Fare\"]])\n",
    "train_data_outliers_transformed = transformer.transform(train_data_outliers[[\"Fare\"]])\n",
    "test_data_transformed = transformer.transform(test_data[[\"Fare\"]])\n",
    "\n",
    "# Replace the real values with the logarithmic ones\n",
    "train_data[\"Fare\"] = train_data_transformed\n",
    "train_data_outliers[\"Fare\"] = train_data_outliers_transformed\n",
    "test_data[\"Fare\"] = test_data_transformed"
   ]
  },
  {
   "cell_type": "code",
   "execution_count": 29,
   "metadata": {},
   "outputs": [
    {
     "name": "stderr",
     "output_type": "stream",
     "text": [
      "C:\\Users\\Mitko Stoychev\\anaconda3\\Lib\\site-packages\\seaborn\\_oldcore.py:1119: FutureWarning: use_inf_as_na option is deprecated and will be removed in a future version. Convert inf values to NaN before operating instead.\n",
      "  with pd.option_context('mode.use_inf_as_na', True):\n"
     ]
    },
    {
     "data": {
      "image/png": "[encoded data removed]",
      "text/plain": [
       "<Figure size 640x480 with 1 Axes>"
      ]
     },
     "metadata": {},
     "output_type": "display_data"
    }
   ],
   "source": [
    "# Exploring Fare Distribution\n",
    "sns.histplot(train_data[\"Fare\"], color=\"m\", kde=True)\n",
    "plt.title(\"Fare Distribution\")\n",
    "plt.xlabel(\"Fare\")\n",
    "plt.ylabel(\"Frequency\")\n",
    "plt.text(6, 300, \"Skewness: %.2f\" % train_data[\"Fare\"].skew(), fontsize=12)\n",
    "plt.show()"
   ]
  },
  {
   "cell_type": "markdown",
   "metadata": {},
   "source": [
    "I can confirm that skewness is clearly reduced.\n",
    "\n",
    "I will now proceed to Feature Scaling with the Standarization method."
   ]
  },
  {
   "cell_type": "code",
   "execution_count": 30,
   "metadata": {},
   "outputs": [
    {
     "data": {
      "text/html": [
       "<div>\n",
       "<style scoped>\n",
       "    .dataframe tbody tr th:only-of-type {\n",
       "        vertical-align: middle;\n",
       "    }\n",
       "\n",
       "    .dataframe tbody tr th {\n",
       "        vertical-align: top;\n",
       "    }\n",
       "\n",
       "    .dataframe thead th {\n",
       "        text-align: right;\n",
       "    }\n",
       "</style>\n",
       "<table border=\"1\" class=\"dataframe\">\n",
       "  <thead>\n",
       "    <tr style=\"text-align: right;\">\n",
       "      <th></th>\n",
       "      <th>PassengerId</th>\n",
       "      <th>Survived</th>\n",
       "      <th>Pclass</th>\n",
       "      <th>onehotencoder__Sex_female</th>\n",
       "      <th>onehotencoder__Sex_male</th>\n",
       "      <th>onehotencoder__Embarked_C</th>\n",
       "      <th>onehotencoder__Embarked_Q</th>\n",
       "      <th>onehotencoder__Embarked_S</th>\n",
       "      <th>Age</th>\n",
       "      <th>SibSp</th>\n",
       "      <th>Parch</th>\n",
       "      <th>Fare</th>\n",
       "      <th>family_size</th>\n",
       "    </tr>\n",
       "  </thead>\n",
       "  <tbody>\n",
       "    <tr>\n",
       "      <th>0</th>\n",
       "      <td>1</td>\n",
       "      <td>0</td>\n",
       "      <td>3</td>\n",
       "      <td>0.0</td>\n",
       "      <td>1.0</td>\n",
       "      <td>0.0</td>\n",
       "      <td>0.0</td>\n",
       "      <td>1.0</td>\n",
       "      <td>-0.592011</td>\n",
       "      <td>0.625474</td>\n",
       "      <td>-0.458969</td>\n",
       "      <td>-0.872244</td>\n",
       "      <td>0.131479</td>\n",
       "    </tr>\n",
       "    <tr>\n",
       "      <th>1</th>\n",
       "      <td>2</td>\n",
       "      <td>1</td>\n",
       "      <td>1</td>\n",
       "      <td>1.0</td>\n",
       "      <td>0.0</td>\n",
       "      <td>1.0</td>\n",
       "      <td>0.0</td>\n",
       "      <td>0.0</td>\n",
       "      <td>0.633114</td>\n",
       "      <td>0.625474</td>\n",
       "      <td>-0.458969</td>\n",
       "      <td>1.400796</td>\n",
       "      <td>0.131479</td>\n",
       "    </tr>\n",
       "    <tr>\n",
       "      <th>2</th>\n",
       "      <td>3</td>\n",
       "      <td>1</td>\n",
       "      <td>3</td>\n",
       "      <td>1.0</td>\n",
       "      <td>0.0</td>\n",
       "      <td>0.0</td>\n",
       "      <td>0.0</td>\n",
       "      <td>1.0</td>\n",
       "      <td>-0.285730</td>\n",
       "      <td>-0.522532</td>\n",
       "      <td>-0.458969</td>\n",
       "      <td>-0.789882</td>\n",
       "      <td>-0.592476</td>\n",
       "    </tr>\n",
       "    <tr>\n",
       "      <th>3</th>\n",
       "      <td>4</td>\n",
       "      <td>1</td>\n",
       "      <td>1</td>\n",
       "      <td>1.0</td>\n",
       "      <td>0.0</td>\n",
       "      <td>0.0</td>\n",
       "      <td>0.0</td>\n",
       "      <td>1.0</td>\n",
       "      <td>0.403403</td>\n",
       "      <td>0.625474</td>\n",
       "      <td>-0.458969</td>\n",
       "      <td>1.097331</td>\n",
       "      <td>0.131479</td>\n",
       "    </tr>\n",
       "    <tr>\n",
       "      <th>4</th>\n",
       "      <td>5</td>\n",
       "      <td>0</td>\n",
       "      <td>3</td>\n",
       "      <td>0.0</td>\n",
       "      <td>1.0</td>\n",
       "      <td>0.0</td>\n",
       "      <td>0.0</td>\n",
       "      <td>1.0</td>\n",
       "      <td>0.403403</td>\n",
       "      <td>-0.522532</td>\n",
       "      <td>-0.458969</td>\n",
       "      <td>-0.775315</td>\n",
       "      <td>-0.592476</td>\n",
       "    </tr>\n",
       "  </tbody>\n",
       "</table>\n",
       "</div>"
      ],
      "text/plain": [
       "   PassengerId  Survived  Pclass  onehotencoder__Sex_female  \\\n",
       "0            1         0       3                        0.0   \n",
       "1            2         1       1                        1.0   \n",
       "2            3         1       3                        1.0   \n",
       "3            4         1       1                        1.0   \n",
       "4            5         0       3                        0.0   \n",
       "\n",
       "   onehotencoder__Sex_male  onehotencoder__Embarked_C  \\\n",
       "0                      1.0                        0.0   \n",
       "1                      0.0                        1.0   \n",
       "2                      0.0                        0.0   \n",
       "3                      0.0                        0.0   \n",
       "4                      1.0                        0.0   \n",
       "\n",
       "   onehotencoder__Embarked_Q  onehotencoder__Embarked_S       Age     SibSp  \\\n",
       "0                        0.0                        1.0 -0.592011  0.625474   \n",
       "1                        0.0                        0.0  0.633114  0.625474   \n",
       "2                        0.0                        1.0 -0.285730 -0.522532   \n",
       "3                        0.0                        1.0  0.403403  0.625474   \n",
       "4                        0.0                        1.0  0.403403 -0.522532   \n",
       "\n",
       "      Parch      Fare  family_size  \n",
       "0 -0.458969 -0.872244     0.131479  \n",
       "1 -0.458969  1.400796     0.131479  \n",
       "2 -0.458969 -0.789882    -0.592476  \n",
       "3 -0.458969  1.097331     0.131479  \n",
       "4 -0.458969 -0.775315    -0.592476  "
      ]
     },
     "execution_count": 30,
     "metadata": {},
     "output_type": "execute_result"
    }
   ],
   "source": [
    "scaler = StandardScaler()\n",
    "columns_to_scale = [\"Age\", \"SibSp\", \"Parch\", \"Fare\", \"family_size\"]\n",
    "\n",
    "# Extract the subset of columns to scale\n",
    "train_data_subset = train_data[columns_to_scale]\n",
    "train_data_outliers_subset = train_data_outliers[columns_to_scale]\n",
    "test_data_subset = test_data[columns_to_scale]\n",
    "\n",
    "# Fit and transform the training data with the scaler\n",
    "train_data_scaled = scaler.fit_transform(train_data_subset)\n",
    "train_data_scaled = pd.DataFrame(train_data_scaled, columns=columns_to_scale)\n",
    "# Transform the outliers data using the same scaler\n",
    "train_data_outliers_scaled = scaler.transform(train_data_outliers_subset)\n",
    "train_data_outliers_scaled = pd.DataFrame(train_data_outliers_scaled, columns=columns_to_scale)\n",
    "# Fit and transform the test data with the scaler\n",
    "test_data_scaled = scaler.fit_transform(test_data_subset)\n",
    "test_data_scaled = pd.DataFrame(test_data_scaled, columns=columns_to_scale)\n",
    "\n",
    "# Concatenate the scaled columns with the original datasets\n",
    "train_data = pd.concat([train_data.drop(columns=columns_to_scale), train_data_scaled], axis=1)\n",
    "train_data_outliers = pd.concat([train_data_outliers.drop(columns=columns_to_scale), train_data_outliers_scaled], axis=1)\n",
    "# Concatenate the scaled columns with the original datasets\n",
    "test_data = pd.concat([test_data.drop(columns=columns_to_scale), test_data_scaled], axis=1)\n",
    "\n",
    "train_data.head(5)"
   ]
  },
  {
   "cell_type": "markdown",
   "metadata": {},
   "source": [
    "# 3. Modeling \n",
    "### <font color=\"red\">  *without outliers* <font>"
   ]
  },
  {
   "cell_type": "code",
   "execution_count": 31,
   "metadata": {},
   "outputs": [],
   "source": [
    "# Define X and y\n",
    "X_train = train_data.drop([\"Survived\"], axis=1)\n",
    "y_train = train_data[\"Survived\"]"
   ]
  },
  {
   "cell_type": "markdown",
   "metadata": {},
   "source": [
    "## 3.1. Simple Modelling\n",
    "### 3.1.1. Cross Validation Modelling\n",
    "I compared 4 popular classifiers and evaluate the mean accuracy of each of them by a stratified kfold cross validation procedure.\n",
    "In my prediction I´m going to use the next 4 models:\n",
    "1. Decision Tree\n",
    "2. Random Forest\n",
    "3. KNN\r",
    "4. \n",
    "Logistic regression"
   ]
  },
  {
   "cell_type": "code",
   "execution_count": 32,
   "metadata": {},
   "outputs": [],
   "source": [
    "# Cross validate model with Kfold stratified cross val\n",
    "kfold = StratifiedKFold(n_splits=10)"
   ]
  },
  {
   "cell_type": "code",
   "execution_count": 33,
   "metadata": {},
   "outputs": [],
   "source": [
    "random_state = 7\n",
    "\n",
    "# Define the models\n",
    "model_dtc = DecisionTreeClassifier(random_state=random_state)\n",
    "model_rfc = RandomForestClassifier(random_state=random_state)\n",
    "model_KNN = KNeighborsClassifier()\n",
    "model_lg = LogisticRegression(random_state = random_state)\n",
    "model_gbc = GradientBoostingClassifier(random_state = random_state)\n",
    "\n",
    "# append the models in a list\n",
    "classifier_models = []\n",
    "classifier_models.append(model_dtc)\n",
    "classifier_models.append(model_rfc)\n",
    "classifier_models.append(model_KNN)\n",
    "classifier_models.append(model_lg)\n",
    "classifier_models.append(model_gbc)"
   ]
  },
  {
   "cell_type": "code",
   "execution_count": 34,
   "metadata": {},
   "outputs": [],
   "source": [
    "# Cross Validation Modelling\n",
    "cv_results = []\n",
    "for curr_model in classifier_models :\n",
    "    cv_results.append(cross_val_score(\n",
    "        curr_model, \n",
    "        X_train, \n",
    "        y = y_train, \n",
    "        scoring = \"accuracy\", \n",
    "        cv = kfold, \n",
    "        n_jobs=-1     #I have only one CPU\n",
    "    ))"
   ]
  },
  {
   "cell_type": "code",
   "execution_count": 35,
   "metadata": {},
   "outputs": [
    {
     "data": {
      "text/plain": [
       "[array([0.48314607, 0.76136364, 0.72727273, 0.61363636, 0.65909091,\n",
       "        0.76136364, 0.84090909, 0.77272727, 0.80681818, 0.80681818]),\n",
       " array([0.69662921, 0.79545455, 0.72727273, 0.82954545, 0.89772727,\n",
       "        0.81818182, 0.84090909, 0.78409091, 0.84090909, 0.85227273]),\n",
       " array([0.41573034, 0.61363636, 0.36363636, 0.46590909, 0.40909091,\n",
       "        0.46590909, 0.375     , 0.45454545, 0.44318182, 0.61363636]),\n",
       " array([0.79775281, 0.78409091, 0.76136364, 0.875     , 0.78409091,\n",
       "        0.77272727, 0.78409091, 0.78409091, 0.78409091, 0.81818182]),\n",
       " array([0.57303371, 0.73863636, 0.76136364, 0.78409091, 0.84090909,\n",
       "        0.81818182, 0.82954545, 0.76136364, 0.82954545, 0.84090909])]"
      ]
     },
     "execution_count": 35,
     "metadata": {},
     "output_type": "execute_result"
    }
   ],
   "source": [
    "cv_results"
   ]
  },
  {
   "cell_type": "code",
   "execution_count": 36,
   "metadata": {},
   "outputs": [],
   "source": [
    "cv_means = []\n",
    "for cv_result in cv_results:\n",
    "    cv_means.append(cv_result.mean())\n",
    "\n",
    "cv_res = pd.DataFrame({\"cross_val_mean\": cv_means, \"Algorithms\": [\"Decision Tree\", \"Random Forest\", \"K-Nearest Neighbors\", \"Logistic Regression\", \"Gradient Boosting\"]})"
   ]
  },
  {
   "cell_type": "code",
   "execution_count": 37,
   "metadata": {},
   "outputs": [
    {
     "data": {
      "image/png": "[encoded data removed]",
      "text/plain": [
       "<Figure size 640x480 with 1 Axes>"
      ]
     },
     "metadata": {},
     "output_type": "display_data"
    }
   ],
   "source": [
    "plot = sns.barplot(x=\"cross_val_mean\", y=\"Algorithms\",data = cv_res, orient = \"h\")\n",
    "plot.set_xlabel(\"Mean Accuracy\")\n",
    "plot = plot.set_title(\"Cross validation scores\")"
   ]
  },
  {
   "cell_type": "markdown",
   "metadata": {},
   "source": [
    "## 3.1.2 Hyperparameter optimization for best models\n",
    "I performed a Grid Search Optimization for RanfomForestClassifier and GradientBoostingClassifier."
   ]
  },
  {
   "cell_type": "code",
   "execution_count": 38,
   "metadata": {},
   "outputs": [
    {
     "data": {
      "text/plain": [
       "0.8320224719101124"
      ]
     },
     "execution_count": 38,
     "metadata": {},
     "output_type": "execute_result"
    }
   ],
   "source": [
    "# RANDOM FOREST CLASSIFIER  → OPTIMIZATION\n",
    "## Search grid for optimal parameters\n",
    "param_grid_rfc = {\n",
    "    \"max_depth\": [None, 3, 5, 10],\n",
    "    \"min_samples_split\": [2, 8, 10, 15],\n",
    "    \"min_samples_leaf\": [1, 3, 5, 8, 10],\n",
    "    \"criterion\": [\"gini\", \"entropy\"]\n",
    "}\n",
    "\n",
    "gs_rfc = GridSearchCV(model_rfc, param_grid = param_grid_rfc, cv=kfold, scoring=\"accuracy\", n_jobs= -1) # n_jobs= -1, I have only 1 cpu\n",
    "gs_rfc.fit(X_train, y_train)\n",
    "\n",
    "rfc_best = gs_rfc.best_estimator_\n",
    "\n",
    "# Best score\n",
    "gs_rfc.best_score_"
   ]
  },
  {
   "cell_type": "code",
   "execution_count": 39,
   "metadata": {},
   "outputs": [
    {
     "data": {
      "text/plain": [
       "0.8286006128702759"
      ]
     },
     "execution_count": 39,
     "metadata": {},
     "output_type": "execute_result"
    }
   ],
   "source": [
    "# GRADIENT BOOSTING CLASSIFIER  → OPTIMIZATION\n",
    "param_grid_gbc = {\n",
    "    'loss' : [\"deviance\", \"exponential\"],\n",
    "    'n_estimators' : [100, 200, 300],\n",
    "    'learning_rate': [0.1, 0.05, 0.01],\n",
    "    'max_depth': [3, 4, 8],\n",
    "    'min_samples_leaf': [4, 5, 6],\n",
    "    \"criterion\": [\"friedman_mse\",  \"squared_error\"]\n",
    "}\n",
    "\n",
    "gs_gbc = GridSearchCV(model_gbc, param_grid = param_grid_gbc, cv=kfold, scoring=\"accuracy\", n_jobs= -1)  # n_jobs= -1, I have only 1 cpu\n",
    "\n",
    "gs_gbc.fit(X_train, y_train)\n",
    "\n",
    "gbc_best = gs_gbc.best_estimator_\n",
    "\n",
    "# Best score\n",
    "gs_gbc.best_score_"
   ]
  },
  {
   "cell_type": "markdown",
   "metadata": {},
   "source": [
    "### 3.1.3 Plot learning curves\r\n",
    "Learning curves are a good way to see the overfitting effect on the training set and the effect of the training size on the accuracy."
   ]
  },
  {
   "cell_type": "code",
   "execution_count": 40,
   "metadata": {},
   "outputs": [],
   "source": [
    "def plot_learning_curve(estimator, title, X, y, ylim=(0, 1.2) , cv=None,\n",
    "                        n_jobs=None, train_sizes=np.linspace(.1, 1.0, 5)):\n",
    "    \"\"\"\n",
    "    Generate a simple plot of the test and training learning curve.\n",
    "    \"\"\"\n",
    "    plt.figure()\n",
    "    plt.title(title)\n",
    "    plt.ylim(*ylim)\n",
    "    plt.xlabel(\"Training examples\")\n",
    "    plt.ylabel(\"Score\")\n",
    "    \n",
    "    train_sizes, train_scores, test_scores = learning_curve(estimator, X, y, cv=cv, n_jobs=n_jobs, train_sizes=train_sizes)\n",
    "    \n",
    "    train_scores_mean = np.mean(train_scores, axis=1)\n",
    "    train_scores_std = np.std(train_scores, axis=1)\n",
    "    test_scores_mean = np.mean(test_scores, axis=1)\n",
    "    test_scores_std = np.std(test_scores, axis=1)\n",
    "    plt.grid()\n",
    "\n",
    "    plt.fill_between(train_sizes, train_scores_mean - train_scores_std, train_scores_mean + train_scores_std, alpha=0.1, color=\"r\")\n",
    "    plt.fill_between(train_sizes, test_scores_mean - test_scores_std, test_scores_mean + test_scores_std, alpha=0.1, color=\"g\")\n",
    "    plt.plot(train_sizes, train_scores_mean, 'o-', color=\"r\", label=\"Training score\")\n",
    "    plt.plot(train_sizes, test_scores_mean, 'o-', color=\"g\", label=\"Cross-validation score\")\n",
    "    plt.legend(loc=\"best\")\n",
    "    \n",
    "    return plt"
   ]
  },
  {
   "cell_type": "code",
   "execution_count": 41,
   "metadata": {},
   "outputs": [
    {
     "data": {
      "image/png": "[encoded data removed]",
      "text/plain": [
       "<Figure size 640x480 with 1 Axes>"
      ]
     },
     "metadata": {},
     "output_type": "display_data"
    },
    {
     "data": {
      "image/png": "[encoded data removed]",
      "text/plain": [
       "<Figure size 640x480 with 1 Axes>"
      ]
     },
     "metadata": {},
     "output_type": "display_data"
    },
    {
     "data": {
      "image/png": "[encoded data removed]",
      "text/plain": [
       "<Figure size 640x480 with 1 Axes>"
      ]
     },
     "metadata": {},
     "output_type": "display_data"
    },
    {
     "data": {
      "image/png": "[encoded data removed]",
      "text/plain": [
       "<Figure size 640x480 with 1 Axes>"
      ]
     },
     "metadata": {},
     "output_type": "display_data"
    },
    {
     "data": {
      "image/png": "[encoded data removed]",
      "text/plain": [
       "<Figure size 640x480 with 1 Axes>"
      ]
     },
     "metadata": {},
     "output_type": "display_data"
    }
   ],
   "source": [
    "# Plot learning curves for Decision Tree Classifier\n",
    "plot_learning_curve(model_dtc, \"Decision Tree Learning Curve\", X_train, y_train, cv=kfold, n_jobs=-1)\n",
    "\n",
    "# Plot learning curves for Random Forest Classifier\n",
    "plot_learning_curve(model_rfc, \"Random Forest Learning Curve\", X_train, y_train, cv=kfold, n_jobs=-1)\n",
    "\n",
    "# Plot learning curves for K-Nearest Neighbors (KNN)\n",
    "plot_learning_curve(model_KNN, \"K-Nearest Neighbors Learning Curve\", X_train, y_train, cv=kfold, n_jobs=-1)\n",
    "\n",
    "# Plot learning curves for Logistic Regression\n",
    "plot_learning_curve(model_lg, \"Logistic Regression Learning Curve\", X_train, y_train, cv=kfold, n_jobs=-1)\n",
    "\n",
    "# Plot learning curves for Gradient Boosting Classifier\n",
    "plot_learning_curve(model_gbc, \"Gradient Boosting Learning Curve\", X_train, y_train, cv=kfold, n_jobs=-1)\n",
    "\n",
    "plt.show()"
   ]
  },
  {
   "cell_type": "markdown",
   "metadata": {},
   "source": [
    "Random Forest Classifier, a learning curve like this suggests that the model is working well on the dataset.\n",
    "\n",
    "Gradient Boosting, the decrease in the training score and the stabilization of the cross-validation score are positive indicators that the model is learning properly and generalizing well to unseen data."
   ]
  },
  {
   "cell_type": "markdown",
   "metadata": {},
   "source": [
    "## 3.2 Ensemble modeling\n",
    "### 3.2.1 Combining models\n",
    "I choosed a Voting Classifier to combine the predictions coming from the 2 classifiers.\n",
    "\n",
    "I´ve selected the argument \"soft\" wich predicts the class label based on the argmax of the sums of the predicted probabilities, which is recommended for an ensemble of well-calibrated classifiers."
   ]
  },
  {
   "cell_type": "code",
   "execution_count": 42,
   "metadata": {},
   "outputs": [],
   "source": [
    "voting_classifier = VotingClassifier(estimators=[('rfc', rfc_best), ('gbc', gbc_best)], voting='soft', n_jobs=-1)\n",
    "\n",
    "voting_classifier = voting_classifier.fit(X_train, y_train)"
   ]
  },
  {
   "cell_type": "markdown",
   "metadata": {},
   "source": [
    "# 4. Prediction\n",
    "I will submit 3 results:\n",
    "* Random Forest Classifier\n",
    "* Gradient Boosting Classifier\n",
    "* Ensemble Model from them both\n",
    "\n",
    "Then I´ll repeat the process with the data, but I will not eliminate the outliers from the data and I´ll train the model again.\n",
    "My first idea is that will not improve the result, but we´ll see.\n",
    "That´s about Data Science, so let´s experiment with the data =)\n",
    "## 4.1. Predict and submit results\n",
    "<font color=\"green\">  ***without outliers*** <font>"
   ]
  },
  {
   "cell_type": "code",
   "execution_count": 49,
   "metadata": {},
   "outputs": [],
   "source": [
    "X_test = test_data"
   ]
  },
  {
   "cell_type": "code",
   "execution_count": 50,
   "metadata": {},
   "outputs": [],
   "source": [
    "# random forest classifier\n",
    "model_rfc.fit(X_train, y_train)\n",
    "prediction_rfc = model_rfc.predict(X_test)\n",
    "\n",
    "# random forest classifier tunned\n",
    "prediction_rfc_optimized = gs_rfc.predict(X_test)\n",
    "\n",
    "# gradient boosting classifier\n",
    "model_gbc.fit(X_train, y_train)\n",
    "prediction_gbc = model_gbc.predict(X_test)\n",
    "\n",
    "# gradient boosting classifier tunned\n",
    "prediction_gbc_optimized = gs_gbc.predict(X_test)\n",
    "\n",
    "# Ensemble Model \n",
    "prediction_ensambe = voting_classifier.predict(X_test)"
   ]
  },
  {
   "cell_type": "code",
   "execution_count": 51,
   "metadata": {},
   "outputs": [],
   "source": [
    "submission_1 = pd.DataFrame({\n",
    "    \"PassengerId\": test_data[\"PassengerId\"], \n",
    "    \"Survived\": prediction_rfc    \n",
    "})\n",
    "\n",
    "submission_2 = pd.DataFrame({\n",
    "    \"PassengerId\": test_data[\"PassengerId\"], \n",
    "    \"Survived\": prediction_rfc_optimized      \n",
    "})\n",
    "\n",
    "submission_3= pd.DataFrame({\n",
    "    \"PassengerId\": test_data[\"PassengerId\"], \n",
    "    \"Survived\": prediction_gbc    \n",
    "})\n",
    "\n",
    "submission_4 = pd.DataFrame({\n",
    "    \"PassengerId\": test_data[\"PassengerId\"], \n",
    "    \"Survived\": prediction_gbc_optimized       \n",
    "})\n",
    "\n",
    "submission_5 = pd.DataFrame({\n",
    "    \"PassengerId\": test_data[\"PassengerId\"], \n",
    "    \"Survived\": prediction_ensambe       \n",
    "})"
   ]
  },
  {
   "cell_type": "code",
   "execution_count": 52,
   "metadata": {},
   "outputs": [],
   "source": [
    "#Export it to CSV file for Kaggle Competition\n",
    "submission_1.to_csv(\"kaggle solutions/submission_1.csv\", index=False)\n",
    "submission_2.to_csv(\"kaggle solutions/submission_2.csv\", index=False)\n",
    "submission_3.to_csv(\"kaggle solutions/submission_3.csv\", index=False)\n",
    "submission_4.to_csv(\"kaggle solutions/submission_4.csv\", index=False)\n",
    "submission_5.to_csv(\"kaggle solutions/submission_5.csv\", index=False)"
   ]
  },
  {
   "attachments": {
    "f1e95d0b-fa07-4f4b-9f49-6bada72e7ff2.png": {
     "image/png": "[encoded data removed]"
    }
   },
   "cell_type": "markdown",
   "metadata": {},
   "source": [
    "![image.png](attachment:f1e95d0b-fa07-4f4b-9f49-6bada72e7ff2.png)"
   ]
  },
  {
   "cell_type": "markdown",
   "metadata": {},
   "source": [
    "## 4.2. Predict and submit results\n",
    "<font color=\"green\">  ***with outliers*** <font>"
   ]
  },
  {
   "cell_type": "code",
   "execution_count": 53,
   "metadata": {},
   "outputs": [],
   "source": [
    "# Define X and y → with outliers\n",
    "X_train_outliers = train_data_outliers.drop([\"Survived\"], axis=1)\n",
    "y_train_outliers = train_data_outliers[\"Survived\"]\n",
    "\n",
    "# train rfc model\n",
    "model_rfc.fit(X_train_outliers, y_train_outliers)\n",
    "\n",
    "#prediction rfc\n",
    "prediction_rfc = model_rfc.predict(X_test)\n",
    "\n",
    "#Grid search for rfc\n",
    "gs_rfc_outlier = GridSearchCV(model_rfc, param_grid = param_grid_rfc, cv=kfold, scoring=\"accuracy\", n_jobs= -1)\n",
    "\n",
    "#train rfc optimized model\n",
    "rfc_optimized = gs_rfc_outlier.fit(X_train_outliers, y_train_outliers)\n",
    "\n",
    "#save rfc best estimator\n",
    "rfc_best_outier = gs_rfc_outlier.best_estimator_\n",
    "\n",
    "#predict rfc optimized model\n",
    "prediction_rfc_optimized = rfc_optimized.predict(X_test)"
   ]
  },
  {
   "cell_type": "code",
   "execution_count": 54,
   "metadata": {},
   "outputs": [
    {
     "name": "stderr",
     "output_type": "stream",
     "text": [
      "C:\\Users\\Mitko Stoychev\\anaconda3\\Lib\\site-packages\\sklearn\\ensemble\\_gb.py:280: FutureWarning: The loss parameter name 'deviance' was deprecated in v1.1 and will be removed in version 1.3. Use the new parameter name 'log_loss' which is equivalent.\n",
      "  warnings.warn(\n"
     ]
    }
   ],
   "source": [
    "# train gbc\n",
    "model_gbc.fit(X_train_outliers, y_train_outliers)\n",
    "\n",
    "# prediction gbc\n",
    "prediction_gbc = model_gbc.predict(X_test)\n",
    "\n",
    "# grid search for gbc\n",
    "gs_gbc_outlier = GridSearchCV(model_gbc, param_grid = param_grid_gbc, cv=kfold, scoring=\"accuracy\", n_jobs= -1) \n",
    "\n",
    "# train gbc optimized model\n",
    "gbc_optimized = gs_gbc.fit(X_train_outliers, y_train_outliers)\n",
    "\n",
    "#save gbc best estimator\n",
    "gbc_best = gs_gbc.best_estimator_\n",
    "\n",
    "# predict gbc optimized model\n",
    "prediction_gbc_optimized = gbc_optimized.predict(X_test)"
   ]
  },
  {
   "cell_type": "code",
   "execution_count": 55,
   "metadata": {},
   "outputs": [],
   "source": [
    "# ensemble model\n",
    "voting_classifier = VotingClassifier(estimators=[('rfc', rfc_best_outier), ('gbc', gbc_best)], voting='soft', n_jobs=-1)\n",
    "\n",
    "voting_classifier = voting_classifier.fit(X_train_outliers, y_train_outliers)\n",
    "\n",
    "prediction_ensambe = voting_classifier.predict(X_test)"
   ]
  },
  {
   "cell_type": "code",
   "execution_count": 56,
   "metadata": {},
   "outputs": [],
   "source": [
    "submission_6 = pd.DataFrame({\n",
    "    \"PassengerId\": test_data[\"PassengerId\"], \n",
    "    \"Survived\": prediction_rfc    \n",
    "})\n",
    "\n",
    "submission_7 = pd.DataFrame({\n",
    "    \"PassengerId\": test_data[\"PassengerId\"], \n",
    "    \"Survived\": prediction_rfc_optimized      \n",
    "})\n",
    "\n",
    "submission_8= pd.DataFrame({\n",
    "    \"PassengerId\": test_data[\"PassengerId\"], \n",
    "    \"Survived\": prediction_gbc    \n",
    "})\n",
    "\n",
    "submission_9 = pd.DataFrame({\n",
    "    \"PassengerId\": test_data[\"PassengerId\"], \n",
    "    \"Survived\": prediction_gbc       \n",
    "})\n",
    "\n",
    "submission_10 = pd.DataFrame({\n",
    "    \"PassengerId\": test_data[\"PassengerId\"], \n",
    "    \"Survived\": prediction_ensambe       \n",
    "})"
   ]
  },
  {
   "cell_type": "code",
   "execution_count": 57,
   "metadata": {},
   "outputs": [],
   "source": [
    "#Export it to CSV file for Kaggle Competition\n",
    "submission_6.to_csv(\"kaggle solutions/submission_6.csv\", index=False)\n",
    "submission_7.to_csv(\"kaggle solutions/submission_7.csv\", index=False)\n",
    "submission_8.to_csv(\"kaggle solutions/submission_8.csv\", index=False)\n",
    "submission_9.to_csv(\"kaggle solutions/submission_9.csv\", index=False)\n",
    "submission_10.to_csv(\"kaggle solutions/submission_10.csv\", index=False)"
   ]
  },
  {
   "attachments": {
    "21a75379-8a98-44c8-8b8f-da9d1110dc7c.png": {
     "image/png": "[encoded data removed]"
    }
   },
   "cell_type": "markdown",
   "metadata": {},
   "source": [
    "![image.png](attachment:21a75379-8a98-44c8-8b8f-da9d1110dc7c.png)"
   ]
  },
  {
   "cell_type": "code",
   "execution_count": null,
   "metadata": {},
   "outputs": [],
   "source": []
  }
 ],
 "metadata": {
  "kernelspec": {
   "display_name": "Python 3 (ipykernel)",
   "language": "python",
   "name": "python3"
  },
  "language_info": {
   "codemirror_mode": {
    "name": "ipython",
    "version": 3
   },
   "file_extension": ".py",
   "mimetype": "text/x-python",
   "name": "python",
   "nbconvert_exporter": "python",
   "pygments_lexer": "ipython3",
   "version": "3.11.7"
  }
 },
 "nbformat": 4,
 "nbformat_minor": 4
}
