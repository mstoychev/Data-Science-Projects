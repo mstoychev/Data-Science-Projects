{
 "cells": [
  {
   "cell_type": "markdown",
   "id": "595e56ec-1255-49f8-8e19-a14f414c3512",
   "metadata": {},
   "source": [
    "# Work Absenteeism\n",
    "***+ Tableau Dashboard***\n",
    "\n",
    "Mitko Stoychev Dimitrov\n",
    "\n",
    "17/06/2024 "
   ]
  },
  {
   "cell_type": "markdown",
   "id": "815c0120-d20b-4882-a1e8-233db196e805",
   "metadata": {},
   "source": [
    "This notebook is one of my first Data Science projects. Since this notebook is intended to be my work **portfolio** to simulate a real work environment, I will focus this project on business. \n",
    "\n",
    "In the business environment, Data Science projects usually have **3 components** or phases:\n",
    "1. Business Analytics\n",
    "2. Machine Learning\n",
    "3. Productivization"
   ]
  },
  {
   "cell_type": "code",
   "execution_count": null,
   "id": "eb90e6cb-544e-4326-ac30-862d3f56fee0",
   "metadata": {},
   "outputs": [],
   "source": []
  },
  {
   "cell_type": "code",
   "execution_count": null,
   "id": "0728459d-40c4-490f-acfd-b8bfc5aaadad",
   "metadata": {},
   "outputs": [],
   "source": []
  },
  {
   "cell_type": "code",
   "execution_count": null,
   "id": "6f48b9d5-053d-43c1-a379-b0a5a6c3cd43",
   "metadata": {},
   "outputs": [],
   "source": []
  },
  {
   "cell_type": "code",
   "execution_count": null,
   "id": "27157442-1764-49ac-aeab-67d72d84bba0",
   "metadata": {},
   "outputs": [],
   "source": []
  },
  {
   "cell_type": "code",
   "execution_count": null,
   "id": "a0161ccc-8deb-4650-b09e-b371e1901e13",
   "metadata": {},
   "outputs": [],
   "source": []
  },
  {
   "cell_type": "code",
   "execution_count": null,
   "id": "6e9fd7f7-0897-4a14-a34f-8b73a65ecd05",
   "metadata": {},
   "outputs": [],
   "source": []
  },
  {
   "cell_type": "code",
   "execution_count": null,
   "id": "348dce26-483b-4e03-a79f-f8c584daaf6c",
   "metadata": {},
   "outputs": [],
   "source": []
  }
 ],
 "metadata": {
  "kernelspec": {
   "display_name": "Python 3 (ipykernel)",
   "language": "python",
   "name": "python3"
  },
  "language_info": {
   "codemirror_mode": {
    "name": "ipython",
    "version": 3
   },
   "file_extension": ".py",
   "mimetype": "text/x-python",
   "name": "python",
   "nbconvert_exporter": "python",
   "pygments_lexer": "ipython3",
   "version": "3.11.7"
  }
 },
 "nbformat": 4,
 "nbformat_minor": 5
}
