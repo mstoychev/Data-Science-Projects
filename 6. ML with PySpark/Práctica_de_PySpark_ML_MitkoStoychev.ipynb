{
  "nbformat": 4,
  "nbformat_minor": 0,
  "metadata": {
    "colab": {
      "provenance": []
    },
    "kernelspec": {
      "name": "python3",
      "display_name": "Python 3"
    },
    "language_info": {
      "name": "python"
    }
  },
  "cells": [
    {
      "cell_type": "markdown",
      "source": [
        "# Práctica de PySpark Machine Learning"
      ],
      "metadata": {
        "id": "fYtLrPV8mY_y"
      }
    },
    {
      "cell_type": "markdown",
      "source": [
        "## 1. Objetivo"
      ],
      "metadata": {
        "id": "XtXMFW64mgoA"
      }
    },
    {
      "cell_type": "markdown",
      "source": [
        "Dado el siguente dataset:\n",
        "\n",
        "https://raw.githubusercontent.com/stedy/Machine-Learning-with-R-datasets/master/insurance.csv\n",
        "\n",
        "Cuyas variables representan:\n",
        "\n",
        "* age: edad del beneficiario principal\n",
        "* sex: género del contratante del seguro, femenino, masculino\n",
        "* bmi: índice de masa corporal, que proporciona una comprensión del cuerpo, de los pesos que son relativamente altos o bajos en relación con la altura, índice objetivo de peso corporal (kg / m ^ 2) utilizando la relación entre la altura y el peso, idealmente entre 18,5 y 24,9.\n",
        "* children: número de hijos cubiertos por el seguro de salud / número de dependientes\n",
        "* smoker: si fuma o no\n",
        "* region: área de residencia del beneficiario en EE. UU., noreste, sureste, suroeste, noroeste.\n",
        "* charges: costos médicos individuales facturados por el seguro de salud.\n",
        "\n",
        "\n",
        "1. Utilizando la API de pandas de PySpark, realiza un EDA del dataset anterior.\n",
        "2. Luego conviertelós a un DataFrame de Spark normal, realiza las conversiones necesarias para poder hacer machine learning (StringIndexer, StandardScaler, VectorAssembler...) y aplica un modelo de regresión lineal usando pyspark.ml\n",
        "\n",
        "La variable objetivo a predecir sería **charges**."
      ],
      "metadata": {
        "id": "vezhXvOemHaf"
      }
    },
    {
      "cell_type": "markdown",
      "source": [
        "## 2. Analytics"
      ],
      "metadata": {
        "id": "5MRcLP_Bmub-"
      }
    },
    {
      "cell_type": "markdown",
      "source": [
        "### 2.1. Load Libraries"
      ],
      "metadata": {
        "id": "6sbHUPcVLRpz"
      }
    },
    {
      "cell_type": "code",
      "source": [
        "# Install pyspark\n",
        "!pip install pyspark\n",
        "\n",
        "!apt-get install openjdk-8-jdk-headless -qq > /dev/null\n",
        "\n",
        "import os\n",
        "\n",
        "os.environ[\"JAVA_HOME\"] = \"/usr/lib/jvm/java-8-openjdk-amd64\""
      ],
      "metadata": {
        "colab": {
          "base_uri": "https://localhost:8080/"
        },
        "id": "GE6NU3_7llSd",
        "outputId": "bc306e11-b0fe-4ec4-869c-6c0e8314b62f"
      },
      "execution_count": 1,
      "outputs": [
        {
          "output_type": "stream",
          "name": "stdout",
          "text": [
            "Requirement already satisfied: pyspark in /usr/local/lib/python3.10/dist-packages (3.5.1)\n",
            "Requirement already satisfied: py4j==0.10.9.7 in /usr/local/lib/python3.10/dist-packages (from pyspark) (0.10.9.7)\n"
          ]
        }
      ]
    },
    {
      "cell_type": "code",
      "source": [
        "# Import libraries for EDA\n",
        "%matplotlib inline\n",
        "import pyspark.pandas as ps\n",
        "import numpy as np\n",
        "import matplotlib.pyplot as plt\n",
        "from collections import Counter"
      ],
      "metadata": {
        "id": "vpKqMwcsllVS"
      },
      "execution_count": 64,
      "outputs": []
    },
    {
      "cell_type": "markdown",
      "source": [
        "### 2.2. Load the data"
      ],
      "metadata": {
        "id": "dmdZy9uRoMVS"
      }
    },
    {
      "cell_type": "code",
      "source": [
        "df = ps.read_csv(\"insurance.csv\", sep=\",\")\n",
        "df.head(10)"
      ],
      "metadata": {
        "colab": {
          "base_uri": "https://localhost:8080/",
          "height": 0
        },
        "id": "U4UZ4FLUoIg4",
        "outputId": "3adbedee-91dd-4222-c627-741afc99ada9"
      },
      "execution_count": 3,
      "outputs": [
        {
          "output_type": "stream",
          "name": "stderr",
          "text": [
            "/usr/local/lib/python3.10/dist-packages/pyspark/pandas/utils.py:1016: PandasAPIOnSparkAdviceWarning: If `index_col` is not specified for `read_csv`, the default index is attached which can cause additional overhead.\n",
            "  warnings.warn(message, PandasAPIOnSparkAdviceWarning)\n"
          ]
        },
        {
          "output_type": "execute_result",
          "data": {
            "text/plain": [
              "   age     sex     bmi  children smoker     region      charges\n",
              "0   19  female  27.900         0    yes  southwest  16884.92400\n",
              "1   18    male  33.770         1     no  southeast   1725.55230\n",
              "2   28    male  33.000         3     no  southeast   4449.46200\n",
              "3   33    male  22.705         0     no  northwest  21984.47061\n",
              "4   32    male  28.880         0     no  northwest   3866.85520\n",
              "5   31  female  25.740         0     no  southeast   3756.62160\n",
              "6   46  female  33.440         1     no  southeast   8240.58960\n",
              "7   37  female  27.740         3     no  northwest   7281.50560\n",
              "8   37    male  29.830         2     no  northeast   6406.41070\n",
              "9   60  female  25.840         0     no  northwest  28923.13692"
            ],
            "text/html": [
              "<div>\n",
              "<style scoped>\n",
              "    .dataframe tbody tr th:only-of-type {\n",
              "        vertical-align: middle;\n",
              "    }\n",
              "\n",
              "    .dataframe tbody tr th {\n",
              "        vertical-align: top;\n",
              "    }\n",
              "\n",
              "    .dataframe thead th {\n",
              "        text-align: right;\n",
              "    }\n",
              "</style>\n",
              "<table border=\"1\" class=\"dataframe\">\n",
              "  <thead>\n",
              "    <tr style=\"text-align: right;\">\n",
              "      <th></th>\n",
              "      <th>age</th>\n",
              "      <th>sex</th>\n",
              "      <th>bmi</th>\n",
              "      <th>children</th>\n",
              "      <th>smoker</th>\n",
              "      <th>region</th>\n",
              "      <th>charges</th>\n",
              "    </tr>\n",
              "  </thead>\n",
              "  <tbody>\n",
              "    <tr>\n",
              "      <th>0</th>\n",
              "      <td>19</td>\n",
              "      <td>female</td>\n",
              "      <td>27.900</td>\n",
              "      <td>0</td>\n",
              "      <td>yes</td>\n",
              "      <td>southwest</td>\n",
              "      <td>16884.92400</td>\n",
              "    </tr>\n",
              "    <tr>\n",
              "      <th>1</th>\n",
              "      <td>18</td>\n",
              "      <td>male</td>\n",
              "      <td>33.770</td>\n",
              "      <td>1</td>\n",
              "      <td>no</td>\n",
              "      <td>southeast</td>\n",
              "      <td>1725.55230</td>\n",
              "    </tr>\n",
              "    <tr>\n",
              "      <th>2</th>\n",
              "      <td>28</td>\n",
              "      <td>male</td>\n",
              "      <td>33.000</td>\n",
              "      <td>3</td>\n",
              "      <td>no</td>\n",
              "      <td>southeast</td>\n",
              "      <td>4449.46200</td>\n",
              "    </tr>\n",
              "    <tr>\n",
              "      <th>3</th>\n",
              "      <td>33</td>\n",
              "      <td>male</td>\n",
              "      <td>22.705</td>\n",
              "      <td>0</td>\n",
              "      <td>no</td>\n",
              "      <td>northwest</td>\n",
              "      <td>21984.47061</td>\n",
              "    </tr>\n",
              "    <tr>\n",
              "      <th>4</th>\n",
              "      <td>32</td>\n",
              "      <td>male</td>\n",
              "      <td>28.880</td>\n",
              "      <td>0</td>\n",
              "      <td>no</td>\n",
              "      <td>northwest</td>\n",
              "      <td>3866.85520</td>\n",
              "    </tr>\n",
              "    <tr>\n",
              "      <th>5</th>\n",
              "      <td>31</td>\n",
              "      <td>female</td>\n",
              "      <td>25.740</td>\n",
              "      <td>0</td>\n",
              "      <td>no</td>\n",
              "      <td>southeast</td>\n",
              "      <td>3756.62160</td>\n",
              "    </tr>\n",
              "    <tr>\n",
              "      <th>6</th>\n",
              "      <td>46</td>\n",
              "      <td>female</td>\n",
              "      <td>33.440</td>\n",
              "      <td>1</td>\n",
              "      <td>no</td>\n",
              "      <td>southeast</td>\n",
              "      <td>8240.58960</td>\n",
              "    </tr>\n",
              "    <tr>\n",
              "      <th>7</th>\n",
              "      <td>37</td>\n",
              "      <td>female</td>\n",
              "      <td>27.740</td>\n",
              "      <td>3</td>\n",
              "      <td>no</td>\n",
              "      <td>northwest</td>\n",
              "      <td>7281.50560</td>\n",
              "    </tr>\n",
              "    <tr>\n",
              "      <th>8</th>\n",
              "      <td>37</td>\n",
              "      <td>male</td>\n",
              "      <td>29.830</td>\n",
              "      <td>2</td>\n",
              "      <td>no</td>\n",
              "      <td>northeast</td>\n",
              "      <td>6406.41070</td>\n",
              "    </tr>\n",
              "    <tr>\n",
              "      <th>9</th>\n",
              "      <td>60</td>\n",
              "      <td>female</td>\n",
              "      <td>25.840</td>\n",
              "      <td>0</td>\n",
              "      <td>no</td>\n",
              "      <td>northwest</td>\n",
              "      <td>28923.13692</td>\n",
              "    </tr>\n",
              "  </tbody>\n",
              "</table>\n",
              "</div>"
            ]
          },
          "metadata": {},
          "execution_count": 3
        }
      ]
    },
    {
      "cell_type": "markdown",
      "source": [
        "### 2.3. Data Quality"
      ],
      "metadata": {
        "id": "hlmnCiyspQAZ"
      }
    },
    {
      "cell_type": "markdown",
      "source": [
        "Data Quality Analysis phase, ensuring the integrity and usability of data is crucial. Here are the steps that I will follow to check the data quality:\n",
        "\n",
        "1. Check for Missing Values (Null Data)\n",
        "* Identify Missing Values: Use functions like isnull() or isna() in pandas to identify missing values.\n",
        "* Quantify Missing Values: Determine the percentage of missing values in each column to understand the extent of the issue.\n",
        "* Handle Missing Values: Decide on a strategy to handle missing values, such as: remove or impute missing data.\n",
        "\n",
        "2. Check for Duplicate Data\n",
        "\n",
        "* Identify Duplicates: Use functions like duplicated() to find duplicate rows.\n",
        "* Remove Duplicates: Remove duplicates using drop_duplicates().\n",
        "\n",
        "3. Check for Inconsistent Data\n",
        "\n",
        "* Consistency Checks: Ensure that categorical data values are consistent. For example, check for variations in the category names(\"USA\" vs \"U.S.A\" vs \"United States\")\n",
        "* Standardization: Standardize categorical variables to a consistent format.\n",
        "\n",
        "4. Check for Outliers\n",
        "* Identify Outliers: Use visualizations (box plots, scatter plots) and statistical methods (Z-score, IQR) to detect outliers.\n",
        "* Handle Outliers: Decide whether to remove, transform, or keep outliers based on their impact on the analysis."
      ],
      "metadata": {
        "id": "9yIx4MazpbT-"
      }
    },
    {
      "cell_type": "markdown",
      "source": [
        "#### 2.3.1. Check for Null Data"
      ],
      "metadata": {
        "id": "4JQzLygJL4jD"
      }
    },
    {
      "cell_type": "code",
      "source": [
        "print(df.isna().sum().sort_values(ascending=False))\n",
        "\n",
        "df.info()"
      ],
      "metadata": {
        "colab": {
          "base_uri": "https://localhost:8080/"
        },
        "id": "_hlswzrdL9EW",
        "outputId": "7705e0aa-74f3-41db-82be-9a708b576ee7"
      },
      "execution_count": 49,
      "outputs": [
        {
          "output_type": "stream",
          "name": "stdout",
          "text": [
            "age         0\n",
            "sex         0\n",
            "bmi         0\n",
            "children    0\n",
            "smoker      0\n",
            "region      0\n",
            "charges     0\n",
            "dtype: int64\n",
            "<class 'pyspark.pandas.frame.DataFrame'>\n",
            "Int64Index: 1338 entries, 0 to 1337\n",
            "Data columns (total 7 columns):\n",
            " #   Column    Non-Null Count  Dtype  \n",
            "---  ------    --------------  -----  \n",
            " 0   age       1338 non-null   int32  \n",
            " 1   sex       1338 non-null   object \n",
            " 2   bmi       1338 non-null   float64\n",
            " 3   children  1338 non-null   int32  \n",
            " 4   smoker    1338 non-null   object \n",
            " 5   region    1338 non-null   object \n",
            " 6   charges   1338 non-null   float64\n",
            "dtypes: float64(2), int32(2), object(3)"
          ]
        }
      ]
    },
    {
      "cell_type": "markdown",
      "source": [
        "Conclusions:\n",
        "* There are not any null data."
      ],
      "metadata": {
        "id": "pLJe7Ds9MYzL"
      }
    },
    {
      "cell_type": "markdown",
      "source": [
        "#### 2.3.2. Check for Duplicate Data"
      ],
      "metadata": {
        "id": "HcPXpgP6MpAI"
      }
    },
    {
      "cell_type": "code",
      "source": [
        "ps.options.compute.ops_on_diff_frames = True\n",
        "\n",
        "df[df.duplicated() == True]"
      ],
      "metadata": {
        "colab": {
          "base_uri": "https://localhost:8080/",
          "height": 0
        },
        "id": "EE1Dzl1TO51M",
        "outputId": "2171a578-bac5-45e2-cd15-f22341b92c17"
      },
      "execution_count": 50,
      "outputs": [
        {
          "output_type": "execute_result",
          "data": {
            "text/plain": [
              "     age   sex    bmi  children smoker     region    charges\n",
              "581   19  male  30.59         0     no  northwest  1639.5631"
            ],
            "text/html": [
              "<div>\n",
              "<style scoped>\n",
              "    .dataframe tbody tr th:only-of-type {\n",
              "        vertical-align: middle;\n",
              "    }\n",
              "\n",
              "    .dataframe tbody tr th {\n",
              "        vertical-align: top;\n",
              "    }\n",
              "\n",
              "    .dataframe thead th {\n",
              "        text-align: right;\n",
              "    }\n",
              "</style>\n",
              "<table border=\"1\" class=\"dataframe\">\n",
              "  <thead>\n",
              "    <tr style=\"text-align: right;\">\n",
              "      <th></th>\n",
              "      <th>age</th>\n",
              "      <th>sex</th>\n",
              "      <th>bmi</th>\n",
              "      <th>children</th>\n",
              "      <th>smoker</th>\n",
              "      <th>region</th>\n",
              "      <th>charges</th>\n",
              "    </tr>\n",
              "  </thead>\n",
              "  <tbody>\n",
              "    <tr>\n",
              "      <th>581</th>\n",
              "      <td>19</td>\n",
              "      <td>male</td>\n",
              "      <td>30.59</td>\n",
              "      <td>0</td>\n",
              "      <td>no</td>\n",
              "      <td>northwest</td>\n",
              "      <td>1639.5631</td>\n",
              "    </tr>\n",
              "  </tbody>\n",
              "</table>\n",
              "</div>"
            ]
          },
          "metadata": {},
          "execution_count": 50
        }
      ]
    },
    {
      "cell_type": "markdown",
      "source": [
        "Conclusions:\n",
        "* There are not any duplicated registers."
      ],
      "metadata": {
        "id": "8Q6tMzTIN_wt"
      }
    },
    {
      "cell_type": "markdown",
      "source": [
        "#### 2.3.3. Check for Inconsistent data"
      ],
      "metadata": {
        "id": "j8HF-mRLRFV2"
      }
    },
    {
      "cell_type": "code",
      "source": [
        "categorical_data = df.select_dtypes(\"O\")\n",
        "numerical_data = df.select_dtypes(\"number\")\n",
        "\n",
        "for col in categorical_data.columns:\n",
        "    print(col)\n",
        "    print(categorical_data[col].unique())\n",
        "    print(\"*********************************************************\")"
      ],
      "metadata": {
        "colab": {
          "base_uri": "https://localhost:8080/"
        },
        "id": "iDW1u9dLOzuh",
        "outputId": "dd83918a-c82b-4c19-a11c-9324e39496e3"
      },
      "execution_count": 51,
      "outputs": [
        {
          "output_type": "stream",
          "name": "stdout",
          "text": [
            "sex\n",
            "0    female\n",
            "1      male\n",
            "Name: sex, dtype: object\n",
            "*********************************************************\n",
            "smoker\n",
            "0     no\n",
            "1    yes\n",
            "Name: smoker, dtype: object\n",
            "*********************************************************\n",
            "region\n",
            "0    northwest\n",
            "1    southeast\n",
            "2    northeast\n",
            "3    southwest\n",
            "Name: region, dtype: object\n",
            "*********************************************************\n"
          ]
        }
      ]
    },
    {
      "cell_type": "markdown",
      "source": [
        "Conclusions:\n",
        "* It seems the categorical data is correct and there are not any inconsistency."
      ],
      "metadata": {
        "id": "0WUsaHRDRpX3"
      }
    },
    {
      "cell_type": "markdown",
      "source": [
        "#### 2.3.4. Check for outliers"
      ],
      "metadata": {
        "id": "ao6IbL8ETSZD"
      }
    },
    {
      "cell_type": "code",
      "source": [
        "def outlier_detection(data, features):\n",
        "    \"\"\"\n",
        "    Takes a dataframe and a list of the columns that is decided to apply Tukey´s method for detecting outliers.\n",
        "    Returns a list of indices that are considered outliers.\n",
        "    \"\"\"\n",
        "    outlier_indices = []\n",
        "    n = 2 # treshold\n",
        "\n",
        "    # Iterate over each feature\n",
        "    for col in features:\n",
        "        # Calculate quartiles\n",
        "        Q1 = np.percentile(data[col], 25)\n",
        "        Q3 = np.percentile(data[col], 75)\n",
        "        # Interquartile range (IQR)\n",
        "        IQR = Q3 - Q1\n",
        "\n",
        "        # Determine the index of the outliers for feature col\n",
        "        outlier_list_col = data[(data[col] < Q1 - 1.5 * IQR) | (data[col] > Q3 + 1.5 * IQR)].index\n",
        "\n",
        "        # Append indices of outliers for every col\n",
        "        outlier_indices.extend(outlier_list_col)\n",
        "\n",
        "    # Count occurrences of each index\n",
        "    outlier_count = Counter(outlier_indices)\n",
        "\n",
        "    # Select indices with more than n outliers\n",
        "    multiple_outliers = [index for index, count in outlier_count.items() if count > n]\n",
        "\n",
        "    return multiple_outliers"
      ],
      "metadata": {
        "id": "gQrQF9YPRDMo"
      },
      "execution_count": 52,
      "outputs": []
    },
    {
      "cell_type": "code",
      "source": [
        "outliers_to_drop = outlier_detection(numerical_data, numerical_data.columns)\n",
        "print(outliers_to_drop)"
      ],
      "metadata": {
        "colab": {
          "base_uri": "https://localhost:8080/"
        },
        "id": "LaQw2nesTado",
        "outputId": "f016c8d4-3095-45d5-f1a8-031cd881cdff"
      },
      "execution_count": 53,
      "outputs": [
        {
          "output_type": "stream",
          "name": "stdout",
          "text": [
            "[]\n"
          ]
        }
      ]
    },
    {
      "cell_type": "markdown",
      "source": [
        "Conclusions:\n",
        "- There are not any outliers due to Tukey´s outliers detection method."
      ],
      "metadata": {
        "id": "Mspa9mM8TtHv"
      }
    },
    {
      "cell_type": "markdown",
      "source": [
        "### 2.4. EDA Categorical Data"
      ],
      "metadata": {
        "id": "toDCxWT2X8vv"
      }
    },
    {
      "cell_type": "code",
      "source": [
        "categorical_data.columns"
      ],
      "metadata": {
        "colab": {
          "base_uri": "https://localhost:8080/"
        },
        "id": "pzww_oCpfKsa",
        "outputId": "1c6e0499-a997-43cf-f779-586dba5d55be"
      },
      "execution_count": 67,
      "outputs": [
        {
          "output_type": "execute_result",
          "data": {
            "text/plain": [
              "Index(['sex', 'smoker', 'region'], dtype='object')"
            ]
          },
          "metadata": {},
          "execution_count": 67
        }
      ]
    },
    {
      "cell_type": "code",
      "source": [
        "from pyspark.pandas.utils import PandasAPIOnSparkAdviceWarning\n",
        "# Suppress specific warnings\n",
        "warnings.filterwarnings(\"ignore\", category=PandasAPIOnSparkAdviceWarning)\n",
        "warnings.filterwarnings(\"ignore\", category=UserWarning)\n",
        "\n",
        "\n",
        "for col in categorical_data.columns:\n",
        "    plt.figure(figsize=(8, 5))\n",
        "    value_counts = categorical_data[col].value_counts()\n",
        "    plt.barh(value_counts.index.tolist(), value_counts.values.tolist())  # Convert to list\n",
        "    plt.title(col, fontsize=12, fontweight=\"bold\")\n",
        "    plt.xlabel('Count', fontsize=10)\n",
        "    plt.ylabel(col, fontsize=10)\n",
        "    plt.show()\n",
        "    plt.close()"
      ],
      "metadata": {
        "colab": {
          "base_uri": "https://localhost:8080/",
          "height": 1000
        },
        "id": "MiCRJzg_hAK-",
        "outputId": "9b2d778b-da6f-4434-ecca-818bf7788d34"
      },
      "execution_count": 83,
      "outputs": [
        {
          "output_type": "display_data",
          "data": {
            "text/plain": [
              "<Figure size 800x500 with 1 Axes>"
            ],
            "image/png": "[encoded data removed]"
          },
          "metadata": {}
        },
        {
          "output_type": "display_data",
          "data": {
            "text/plain": [
              "<Figure size 800x500 with 1 Axes>"
            ],
            "image/png": "[encoded data removed]"
          },
          "metadata": {}
        },
        {
          "output_type": "display_data",
          "data": {
            "text/plain": [
              "<Figure size 800x500 with 1 Axes>"
            ],
            "image/png": "[encoded data removed]"
          },
          "metadata": {}
        }
      ]
    },
    {
      "cell_type": "code",
      "source": [],
      "metadata": {
        "id": "p-WLEpshhJKr"
      },
      "execution_count": null,
      "outputs": []
    }
  ]
}